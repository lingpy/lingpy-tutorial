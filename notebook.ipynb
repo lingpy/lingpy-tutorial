{
 "cells": [
  {
   "cell_type": "markdown",
   "metadata": {},
   "source": [
    "# Sequence Comparison with LingPy\n",
    "\n",
    "\n",
    "This tutorial will run you through the major steps needed in order to infer cognates automatically with [LingPy](http://lingpy.org) ([List and Forkel 2017](http://bibliography.lingpy.org?key=List2017i)) from linguistic word list data and to export the data into various formats so that you can either inspect them using tools like the [EDICTOR](http://edictor.digling.org) ([List 2017](http://bibliography.lingpy.org?key=List2017d)), or further analyse them, using software like [SplitsTree](http://splitstree.org) ([Huson 1998](http://bibliography.lingpy.org?key=Huson1998)) or [BEAST](http://www.beast2.org) ([Bouckaert et al. 2014](http://bibliography.lingpy.org?key=Bouckaert2014)).\n",
    "\n",
    "Basically, this tutorial assumes that you have at least an undergraduate level understanding of historical linguistics (particularly the basic methods used in historical language comparison, often summarized under the label \"comparative method\"), requiring only working knowledge of Python and command line operation.\n",
    "\n",
    "It is required that you have installed both LingPy in the version [2.6](https://github.com/lingpy/lingpy/releases/tag/v2.6) for Python3 (as this tutorial will assume that you use Python3) available on [GitHub](https://github.com/lingpy/lingpy), and (as a plus) the [python-igraph](http://igraph.org) package ([Csárdi and Nepusz 2006](http://bibliography.lingpy.org?key=Csardi2006)). Furthermore, in order to follow all examples given in this tutorial, it is useful to work with the [IPython](http://ipython.org) suite, which is very convenient for testing code pieces directly against the Python interpreter.\n",
    "\n",
    "The tutorial is divided into different blocks, during which different aspects of sequence comparison will be illustrated from the concrete perspective of LingPy. In order to understand fully all that is going on, however, this tutorial won't be sufficient, and it is recommended that those who are interested in the algorithmic and conceptual details of LingPy's major algorithms for sequence comparison have a closer look at the book [Sequence Comparison in Historical Linguistics](https://sequencecomparison.github.io) ([List 2014](http://bibliography.lingpy.org?key=List2014d)) in which the most comprehensive state of the art is reflected. More recent papers might occasionally be mentioned in order to account for those aspects of sequence comparison which have been changed since then, but the book on sequence comparison (which is also freely available for download) is still the best starting point.\n",
    "\n",
    "The tutorial is divided into the following parts:\n",
    "\n",
    "1. Hands on the Data: Preparing, Loading, and Testing Word List Data\n",
    "2. Phonetic Alignment\n",
    "3. Automatic Cognate Detection\n",
    "4. Evaluation\n",
    "5. Exporting the Data"
   ]
  },
  {
   "cell_type": "markdown",
   "metadata": {},
   "source": [
    "## 1 Installation Instructions"
   ]
  },
  {
   "cell_type": "markdown",
   "metadata": {},
   "source": [
    "### 1.1 Confirming that Python and LingPy are not installed\n",
    "\n",
    "In order to proceed with LingPy installation, make sure you have at least a standard Python interpreter installed. Open a command prompt and run the command below, which, if Python is installed, will return a message informing the version of Python that is installed (something similar to `\"Python 2.7.12\"`).\n",
    "\n",
    "```shell\n",
    "$ python --version\n",
    "```\n",
    "\n",
    "In case you are using or planning to use Python 3, the command below will return something like `\"Python 3.5.2\"`.\n",
    "\n",
    "```shell\n",
    "$ python3 --version\n",
    "```\n",
    "\n",
    "To verify if LingPy is installed you can either run your Python interpreter and try to load the library with `import lingpy` (which will return an `ImportError` if the library is missing) or copy and paste the command below to your command prompt (changing `python` to `python3` if needed).\n",
    "\n",
    "```shell\n",
    "$ python -c \"import pkgutil; print('LingPy is installed' if pkgutil.find_loader('lingpy') else 'LingPy is not installed')\"\n",
    "```"
   ]
  },
  {
   "cell_type": "markdown",
   "metadata": {},
   "source": [
    "### 1.2 Updating and preparing the system\n",
    "\n",
    "Before proceeding with LingPy installation, make sure your system is up to date. Here we reproduce the commands for the most common Linux distributions, but most of them have similar or equivalent commands.\n",
    "\n",
    "```shell\n",
    "sudo apt update && sudo apt upgrade # for Debian/Ubuntu Systems\n",
    "yum update # for Fedora\n",
    "pacman -Syu # for Arch systems\n",
    "```\n",
    "\n",
    "Following the best practices of Python development, we recommend you install LingPy and all its dependencies with the `pip` package manager. `pip` is included in all recent version of Python, but your distribution might have removed it. You can check if `pip` is installed by running the command below, which should return a message like `pip 9.0.1 from /usr/local/lib/python3.5/dist-packages (python 3.5)` (depending on your setup, the command might be `pip3` for Python 3).\n",
    "\n",
    "```shell\n",
    "$ pip --version\n",
    "```\n",
    "\n",
    "If `pip` is not installed, we recommended that you [properly install `pip` according to its instructions](https://pip.pypa.io/en/stable/installing/) instead of relying on your distribution repositories, which might be outdated and can lead to errors and conflicts. If you want to use Python3, but have also Python2 installed (which is the norm), make sure that `pip` is pointing to the correct Python version (on some machines, the Python3 version is, for example, called `pip3`)."
   ]
  },
  {
   "cell_type": "markdown",
   "metadata": {},
   "source": [
    "### 1.3 Installing LingPy\n",
    "\n",
    "The LingPy library can be installed either by using the packaged version on the Python Package Index (PyPI) or by making a full local copy of the development file on GitHub (some information can also be found at the [LingPy documentation page](http://lingpy.org/tutorial/installation.html)). The first alternative is recommended if you are new to Python and to LingPy, while the second is the best choice if you plan to contribute to LingPy development or alter it (in which case, however, you should be proficient enough with `git` to fork or branch the repository and should probably use a virtual environment). In any case, both alternatives work in the same way for the purposes of this tutorial.\n"
   ]
  },
  {
   "cell_type": "markdown",
   "metadata": {},
   "source": [
    "#### 1.3.1 Installing from PyPi\n",
    "\n",
    "The simplest alternative is to install LingPy using the standard software repositories (with `pip`) and installing locally (in the user directory, without superuser permission, with the `--user` flag) with the following command:\n",
    "\n",
    "```shell\n",
    "pip install --user lingpy\n",
    "```"
   ]
  },
  {
   "cell_type": "markdown",
   "metadata": {},
   "source": [
    "#### 1.3.2 Installing from git\n",
    "\n",
    "When installing the development version (which most users won't need, we only mention it here for completeness) you will locally clone the `git` repositories and instruct `pip` to use the local copy as source, so that any changes to the code can immediately be used without having to package lingpy or submit a pull request to the authors. You must make sure you have `git` properly installed by running the `git --version` command and installing `git` if needed; in some systems, you will probably also need some development tools and libraries. For Debian/Ubuntu systems, everything should be installed with the command below:\n",
    "\n",
    "```shell\n",
    "sudo apt install git build-essential python-dev python3-dev\n",
    "```\n",
    "\n",
    "When all dependencies are installed, you can clone lingpy's repository and install it with `pip` in development mode:\n",
    "\n",
    "```shell\n",
    "git clone https://github.com/lingpy/lingpy.git\n",
    "pip install --user -e lingpy\n",
    "```\n",
    "\n",
    "This command might take some time to finish, as it might need to download and install dependencies such as numpy, appdirs, etc. (those are listed in the `requirements.txt` file)."
   ]
  },
  {
   "cell_type": "markdown",
   "metadata": {},
   "source": [
    "### 1.4 Configuring LingPy\n",
    "\n",
    "If LingPy was not installed, it is recommended you import it one first time from the command line, so that it can configure itself and preprocess some data, such as sound profiles, graphemes, etc. Just enter the command below in your command line, which can result on a long list of information on the configuration phase; once it is finished, you should be ready to proceed with the tutorial:\n",
    "\n",
    "```shell\n",
    "$ python -c \"import lingpy\"\n",
    "```"
   ]
  },
  {
   "cell_type": "markdown",
   "metadata": {},
   "source": [
    "### 1.5 Installing additional software required for this tutorial\n",
    "\n",
    "For all scripts in this tutorial to run, a couple of additional software tools will need to be installed. For automatic segmentation, you will need to install the *segments* package:\n",
    "\n",
    "* https://github.com/bambooforest/segments/\n",
    "\n",
    "This package can either be installed via git (from GitHub), or via PyPi.\n",
    "\n",
    "For the Infomap cluster analyses, you will need the python-igraph package. If you want to test these analyses, please visit their homepage at [http://igraph.org/](http://igraph.org/) and see for further installation instructions, as they may vary from machine to machine, and thei offer an excellent support.\n",
    "\n",
    "For export to the CLDF format (see below), you need to install the pycldf package:\n",
    "\n",
    "* https://github.com/cldf/pycldf/\n",
    "\n",
    "Here again, you can either choose to install via git and GitHub, or via PyPi.\n"
   ]
  },
  {
   "cell_type": "markdown",
   "metadata": {},
   "source": [
    "### 1.6 Additional software, not required, but recommended\n",
    "\n",
    "While not required, installing [IPython](http://ipython.org) should improve your experience when following this tutorial and with LingPy in general. Furthermore, when installing the whole [jupyter](http://jupyter.org/) suite, you will be able to launch this tutorial and follow all steps interactively."
   ]
  },
  {
   "cell_type": "markdown",
   "metadata": {},
   "source": [
    "## 2 Hands on the Data\n",
    "\n"
   ]
  },
  {
   "cell_type": "markdown",
   "metadata": {},
   "source": [
    "### 2.1 The Testset\n",
    "\n",
    "Linguists are often skeptical when they hear that LingPy requires explicit phonetic transcriptions, and often, they are even reluctant to interpret their data along the lines of the International Phonetic Alphabet. But in order to give the algorithms a fair chance to interpret the data in the same way in which they would be interpreted by linguists, a general practice for phonetic transcriptions is indispensable. \n",
    "\n",
    "For our test, we will use a dataset consisting of 30 Polynesian languages taken from the [ABVD](http://language.psy.auckland.ac.nz/austronesian/) ([Greenhill et al. 2008](http://bibliography.lingpy.org?key=Greenhill2008)). This dataset was intensively verified and revised according to primary source data from widely accepted published works (dictionaries and online databases) and first-hand knowledge of a Polynesian linguist. Revisions included: correcting invalid entries, reordering misplaced segments, adding missing segments, modifying ambiguous transcription conventions, and deleting semantically distant forms for concepts with multiple entries. The dataset was additionally cleaned by converting the various original transcriptions into a valid version of IPA accepted by LingPy (for details, see 2.4 below). The testset is located in the same folder in which you also find this interactive tutorial, which we provide in various formats. In the following, we will assume that you opened the terminal in this folder (or ``cd``ed into this folder after opening your terminal). \n"
   ]
  },
  {
   "cell_type": "markdown",
   "metadata": {},
   "source": [
    "### 2.2 The Input Format\n",
    "\n",
    "Let us start by quickly examining the file `polynesian.tsv` which we prepared for this occasion. This file is a tab-separated text file with the first row indicating the header, and the very first column is reserved for numeric identifiers. If you open this file in a spreadsheet editor (and make sure to select \"tab\" as a delimiter, and NO characters to delimit a cell), will see that it is a very straightforward spreadsheet, in which the first row is a header indicating the names of the columns, and the first cell is reserved for an identifier, which should be numeric (but order does not matter).\n",
    "\n",
    "|   ID | DOCULECT        | CONCEPT   | GLOTTOCODE   |   CONCEPTICON_ID | VALUE   | FORM   | TOKENS   | VARIANTS   | SOURCE                 |   COGID |\n",
    "|-----:|:----------------|:----------|:-------------|-----------------:|:--------|:-------|:---------|:-----------|:-----------------------|--------:|\n",
    "| 7435 | Anuta           | Eight     | anut1237     |             1705 | varu    | varu   | v a r u  |            | POLLEX                 |     663 |\n",
    "| 3591 | East_Futunan    | Eight     | east2447     |             1705 | valu    | valu   | v a l u  | valu       | POLLEX                 |     663 |\n",
    "| 1401 | Emae            | Eight     | emae1237     |             1705 | βaru    | βaru   | β a r u  |            | 52375                  |     663 |\n",
    "| 5359 | Futuna_Aniwa    | Eight     | futu1245     |             1705 | varu    | varu   | v a r u  |            | POLLEX                 |     663 |\n",
    "| 5614 | Hawaiian        | Eight     | hawa1245     |             1705 | walu    | walu   | w a l u  |            | 71458                  |     663 |\n",
    "|  949 | Kapingamarangi  | Eight     | kapi1249     |             1705 | walu    | walu   | w a l u  | waru       | POLLEX                 |     663 |\n",
    "| 2114 | Luangiua        | Eight     | onto1237     |             1705 | valu    | valu   | v a l u  |            | POLLEX                 |     663 |\n",
    "| 1853 | Mangareva       | Eight     | mang1401     |             1705 | varu    | varu   | v a r u  |            | POLLEX                 |     663 |\n",
    "|  725 | Maori           | Eight     | maor1246     |             1705 | waru    | waru   | w a r u  |            | Biggs-85-2005          |     663 |\n",
    "| 4201 | Mele_Fila       | Eight     | mele1250     |             1705 | eβaru   | eβaru  | β a r u  |            | 52375                  |     663 |\n",
    "| 4855 | Niuean          | Eight     | niue1239     |             1705 | valu    | valu   | v a l u  |            | POLLEX                 |     663 |\n",
    "| 3297 | North_Marquesan | Eight     | nort2845     |             1705 | va'u    | va'u   | v a ʔ u  |            | POLLEX                 |     663 |\n",
    "| 6362 | Nukuria         | Eight     | nuku1259     |             1705 | varu    | varu   | v a r u  |            | Davletshin-1212-2015   |     663 |\n",
    "| 6152 | Penryhn         | Eight     | penr1237     |             1705 | varu    | varu   | v a r u  |            | POLLEX                 |     663 |\n",
    "| 3897 | Pukapuka        | Eight     | puka1242     |             1705 | valu    | valu   | v a l u  |            | Salisbury-152-2005     |     663 |\n",
    "| 1595 | Rapanui         | Eight     | rapa1244     |             1705 | va'u    | va'u   | v a ʔ u  |            | POLLEX                 |     663 |\n",
    "| 5850 | Rarotongan      | Eight     | raro1241     |             1705 | varu    | varu   | v a r u  |            | POLLEX                 |     663 |\n",
    "| 4395 | Ra’ivavae       | Eight     | aust1304     |             1705 | vaGu    | vaGu   | v a ɢ u  |            | Tamaititahio-1213-2015 |     663 |\n",
    "| 6914 | Rennell_Bellona | Eight     | renn1242     |             1705 | baŋgu   | baŋgu  | b a ŋg u |            | POLLEX                 |     663 |\n",
    "| 5101 | Rurutuan        | Eight     | aust1304     |             1705 | vaʔu    | vaʔu   | v a ʔ u  |            | Meyer-128-2005         |     663 |\n",
    "| 6623 | Samoan          | Eight     | samo1305     |             1705 | valu    | valu   | v a l u  |            | Blust-118-2005         |     663 |\n",
    "| 3076 | Sikaiana        | Eight     | sika1261     |             1705 | valu    | valu   | v a l u  |            | POLLEX                 |     663 |\n",
    "| 1169 | Tahitian        | Eight     | tahi1242     |             1705 | va'u    | va'u   | v a ʔ u  | varu       | Clark-173-2005         |     663 |\n",
    "| 2823 | Tikopia         | Eight     | tiko1237     |             1705 | varu    | varu   | v a r u  |            | POLLEX                 |     663 |\n",
    "| 2336 | Tongan          | Eight     | tong1325     |             1705 | valu    | valu   | v a l u  |            | 117207                 |     663 |\n",
    "| 4592 | Tuamotuan       | Eight     | tuam1242     |             1705 | varu    | varu   | v a r u  |            | POLLEX                 |     663 |\n",
    "| 7179 | Tuvalu          | Eight     | tuva1244     |             1705 | valu    | valu   | v a l u  |            | 29903                  |     663 |\n",
    "|    8 | Vaeakau_Taumako | Eight     | pile1238     |             1705 | valu    | valu   | v a l u  |            | Hovdhaugen-375-2009    |     663 |\n",
    "|  251 | Wallisian       | Eight     | wall1257     |             1705 | valu    | valu   | v a l u  |            | POLLEX                 |     663 |\n",
    "\n",
    "\n",
    "You may even prepare your data in a spreadsheet to then analyze it in LingPy. You just need to make sure to export it properly to the TSV format (which you can easily do by just copy-pasting it into an empty text-file). What you need to know about the format, however, is the following:\n",
    "\n",
    "1. contrary to most linguists' intuition, the columns do **not** indicate languages: each row indicates one word and, as a result, language names need to be redundantly repeated\n",
    "2. certain columns are **required** by LingPy, and their number can vary, depending on the task you want to carry out: for the purpose of cognate detection, you need at least the columns `doculect`, `concept`, and either a plain transcription (the default column name is `ipa`) or a more advanced and less ambiguous transcription in segmented form (the default column name is `tokens`).\n",
    "3. in order to increase readability, column headers are upper-case when LingPy writes them to file, but this is not required (internally all columns are represented as lowercase when loaded into LingPy's objects).\n",
    "4. depending on the names of the columns, values will be interpreted by default: if you have a column called `cogid`, this will be converted to an integer, and `tokens` usually assumes that you have a string separated by spaces. As a result, LingPy may throw an error if your columns do not follow these required formats. To check how columns are interpreted, you can check the file [wordlist.rc](https://github.com/lingpy/lingpy/blob/master/lingpy/data/conf/wordlist.rc) where you will find a full account of currently supported values.\n",
    "5. users can add as many columns as they want, provided the file header is in alphanumeric form, and we have used this to add a field called \"variants\" in which we included forms that are obvious pronunciation variants in our data but should not be regarded by the algorithm. \n",
    "\n",
    "Not all of the columns in the table above are fully \"standardized\". The `DOCULECT` one, for example, so far only requires that distinct languages are given distinct names, no matter what those names contain (as long it has no tabulation stops). But for the purpose of exporting the data to other formats afterward, it is useful to restrict to alphanumeric names here, and to exclude all brackets or spaces from the language names (as well as quotes and diacritics), as we have been doing in this test set. This becomes especially important when inferring trees or using trees in further LingPy analyses: as trees are represented in the [Newick](https://en.wikipedia.org/wiki/Newick_format) format, where brackets play an important role, brackets in the names for the doculects will confuse the algorithm and raise an error. \n",
    "\n",
    "As the last point, note that we list `GLOTTOCODE` and `CONCEPTICON_ID`, which follows two major requirements for word list data we try to establish for the [Cross-Linguistic Data Formats (CLDF)](http://cldf.clld.org) initiative. As the linguistic sign has three major dimensions, the *language*, the *meaning*, and the *word form*, `GLOTTOCODE`, the language identifier provided by the [Glottolog project](http://glottolog.org) ([Hammarström, Forkel and Haspelmath 2017](http://bibliography.lingpy.org?key=Hammarstroem2017)) and `CONCEPTICON_ID`, the meaning identifier provided by the [Concepticon project](http://concepticon.clld.org) ([List, Cysouw, and Forkel 2016](http://bibliography.lingpy.org?key=List2016a)) cover two of these aspects, while the third aspect, the consistency of the form, is currently covered by LingPy (more on this below).\n",
    "More information on the data formats employed in LingPy can be found at the official [documentation page](http://lingpy.org/tutorial/formats.html)."
   ]
  },
  {
   "cell_type": "markdown",
   "metadata": {},
   "source": [
    "### 2.3 Loading the Data into a `Wordlist` Object\n",
    "\n",
    "Loading the data into LingPy is straightforward. LingPy has a couple of classes which are specifically designed to handle word list data, and these classes provide all similar basic functions, plus additional ones for specific purposes:\n",
    "\n",
    "* `Wordlist`: Basic class with core functionality, allows to read, modify, and write word list data, also allows  calculating distance matrices from cognate sets as well as rudimentary tree reconstruction functions (UPGMA, [Sokal and Michener 1958](http://bibliography.lingpy.org?key=Sokal1958), Neighbor-joining, [Saitou and Nei 1987](http://bibliography.lingpy.org?key=Saitou1987)).\n",
    "* `Alignments`: Class allows to align all cognate sets in a word list. Requires one column which stores the cognate sets as well as a column for `doculect`, `concept`, and transcription (default: `ipa`) or user-defined *segmented transcription* (default: `tokens`). Alignments can be carried out in different ways, the algorithms follow the ones first described in [List (2012a)](http://bibliography.lingpy.org?key=List2012b).\n",
    "* `LexStat`: Core class for automatic cognate detection, following the algorithm first described in [List (2012b)](http://bibliography.lingpy.org?key=List2012a) and later expanded in [List (2014)](http://bibliography.lingpy.org?key=List2014d), and [List, Greenhill, and Gray (2017)](List2017c). \n",
    "* `Partial`: Recent algorithm proposed in [List, Lopez, and Bapteste (2016)](http://bibliography.lingpy.org?key=List2016g), allows -- provided data is morpheme-segmented -- to search for partial cognates in the data.\n",
    "\n",
    "We will start with the basic `Wordlist` object to illustrate some core facilities below. Let us thus quickly load some data into the Wordlist. We start with our file ```polynesian.tsv```:"
   ]
  },
  {
   "cell_type": "code",
   "execution_count": 1,
   "metadata": {},
   "outputs": [
    {
     "name": "stdout",
     "output_type": "stream",
     "text": [
      "Wordlist has 30 languages and 210 concepts across 7316 rows.\n"
     ]
    }
   ],
   "source": [
    "from __future__ import unicode_literals, print_function, division\n",
    "from lingpy import *\n",
    "\n",
    "# load the wordlist\n",
    "wl = Wordlist('polynesian.tsv')\n",
    "\n",
    "# count number of languages, number of rows, number of concepts\n",
    "print(\n",
    "    \"Wordlist has {0} languages and {1} concepts across {2} rows.\".format(\n",
    "        wl.width, wl.height, len(wl)))"
   ]
  },
  {
   "cell_type": "markdown",
   "metadata": {},
   "source": [
    "By accessing the attributes `width` we retrieve the number of languages and with `height` we retrieve the number of concepts. This follows the logic inherent in the traditional format in which linguists prepare their spreadsheets, namely by placing concepts in the first column and languages in the rest of the columns. Traditional linguistic databases would thus represent the data from the table above as follows:\n",
    "\n",
    "CONCEPT | Emae | Rennell_Bellona | Tuvalu | Sikaiana | Penrhyn | Kapingamarangi\n",
    "--- | --- | --- | --- | --- | --- | ---\n",
    "one | tasi| tahi | tahi | tasi | tahi | dahi\n",
    "five | rima | gima | lima | lima | rima | lima\n",
    "eight | βaru | baŋu | valu | valu | varu | waru\n",
    "... | ... | ... | ... | ... | ... | ...\n",
    "\n",
    "The disadvantage of this annotation is, however, that we can only store one value in each cell, and we will create inconsistencies if we try to mix information per cell. For that reason, we maintain the strict tabular representation where each word is placed in one row, but internally, LingPy represents the data in multidimensional tables in which languages are thought to be placed in the columns and concepts in the rows. \n",
    "\n",
    "There are multiple ways in LingPy to inspect and manipulate data using the `Wordlist` class, but it would go too far to mention them all here, so we will restrict it to one example, by which we retrieve the values from the six languages above for the entry \"Eight\", using the `wordlist.get_dict()` function, and refer the users to a longer tutorial which is [online](http://lingpy.org/tutorial/lingpy.basic.wordlist.html).\n"
   ]
  },
  {
   "cell_type": "code",
   "execution_count": 2,
   "metadata": {},
   "outputs": [
    {
     "name": "stdout",
     "output_type": "stream",
     "text": [
      "Emae                   \t βaru\n",
      "Rennell_Bellona        \t baŋgu\n",
      "Tuvalu                 \t valu\n",
      "Sikaiana               \t valu\n",
      "Penryhn                \t varu\n",
      "Kapingamarangi         \t walu\n"
     ]
    }
   ],
   "source": [
    "# get all indices for concept \"eight\", `row` refers to the concepts here, while `col` refers to languages\n",
    "eight = wl.get_dict(row='Eight', entry='value')\n",
    "for taxon in ['Emae', 'Rennell_Bellona', \n",
    "              'Tuvalu', 'Sikaiana', 'Penryhn',  'Kapingamarangi']:\n",
    "    print(\n",
    "        '{0:20}'.format(taxon), '  \\t', ', '.join(eight[taxon]))"
   ]
  },
  {
   "cell_type": "markdown",
   "metadata": {},
   "source": [
    "Wordlists are the core format of data representation in LingPy, and it is useful for users who want to make advanced use of the library, to acquaintain them more with the way the data is handled here. More information can be found in the [online documentation](http://lingpy.org/tutorial/lingpy.basic.wordlist.html)."
   ]
  },
  {
   "cell_type": "markdown",
   "metadata": {},
   "source": [
    "### 2.4 Segmentation of Phonetic Entries\n",
    "\n",
    "Converting transcription conventions into IPA is critical for ensuring that the dataset can be properly analysed. In the original Polynesian dataset, for example, multiple inconsistent conventions were discovered. These included outdated, pre-IPA, conventions; regional orthographic conventions; and individual linguist inventions. These resulted in highly ambiguous representations that could easily lead to incorrect interpretations of the data: characters associated with a given sound used to represent an entirely different sound (*h* used for glottal stop; *y* used for *θʸ*); one character used to represent various sound segments (*g* used for velar nasal, voiced velar stop, and voiced uvular stop); one set of characters used to represent multiple series of sound segments (two adjacent vowels used for adjacent like vowels, vowel-glottal stop-vowel, and long vowels); double characters used to indicate one segment (*ng* used for velar nasal; *nC* used for prenasalised consonants; *hC* or *Ch* used for aspirated consonants); diacritical marking on vowels used to indicate length (*v̄* used for long vowels); and diacritical marking on or between vowels to indicate glottal stops (*v̀* used for glottal stop-vowel; *v'v* used for vowel-glottal stop-vowel). Linguists applying methods for automatic cognate detection should always keep in mind that our data is usually rather sparse and therefore not robust enough to cope with these problems alone. As a result from our experience in working with the Polynesian data sample, we therefore advise all users of LingPy to make sure that their data is properly segmented. In the following we will provide some basic information, how this can be done.\n",
    "\n",
    "In addition to the \"normal\" requirement of the data to be written in IPA, LingPy can use the explicit segmentation of the data into sound segments as it was provided by the user. Segmentation is represented as a space-separated string in the input data, as you can see when looking at the table above, right in the cells of the `TOKENS` column. While segmentation looks unspectacular in these cases where each sound is represented by only one symbol, it may become problematic when dealing with affricates, pre-aspirated sounds, and complex vowels. The problem is usually that IPA transcriptions are inherently ambiguous, and this ambiguity is then passed on to the algorithms which cannot handle it. For example, a word like German `[`apfəl`]` \"apple\" could be either segmented as `[` a p f ə l `]`, or, and historically more consistently, as `[` a pf ə l `]`. But if the latter reading is intended (and this is usually language-family-specific), the only way to handle this consistently in IPA would be to put the bar over it: `[`ap͡fəl`]`. This practice, however, would still render the detection of pre-aspiration and other cases impossible. Although LingPy deals rather well with explicit IPA, we recommend all users to segment the data themselves and indicate this by placing one column in their input word list, in which the phonetic entries are explicitly segmented by a space (with the underscore being used to mark original spaces, i.e., word breaks).\n",
    "\n",
    "LingPy's [`sequence`-package](http://lingpy.org/reference/lingpy.sequence.html) offers many functions to handle phonetic sequences and to segment them automatically. As an example, consider the following code-pieces and try to find out what they are actually doing:"
   ]
  },
  {
   "cell_type": "code",
   "execution_count": 3,
   "metadata": {},
   "outputs": [
    {
     "name": "stdout",
     "output_type": "stream",
     "text": [
      "th o x t a \t->\t th\to\tx\tt\ta\n",
      "thoxta   \t->\t t\th\to\tx\tt\ta\n",
      "thoxta   \t->\t th\to\tx\tt\ta\n",
      "apfəl   \t->\t a\tp\tf\tə\tl\n",
      "apfəl   \t->\t a\tpf\tə\tl\n",
      "tʰoxtɐ   \t->\t tʰ\to\tx\tt\tɐ\n",
      "dɔːtər   \t->\t d\tɔː\tt\tə\tr\n"
     ]
    }
   ],
   "source": [
    "from lingpy.sequence.sound_classes import ipa2tokens\n",
    "\n",
    "seq1, seq2, seq3, seq4, seq5 = (\n",
    "    \"th o x t a\", \"thoxta\", \"apfəl\", \"tʰoxtɐ\", \"dɔːtər\")\n",
    "\n",
    "print(seq1, \"\\t->\\t\", '\\t'.join(ipa2tokens(seq1)))\n",
    "print(seq2, \"  \\t->\\t\", '\\t'.join(ipa2tokens(seq2)))\n",
    "print(seq2, \"  \\t->\\t\", '\\t'.join(ipa2tokens(seq2, semi_diacritics=\"h\")))\n",
    "print(seq3, \"  \\t->\\t\", '\\t'.join(ipa2tokens(seq3)))\n",
    "print(seq3, \"  \\t->\\t\", '\\t'.join(ipa2tokens(seq3, semi_diacritics=\"f\")))\n",
    "print(seq4, \"  \\t->\\t\", '\\t'.join(ipa2tokens(seq4)))\n",
    "print(seq5, \"  \\t->\\t\", '\\t'.join(ipa2tokens(seq5)))"
   ]
  },
  {
   "cell_type": "markdown",
   "metadata": {},
   "source": [
    "You can see from these examples that LingPy's `ipa2tokens` function automatically identifies diacritics and the like, but that you can also tweak it to some extent. If the sequence contains white spaces, as in the first example, `ipa2tokens` will split by white space and assume that the data is *already* segmented. We won't go into the details of this and other functions here, but you should consider giving the documentation a proper read before you start spending time on segmenting your data manually. At the same time, when trusting LingPy's default algorithm for segmentation, you should always make sure after using it that the segmentations make sense. If they are largely wrong or problematic, you should refine them before running any automatic cognate detection method.\n",
    "\n",
    "An alternative is to use the [`segments`](https://github.com/cldf/segments) package by Moran and Forkel (2017), whose main idea is more comprehensively described in [Moran and Cysouw (2017)](http://bibliography.lingpy.org?key=Moran2017). We have in fact been using it for our working example in order to segment the ABVD data on Polynesian languages properly and afterwards checked them manually. Our orthography profile for the Polynesian languages looks like this (we only show the first couple of lines):\n",
    "\n",
    "Grapheme\t| IPA |\tNOTE\n",
    "--- | --- | ---\n",
    "q\t| ʔ\t| \n",
    "ŋg |\tⁿg\t| account for pre-nasalization\n",
    "0\t| NULL\t|\n",
    "ng | ŋ\t|\n",
    "t |\tt\t|\n",
    "\n",
    "So what you can essentially see here is that we have an initial column in which we list the graphemes that we find in the data, and we add a second column that says how we would like to render it in IPA. If we write \"NULL\", this means we want to discard it. With the [segments](https://github.com/bambooforest/segments) package, this can be applied to our data in a very straightforward way:"
   ]
  },
  {
   "cell_type": "code",
   "execution_count": 4,
   "metadata": {},
   "outputs": [
    {
     "name": "stdout",
     "output_type": "stream",
     "text": [
      "v a ' u\n",
      "v a ʔ u\n"
     ]
    }
   ],
   "source": [
    "from segments.tokenizer import Tokenizer\n",
    "from lingpy.basic.wordlist import Wordlist\n",
    "tk = Tokenizer('orthography.tsv')\n",
    "print(tk(\"va'u\"))\n",
    "print(tk(\"va'u\", column=\"IPA\"))\n"
   ]
  },
  {
   "cell_type": "markdown",
   "metadata": {},
   "source": [
    "As you see, the data has been segmented and converted to IPA at the same time, which is very convenient, if the original data is not very well-represented in form of phonetic transcriptions. If you want to convert all segments in your data at once, thus modifying your Wordlist, you can do this in a very convenient way, using the ```wordlist.add_entries``` function: "
   ]
  },
  {
   "cell_type": "code",
   "execution_count": 5,
   "metadata": {},
   "outputs": [
    {
     "name": "stderr",
     "output_type": "stream",
     "text": [
      "2018-05-14 16:44:34,516 [INFO] Data has been written to file <polynesian-new-segments.tsv>.\n"
     ]
    }
   ],
   "source": [
    "wl.add_entries('new_segments', 'form', tk, column=\"IPA\")\n",
    "wl.output('tsv', filename='polynesian-new-segments', ignore='all')"
   ]
  },
  {
   "cell_type": "markdown",
   "metadata": {},
   "source": [
    "In order to check how well the data has been converted, you could either open the output file ```polynesian-new-segments.tsv``` in a text editor or your favorite spreadsheet editor. You could also open the EDICTOR tool in your browser at [http://edictor.digling.org](http://edictor.digling.org) and drag the file into the BROWSE window, where you have many enhanced options on comparing and checking the data (for a recent EDICTOR tutorial, see [List 2017](http://bibliography.lingpy.org?key=List2017LECTUREc)).\n",
    "\n",
    "If you want to check, how well the data has been converted so that LingPy can link the sounds to its internal representation, you can also do this with help of the ```check_tokens``` method:"
   ]
  },
  {
   "cell_type": "code",
   "execution_count": 6,
   "metadata": {},
   "outputs": [
    {
     "name": "stdout",
     "output_type": "stream",
     "text": [
      "Error in position 2: «'»\n"
     ]
    }
   ],
   "source": [
    "from lingpy.sequence.sound_classes import check_tokens\n",
    "tokens = \"v a ' h u\".split(' ')\n",
    "errors = check_tokens(tokens)\n",
    "for error in errors:\n",
    "    print('Error in position {0[0]}: «{0[1]}»'.format(error))"
   ]
  },
  {
   "cell_type": "markdown",
   "metadata": {},
   "source": [
    "If you want to do this for all entries in your list, just iterate over all tokens, and store the errors in a dictionary, where you can also count them:"
   ]
  },
  {
   "cell_type": "code",
   "execution_count": 7,
   "metadata": {},
   "outputs": [
    {
     "name": "stdout",
     "output_type": "stream",
     "text": [
      "0\n"
     ]
    }
   ],
   "source": [
    "from collections import defaultdict\n",
    "errors = defaultdict(int)\n",
    "for idx, tks in wl.iter_rows('tokens'):\n",
    "    for error in check_tokens(tks):\n",
    "        errors[error[1]] += 1\n",
    "print(len(errors))"
   ]
  },
  {
   "cell_type": "markdown",
   "metadata": {},
   "source": [
    "Luckily, we do not have any errors in our data."
   ]
  },
  {
   "cell_type": "markdown",
   "metadata": {},
   "source": [
    "### 2.5 Checking Coverage\n",
    "\n",
    "For cognate detection, it is not only important to have good phonetic transcriptions (ideally segmented in such a form that they were checked by an experienced linguist), but also to make sure that there are **enough words** in your data. If the data is too sparse, even human linguists would not be able to find any signal based on regular sound correspondences, provided they see the languages the first time and don't know their history (which is the situation for every algorithm). Following an earlier study by [List (2014b)](http://bibliography.lingpy.org?key=List2014c), we know now that at least 100 word pairs for languages as disparate as English and French are needed to provide a solid basis for automatic cognate detection. But when dealing with a large dataset of different languages, which necessarily contains a number of gaps (not all concepts can be elicited in the sources, field work has not provided enough details, etc.), it can be deleterious if the *mutual coverage* between the languages is low. \n",
    "\n",
    "By mutual coverage, I mean the number of comparable word pairs (with the same concept) for each language pair in a given dataset. We can compare different aspects of mutual coverage, such as the *average mutual coverage*, where we average the number of available word pairs, or the *minimal mutual coverage*, which provides the smallest mutual coverage of any pair of languages. In addition, one can also ask for the subset fulfilling a minimal mutual coverage for all language pairs, and this task would return the subset of languages in a `Wordlist` which all have at least the mutual coverage specified by the user. LingPy offers now (since version 2.5.1, see also the [online reference](http://lingpy.org/docu/compare/sanity.html)) solutions for all these problems, but since the last problem is considerably hard and computationally intensive, we won't discuss it here, but will instead simply check the minimal mutual coverage which holds for all languages in our sample. So we try to find the lower bound of concept pairs which all languages have in common."
   ]
  },
  {
   "cell_type": "code",
   "execution_count": 8,
   "metadata": {},
   "outputs": [
    {
     "name": "stdout",
     "output_type": "stream",
     "text": [
      "Minimal mutual coverage is at 162 concept pairs.\n"
     ]
    }
   ],
   "source": [
    "from lingpy.compare.util import (\n",
    "    mutual_coverage_check, mutual_coverage_subset)\n",
    "for i in range(210, 0, -1):\n",
    "    if mutual_coverage_check(wl, i):\n",
    "        print(\n",
    "            \"Minimal mutual coverage is at {0} concept pairs.\".format(i))\n",
    "        break"
   ]
  },
  {
   "cell_type": "markdown",
   "metadata": {},
   "source": [
    "This value is definitely good enough for our purpose, given the rule of thumb which says that below a minimal mutual coverage of 100 one should not do language-specific cognate detection analyses. If the coverage is lower, this does not mean you need to give up automatic cognate detection, but it means you should not use the language-specific `LexStat` method but rather a language-independent method, which does not require the information on potential sound correspondences (but will also tend to identify more false positives).\n",
    "\n",
    "Another score that is useful to compute when carrying out these analyses is what is called *Average Mutual Coverage* (AMC) in LingPy. The AMC of a given wordlist is defined as the average of the number of concepts shared between all pairs of languages in a given wordlist divided by the number of concepts in total. The computation in LingPy is straightforward:"
   ]
  },
  {
   "cell_type": "code",
   "execution_count": 9,
   "metadata": {},
   "outputs": [
    {
     "name": "stdout",
     "output_type": "stream",
     "text": [
      "0.91\n"
     ]
    }
   ],
   "source": [
    "from lingpy.compare.sanity import average_coverage\n",
    "print('{0:.2f}'.format(average_coverage(wl)))"
   ]
  },
  {
   "cell_type": "markdown",
   "metadata": {},
   "source": [
    "This value is in fact quite high, since we know that many other datasets that have been used in the past to test automatic cognate detection methods had a considerable amount of missing data and would therefore have an AMC score much lower than 0.8.\n",
    "\n",
    "Although, as we just said, the value is good enough, we should further reduce the data a bit to make sure we can inspect them better later on (otherwise, the analyses may also take a lot of time if you run them on computers with insufficient power). So what we will do right now is testing the `mutual_coverage_subset` method which returns a subset of languages for which a given minimal mutual coverage holds. We will then export our `Wordlist` object to file by specifying these languages as our subset:"
   ]
  },
  {
   "cell_type": "code",
   "execution_count": 10,
   "metadata": {},
   "outputs": [
    {
     "name": "stdout",
     "output_type": "stream",
     "text": [
      "Found 13 languages with an average mutual coverage of 207.\n"
     ]
    },
    {
     "name": "stderr",
     "output_type": "stream",
     "text": [
      "2018-05-14 16:44:35,434 [INFO] Data has been written to file <polynesian-small.tsv>.\n"
     ]
    },
    {
     "name": "stdout",
     "output_type": "stream",
     "text": [
      "Wordlist has 13 languages and 210 concepts in 3404 words.\n"
     ]
    }
   ],
   "source": [
    "count, results = mutual_coverage_subset(wl, 200)\n",
    "coverage, languages = results[0]\n",
    "print(\n",
    "    'Found {0} languages with an average mutual coverage of {1}.'.format(\n",
    "        count, coverage))\n",
    "\n",
    "# write word list to file\n",
    "wl.output(\"tsv\", filename=\"polynesian-small\",\n",
    "          subset=True, rows=dict(doculect = \"in \"+str(languages)))\n",
    "\n",
    "# load the smaller word list\n",
    "wl = Wordlist('polynesian-small.tsv')\n",
    "\n",
    "# print basic characteristics\n",
    "print(\n",
    "    \"Wordlist has {0} languages and {1} concepts in {2} words.\".format(\n",
    "        wl.width, wl.height, len(wl)))"
   ]
  },
  {
   "cell_type": "markdown",
   "metadata": {},
   "source": [
    "We could not further work with this selection of languages with a very high coverage, and it is always recommended to do so when working on diverse languages samples. For our further tests, however, we will restrict our selection of languages to another subset, namely the East Polynesian languages. Let us now extract those languages from the data (based on their language names) and then see how good the coverage is for this subset."
   ]
  },
  {
   "cell_type": "code",
   "execution_count": 11,
   "metadata": {},
   "outputs": [
    {
     "name": "stderr",
     "output_type": "stream",
     "text": [
      "2018-05-14 16:44:35,887 [INFO] Data has been written to file <east-polynesian.tsv>.\n"
     ]
    },
    {
     "name": "stdout",
     "output_type": "stream",
     "text": [
      "East Polynesian data has 210 concepts and 10 languages.\n"
     ]
    }
   ],
   "source": [
    "eastern = ['North_Marquesan', 'Ra’ivavae', 'Rurutuan', \n",
    "            'Tahitian', 'Sikaiana', 'Maori', 'Hawaiian',\n",
    "            'Mangareva', 'Tuamotuan', 'Rapanui'] \n",
    "wl = Wordlist('polynesian.tsv')\n",
    "wl.output('tsv', filename='east-polynesian', subset=True,\n",
    "            rows=dict(doculect = 'in '+str(eastern)))\n",
    "\n",
    "wl = Wordlist('east-polynesian.tsv')\n",
    "print(\n",
    "    \"East Polynesian data has {0} concepts and {1} languages.\".format(\n",
    "        wl.height, wl.width))"
   ]
  },
  {
   "cell_type": "markdown",
   "metadata": {},
   "source": [
    "Let us now repeat the coverage experiment from above, but this time with the Eastern Polynesian language data."
   ]
  },
  {
   "cell_type": "code",
   "execution_count": 12,
   "metadata": {},
   "outputs": [
    {
     "name": "stdout",
     "output_type": "stream",
     "text": [
      "Minimal mutual coverage is at 179 concept pairs (AMC: 0.94).\n"
     ]
    }
   ],
   "source": [
    "for i in range(210, 0, -1):\n",
    "    if mutual_coverage_check(wl, i):\n",
    "        print(\"Minimal mutual coverage is at {0} concept pairs (AMC: {1:.2f}).\".format(\n",
    "            i, average_coverage(wl)))\n",
    "        break"
   ]
  },
  {
   "cell_type": "markdown",
   "metadata": {},
   "source": [
    "Note that this coverage is much less than the coverage we encountered above. Nevertheless, for our purpose it will be good enough, and the rule of thumb for closely related languages, which says, that we need more than 150 concepts mutually shared between each language pair holds.\n"
   ]
  },
  {
   "cell_type": "markdown",
   "metadata": {},
   "source": [
    "### 2.6 Checking for Synonyms\n",
    "\n",
    "Extreme number of synonyms per concepts may drastically confuse the algorithms, so we should check and make sure that we do not have too many of them in our data. This can be conveniently done in Python:"
   ]
  },
  {
   "cell_type": "code",
   "execution_count": 13,
   "metadata": {},
   "outputs": [
    {
     "name": "stdout",
     "output_type": "stream",
     "text": [
      "North_Marquesan  to fall       6\n",
      "Tuamotuan        belly         4\n",
      "Tuamotuan        to blow       4\n",
      "Rapanui          to cut, hack  4\n",
      "North_Marquesan  we            4\n",
      "Rapanui          and           4\n",
      "Hawaiian         we            4\n",
      "Sikaiana         we            4\n",
      "Tuamotuan        to fall       4\n",
      "North_Marquesan  man/male      4\n",
      "Ra’ivavae        we            4\n",
      "Tahitian         we            4\n",
      "Tuamotuan        to hit        4\n",
      "North_Marquesan  to hit        4\n",
      "North_Marquesan  small         4\n",
      "Maori            we            4\n",
      "Rurutuan         we            4\n"
     ]
    }
   ],
   "source": [
    "from lingpy.compare.sanity import synonymy\n",
    "synonyms = synonymy(wl)\n",
    "for (language, concept), count in sorted(\n",
    "    synonyms.items(), key=lambda x: x[1], reverse=True):\n",
    "    if count > 3:\n",
    "        print('{0:15}  {1:12}  {2}'.format(language, concept, count))\n"
   ]
  },
  {
   "cell_type": "markdown",
   "metadata": {},
   "source": [
    "You can see that we have some cases which we should be careful about. There are many ways to fall, but six words for \"to fall\" in North Marquesan are surely not satisfying."
   ]
  },
  {
   "cell_type": "markdown",
   "metadata": {},
   "source": [
    "## 3 Phonetic Alignment\n",
    "\n",
    "In the main tutorial text, we explain the major aspects of alignment analyses. We won't repeat them here and recommend you to read them carefully in the main document instead. What we want to do here is quickly run you through the major aspects of alignments in LingPy. We will start with pairwise alignments and then introduce multiple alignments. Since multiple alignments are based on pairwise alignments, the major aspects, such as the scoring function, the gap function, and the representation of sound classes, are something you should always keep in mind, especially when you find that automatic alignments do not conform to your expectations.\n"
   ]
  },
  {
   "cell_type": "markdown",
   "metadata": {},
   "source": [
    "### 3.1 Pairwise Alignment\n",
    "\n"
   ]
  },
  {
   "cell_type": "markdown",
   "metadata": {},
   "source": [
    "#### 3.1.1 Scoring Function\n",
    "\n",
    "The scoring function in pairwise alignments determines how segments are compared with each other. If the score is high, this means that the sounds are judged to be likely to be related, if it is below 0 (that is, if it has a negative score) this means that it is assumed that a relationship is unlikely. Scoring functions in LingPy are usually stored in so-called sound-class models. We will introduce sound classes in detail in the next section, so here it should be enough to mention that our scorers are not defined for pure IPA segments, but rather for subsets,  which make it more convenient to define scores for dissimilarities. Instead of comparing `[`tʰ`]` with `[`tʃ`]`, we internally compare ```T``` with ```C```, which is faster to compute, but also easier to define. In the following, we will work with the SCA-scorer, a scorer for the scoring function underlying the SCA algorithm ([List 2014](http://bibliography.lingpy.org?key=List2014d)). We can easily load the scorer in the following way:"
   ]
  },
  {
   "cell_type": "code",
   "execution_count": 14,
   "metadata": {},
   "outputs": [],
   "source": [
    "scorer = Model('sca')"
   ]
  },
  {
   "cell_type": "markdown",
   "metadata": {},
   "source": [
    "More information on the underlying [Model](http://lingpy.org/docu/data/model.html) class can be found in LingPy's online reference. In order to test, how a given sound class compares to another one, we can conveniently call the scorer:"
   ]
  },
  {
   "cell_type": "code",
   "execution_count": 15,
   "metadata": {},
   "outputs": [
    {
     "name": "stdout",
     "output_type": "stream",
     "text": [
      "P T 0.0\n",
      "P C 0.0\n",
      "P I -10.0\n",
      "T T 10.0\n",
      "T C 6.0\n",
      "T I -10.0\n",
      "A T -10.0\n",
      "A C -10.0\n",
      "A I 4.0\n",
      "E T -10.0\n",
      "E C -10.0\n",
      "E I 4.0\n"
     ]
    }
   ],
   "source": [
    "for symA in ['P', 'T', 'A', 'E']:\n",
    "    for symB in ['T', 'C', 'I']:\n",
    "        print(symA, symB, scorer(symA, symB))"
   ]
  },
  {
   "cell_type": "markdown",
   "metadata": {},
   "source": [
    "You can see, that, as a rule, vowels (```AEI```) and consonants (```PTC```) always get -10 as score. If consonants are not judged to be similar, they get a zero, but if we assume that there is a certain likelihood that sound change will create sound correspondences across classes, the scorer gives more detailed scores."
   ]
  },
  {
   "cell_type": "markdown",
   "metadata": {},
   "source": [
    "#### 3.1.2 Sound Classes \n",
    "\n",
    "Above, we wrote that LingPy takes care of the *word form* as one of the units of the linguistic sign in the classical \"Saussurean\" model. But how can we know whether LingPy recognizes a symbol or not? For this, we need to understand what LingPy does internally with word forms. Here, LingPy follows [Dolgopolsky's (1964)](http://bibliography.lingpy.org?key=Dolgopolsky1964) idea of \"sound classes\", namely the idea that we can break down the complexity inherent in phonetic transcription to some major classes of sounds so that those sounds represent some kind of a coherent unit. Dolgopolsky was thinking of sounds which often occur in correspondence relation to each other, assuming that there is a certain sound-correspondence probability inherent in all sounds (see also [Brown, Holman, and Wichmann 2013](http://bibliography.lingpy.org?key=Brown2013)). In our experience so far, this is definitely one important aspect, but even more important is the role of reducing variation which is unnecessary for historical comparison while at the same time maintaining a sufficient degree of distinctiveness. For this reason, I expanded Dolgopolsky's original system of only 10 sound classes to as many as 25 sound classes, and LingPy further offers the alphabet which was used for the [ASJP project](http://asjp.clld.org), which consists of 40 symbols in a slightly modified version. The following image illustrates the differences between these sound class alphabets and also shows how they represent the Greek word for \"daughter\".\n",
    "\n",
    "![image](img/soundclasses.jpg)\n",
    "\n",
    "How can we represent sound classes in LingPy? There is one main function that converts a segmented sound sequence into sound classes. This function `tokens2class` takes as input a list or a tuple of segments, that is, the output which you would also get when calling `ipa2tokens`, and a valid sound class model. You can theoretically create models yourself, and pass them as an instance of the above-mentioned `Model` class in LingPy, but for the moment, we will only use the ones which are there and denote them with strings, i.e., `dolgo` for Dolgopolsky's model, `sca` for my expanded model of Dolgopolsky, and `asjp` for the ASJP model). Let's just take these three and another specific model, called `art` (for \"articulation\") which gives numbers to indicate the prosody of sounds, and convert the word Greek `[`θiɣatɛra`]` into the different sound class systems.\n",
    "\n"
   ]
  },
  {
   "cell_type": "code",
   "execution_count": 16,
   "metadata": {},
   "outputs": [
    {
     "name": "stdout",
     "output_type": "stream",
     "text": [
      "θiɣatɛra  ->  TVKVTVRV (dolgo)\n",
      "θiɣatɛra  ->  DIGATERA (sca)\n",
      "θiɣatɛra  ->  8ixatEra (asjp)\n",
      "θiɣatɛra  ->  37371757 (art)\n"
     ]
    }
   ],
   "source": [
    "word = \"θiɣatɛra\"\n",
    "segs = ipa2tokens(word)\n",
    "\n",
    "# iterate over sound class models and write them in converted version \n",
    "for model in ['dolgo', 'sca', 'asjp', 'art']:\n",
    "    print(word, ' -> ', ''.join(tokens2class(segs, model)), '({0})'.format(model))"
   ]
  },
  {
   "cell_type": "markdown",
   "metadata": {},
   "source": [
    "#### 3.1.3 Gap Function\n",
    "\n",
    "So far, we have not even aligned a sequence pair, but introduced sound classes and the scoring function. Let us now, in order to illustrate the gap function, and why it may be important, make our first pairwise alignment in LingPy. The gap penalty is the so-called gap-open-penalty, and it is triggered by changing the ```gop``` keyword when aligning two words in the ```Pairwise``` class (see also the [online referen](http://lingpy.org/docu/align/pairwise.html)):\n",
    "\n"
   ]
  },
  {
   "cell_type": "code",
   "execution_count": 17,
   "metadata": {},
   "outputs": [
    {
     "name": "stdout",
     "output_type": "stream",
     "text": [
      "ʔ\toː\tɢ\tu\ta\n",
      "k\toː\tr\tu\ta\n",
      "19.5\n"
     ]
    }
   ],
   "source": [
    "pair = Pairwise('ʔ oː ɢ u a', 'k oː r u a')\n",
    "pair.align(gop=-1)\n",
    "print(pair)"
   ]
  },
  {
   "cell_type": "markdown",
   "metadata": {},
   "source": [
    "The sequences align as expected (the score in the last row indicates the overall similarity), but we know that the default scorer of LingPy does not approve of the similarity between `[`ɢ`]` and `[`r`]`. Instead it would favor linking the former with `[`k`]`. If we trigger the gap opening penalty, this thus may change the alignment:"
   ]
  },
  {
   "cell_type": "code",
   "execution_count": 18,
   "metadata": {},
   "outputs": [
    {
     "name": "stdout",
     "output_type": "stream",
     "text": [
      "ʔ\toː\tɢ\t-\t-\tu\ta\n",
      "-\t-\tk\toː\tr\tu\ta\n",
      "20.025\n"
     ]
    }
   ],
   "source": [
    "pair = Pairwise('ʔ oː ɢ u a', 'k oː r u a')\n",
    "pair.align(gop=-0.5)\n",
    "print(pair)"
   ]
  },
  {
   "cell_type": "markdown",
   "metadata": {},
   "source": [
    "#### 3.1.4 Alignment mode\n",
    "\n",
    "In the main text introducing the tutorial, we give examples in Figure 3D for different output produced from the alignment mode. Let us replicate this here (note that \"overlap\" is the keyword you need to use if you want to make \"semi-global\" alignments):"
   ]
  },
  {
   "cell_type": "code",
   "execution_count": 19,
   "metadata": {},
   "outputs": [
    {
     "name": "stdout",
     "output_type": "stream",
     "text": [
      "ʔ\toː\tɢ\tu\ta\n",
      "k\toː\tr\tu\ta\n",
      "19.5\n",
      "---\n",
      "ɢ\t-\t-\tu\ta\n",
      "k\toː\tr\tu\ta\n",
      "20.85\n",
      "---\n",
      "ʔ\toː\tɢ\t-\t-\tu\ta\n",
      "-\t-\tk\toː\tr\tu\ta\n",
      "20.85\n",
      "---\n"
     ]
    }
   ],
   "source": [
    "pair = Pairwise('ʔ oː ɢ u a', 'k oː r u a')\n",
    "for mode in ['global', 'local', 'overlap']:\n",
    "    pair.align(mode=mode)\n",
    "    print(pair)\n",
    "    print('---')"
   ]
  },
  {
   "cell_type": "markdown",
   "metadata": {},
   "source": [
    "### 3.2 Multiple Alignment\n",
    "\n",
    "Phonetic alignment is *per se* independent of the existence of any word list data. Instead, it is a way to align phonetic sequences (words in phonetic transcription) in various ways. Phonetic alignment is an important pre-requisite in order to identify regular sound correspondences. Regular sound correspondences again are important to identify cognates (at least in the classical framework of the comparative method). In addition, alignment analyses are useful in presenting one's analyses in a transparent way, since, unfortunately, scholar often think that their cognate judgments are self-evident, ignoring that a linguist with another language family as their specialty will barely be able to follow the idiosyncratic discourse on language-family-specific sound change patterns and the like. \n",
    "\n",
    "In order to carry out alignment analyses in LingPy, you have a range of different possibilities, and there won't be the time to cover all of them here. Instead, I will illustrate how you can make a quick multiple alignment using the ```Multiple``` class of LingPy (see also the [online reference](http://lingpy.org/docu/align/multiple.html)). This class is automatically imported when importing LingPy, and it requires a list of sequences as input. Here again, LingPy will automatically try to split your input sequences if they are not already segmentized, but we advise you to segmentize them properly before. We use four words for \"dog\" in Polynesian languages (Samoan, Hawaiian, North Marquesan, and Anuta). We do not type them in by pre-segmenting them, but rather tell LingPy to treat vowels not as dipthongs. We start with the simplest method, the *progressive alignment*, which first makes a little tree of the input sequences and then aligns them by going the tree from the leaves to the root, every time aligning two more until all are aligned:"
   ]
  },
  {
   "cell_type": "code",
   "execution_count": 20,
   "metadata": {},
   "outputs": [
    {
     "name": "stdout",
     "output_type": "stream",
     "text": [
      "ʔ\tu\tl\ti\t-\n",
      "ʔ\ti\tl\ti\to\n",
      "k\tu\tʔ\ti\t-\n",
      "k\to\tr\ti\t-\n"
     ]
    }
   ],
   "source": [
    "msa = Multiple(['ʔuli', 'ʔilio', 'kuʔi', 'kori'], merge_vowels=False)\n",
    "print(msa.align('progressive'))"
   ]
  },
  {
   "cell_type": "markdown",
   "metadata": {},
   "source": [
    "There are more complicated algorithms available, for example, library-based alignment, following the T-Coffee algorithm ([Notredame et al. 2000](http://bibliography.lingpy.org?key=Notredame2000)), based on a so-called \"library\" which is created before the tree is built. "
   ]
  },
  {
   "cell_type": "code",
   "execution_count": 21,
   "metadata": {},
   "outputs": [
    {
     "name": "stdout",
     "output_type": "stream",
     "text": [
      "ʔ\tu\tl\ti\t-\n",
      "ʔ\ti\tl\ti\to\n",
      "k\tu\tʔ\ti\t-\n",
      "k\to\tr\ti\t-\n"
     ]
    }
   ],
   "source": [
    "print(msa.align('library'))"
   ]
  },
  {
   "cell_type": "markdown",
   "metadata": {},
   "source": [
    "The results are still the same, which is not really surprising, given that this alignment is not very challenging, but it was shown in [List (2014)](http://bibliography.lingpy.org?key=List2014d) that this algorithm largely enhances more complex alignments.\n",
    "\n",
    "As mentioned before, the algorithms make use of a specific guide tree along with the sequences are consecutively aligned. In order to check how this guide tree looks like, you can do the following:"
   ]
  },
  {
   "cell_type": "code",
   "execution_count": 22,
   "metadata": {},
   "outputs": [
    {
     "name": "stdout",
     "output_type": "stream",
     "text": [
      "                              /-HYLI\n",
      "                    /edge.0--|\n",
      "          /edge.1--|          \\-HILIU\n",
      "         |         |\n",
      "-root----|          \\-KURI\n",
      "         |\n",
      "          \\-KYHI\n"
     ]
    }
   ],
   "source": [
    "print(msa.tree.asciiArt())"
   ]
  },
  {
   "cell_type": "markdown",
   "metadata": {},
   "source": [
    "As you can see, the algorithm guide tree shows the sound-class reresentation of the words as the leaves of the tree. From there, it is probably also quite easy to see how the algorithm arrives at the cluster decision."
   ]
  },
  {
   "cell_type": "markdown",
   "metadata": {},
   "source": [
    "## 4 Cognate Detection\n",
    "\n",
    "### 4.1 Checking the Data\n",
    "\n",
    "We assume that you have thoroughly checked your data manually before running cognate detection analyses. I also assume that you do not have any of the following problems in your data:\n",
    "\n",
    "* an extensive number of synonyms in one language\n",
    "* multiple variant forms for the same word form\n",
    "* data merged from different sources without adjusting the phonetic transcription\n",
    "* mutual coverage below 100 words per language pair (and AMC score below 0.75).\n",
    "\n",
    "Before running the cognate detection analysis, you may, however, still want to check whether LingPy recognizes all your data correctly. Here, a very simple way to achieve this is to load the `LexStat` class with the specific keyword `check` set to `True` (more on LexStat can also be found in the [online reference](http://lingpy.org/docu/compare/lexstat.html)):"
   ]
  },
  {
   "cell_type": "code",
   "execution_count": 23,
   "metadata": {},
   "outputs": [
    {
     "name": "stderr",
     "output_type": "stream",
     "text": [
      "2018-05-14 16:44:36,191 [INFO] No obvious errors found in the data.\n"
     ]
    }
   ],
   "source": [
    "lex = LexStat('east-polynesian.tsv', check=True, segments='tokens')"
   ]
  },
  {
   "cell_type": "markdown",
   "metadata": {
    "collapsed": true
   },
   "source": [
    "If you have problems in your data encoding, you will be asked if you want to exclude the sequences automatically. As a result, a logfile, called `errors.log` will be created and point you to all erroneous sequences which contain segments which LingPy does not recognize. Let us quickly introduce some bad sequences by just converting randomly all `[`e`]` sounds to the letter A (capitals are never accepted in the normal sound class models of LingPy) and see what we get then. For this, we even do not need to re-write the data, we just add another row where we change the content, give it a random name (we call it \"tokens\", as this also signals LingPy that the input should be treated as a sequence and not as a string), and specify this for the `LexStat` instance method as the column in the file where the `segments` are. We first load the data as `Wordlist` and then pass that data directly to `LexStat`:"
   ]
  },
  {
   "cell_type": "code",
   "execution_count": 24,
   "metadata": {},
   "outputs": [
    {
     "name": "stderr",
     "output_type": "stream",
     "text": [
      "2018-05-14 16:44:36,558 [INFO] Data has been written to file <errors.log>.\n"
     ]
    },
    {
     "name": "stdout",
     "output_type": "stream",
     "text": [
      "There were errors in the input data - exclude them? [y/N] y\n"
     ]
    },
    {
     "name": "stderr",
     "output_type": "stream",
     "text": [
      "2018-05-14 16:45:05,469 [INFO] Data has been written to file <lingpy-2018-05-14_cleaned.tsv>.\n",
      "2018-05-14 16:45:05,537 [INFO] No obvious errors found in the data.\n"
     ]
    }
   ],
   "source": [
    "wl = Wordlist('east-polynesian.tsv')\n",
    "\n",
    "# add new column \"segments\" and replace data from column \"tokens\"\n",
    "wl.add_entries('segments', 'tokens', lambda x: ['A' if y == 'e' else y for y in x])\n",
    "\n",
    "lex = LexStat(wl, segments='segments', check=True)"
   ]
  },
  {
   "cell_type": "markdown",
   "metadata": {},
   "source": [
    "If you now check the file `errors.log`, you will find a long file with the following first ten lines:\n",
    "\n",
    "```text\n",
    "ID\tTokens\tError-Type\n",
    "1572\t<bad character in tokens at «A»>\tg a t o a A l i m a\n",
    "3320\t<bad character in tokens at «A»>\tp a A _ ʔ a ʔ u r u\n",
    "5145\t<bad character in tokens at «A»>\tl i m a s A f u l u\n",
    "5696\t<bad character in tokens at «A»>\tr i m a _ t A k a u\n",
    "12\t<bad character in tokens at «A»>\tp a A\n",
    "3327\t<bad character in tokens at «A»>\tp a A\n",
    "5153\t<bad character in tokens at «A»>\tA _ f aː\n",
    "```\n",
    "\n",
    "Each row starts with the ID of the word which is contaminated (and this links to the row-ID of your input file), it is followed by a description of the error-type, and then by a segmented form of the word form. LingPy then also creates a file called `lingpy-DATE_cleaned.tsv` (`DATE` meaning the date of the day you run LingPy), in which all contaminated words have been excluded, and this file is read in again, if you pressed \"y\", and will be the one to run the analysis. \n",
    "\n",
    "LingPy thus tries to make the enterprise of cognate detection quite convenient for you as a user, but you should be warned not to use files containing errors for publications, but only for personal test purposes, in order to improve your data. If LingPy does not recognize characters, you should not globally exclude them as a reaction, but should instead try to improve your data until it is publication-ready. Otherwise, the results will much likely be disappointing anyway."
   ]
  },
  {
   "cell_type": "markdown",
   "metadata": {},
   "source": [
    "\n",
    "### 4.2 Overview on Algorithms\n",
    "\n",
    "LingPy comes along with four pre-defined cognate detection algorithms. These algorithms are all contained in the `LexStat` class which often confuses users, as one of the algorithms provided by `LexStat` is also called `lexstat`. Internally, however, it makes sense, as all algorithms were created at the same time, when the LexStat algorithm was published ([List 2012b](http://bibliography.lingpy.org?key=List2012a)), so it was written into one class which was called \"LexStat\".\n",
    "\n",
    "When carrying out cognate detection algorithms, it is important to keep in mind what these algorithms are based on. We can distinguish the following three major types:\n",
    "\n",
    "1. consonant-class-matching (CCM), following Dolgopolky's (1964) early idea to assume that words with two matching consonant classes would likely be cognate,\n",
    "2. phenotypic sequence similarity partitioning (PSSP), follows the general idea also applied in homology detection in biology, by which sequences are clustered into sets of homologs based on a partitioning algorithm which is applied to a distance or a similarity matrix representing the overall sequence similarity,\n",
    "3. language-specific sequence similarity partitioning (LSSP), follows the core idea of the LexStat algorithm by which sequence similarity is calculated on a language-specific basis for each language pair in the data, based on permutation statistics which give hints regarding the most likely candidates for regular sound correspondences.\n",
    "\n",
    "In LingPy, the methods which you can use to carry out these analyses have specific names, as well as the default output, a cluster decision represented as an integer identifier that assigns words to clusters. They are given in the table below:\n",
    "\n",
    "Class | Alignments? | Sound Classes? | Sound Correspondences? | Threshold?| LingPy-Name | LingPy-Output | Note\n",
    "--- | --- | --- | --- | --- | ---\n",
    "CCM | no | yes | no | no | \"turchin\" | \"turchinid\" | Consonant-class matching method close to the description in [Turchin et al. (2010)](http://bibliography.lingpy.org?key=Turchin2010))\n",
    "PSSP | yes | no | no | yes | \"edit-dist\" | \"editid\" | Vanilla edit-distance ([Levenshtein 1965](http://bibliography.lingpy.org?key=Levenshtein1965)), normalized by dividing with the longer string.\n",
    "PSSP | yes | yes | no | yes | \"sca\" | \"scaid\" | Distance score derived from SCA alignments ([List 2012a](http://bibliography.lingpy.org?key=List2012b)) by applying [Downey et al.'s (2008)](http://bibliography.lingpy.org?key=Downey2008) formula\n",
    "LSSP | yes | yes | yes | yes | \"lexstat\" | \"lexstatid\" | The core \"LexStat\" algorithm described in List ([2012b](http://bibliography.lingpy.org?key=List2012a) and [2014](http://bibliography.lingpy.org?key=List2014d))\n",
    "\n",
    "As a general rule, you should keep the following in mind (see also our experience with these methods in [List, Greenhill, and Gray (2017)](http://bibliography.lingpy.org?key=List2017c):\n",
    "\n",
    "1. if you want a fast first analysis and speed counts, take \"turchin\" (Dolgopolsky method), since it has a low amount of false positives, but it will also miss many cognates\n",
    "2. if speed does not matter and you have enough concepts (> 100) in your data, and you want to have the most reliable analysis, take \"lexstat\"\n",
    "3. if you have less than 100 concepts, and speed does not really matter, take \"sca\", as it yields consistently better results as the \"turchin\" method"
   ]
  },
  {
   "cell_type": "markdown",
   "metadata": {},
   "source": [
    "## 4.3 Running the Analyses\n",
    "\n",
    "In the following, we will run the users quickly to a test of all cognate detection algorithms and learn how to compare them. We start with the method called \"turchin\" in LingPy, and referred to as *consonant-class matching method* (CCM) above."
   ]
  },
  {
   "cell_type": "code",
   "execution_count": 25,
   "metadata": {},
   "outputs": [
    {
     "name": "stderr",
     "output_type": "stream",
     "text": [
      "2018-05-14 16:45:05,872 [INFO] No obvious errors found in the data.\n",
      "SEQUENCE CLUSTERING:   0%|          | 0/210 [00:00<?, ?it/s]2018-05-14 16:45:06,101 [INFO] Analyzing words for concept <Eight>.\n",
      "2018-05-14 16:45:06,103 [INFO] Analyzing words for concept <Fifty>.\n",
      "2018-05-14 16:45:06,104 [INFO] Analyzing words for concept <Five>.\n",
      "2018-05-14 16:45:06,108 [INFO] Analyzing words for concept <Four>.\n",
      "2018-05-14 16:45:06,110 [INFO] Analyzing words for concept <I>.\n",
      "2018-05-14 16:45:06,115 [INFO] Analyzing words for concept <Nine>.\n",
      "2018-05-14 16:45:06,118 [INFO] Analyzing words for concept <One>.\n",
      "2018-05-14 16:45:06,122 [INFO] Analyzing words for concept <One Hundred>.\n",
      "2018-05-14 16:45:06,126 [INFO] Analyzing words for concept <One Thousand>.\n",
      "2018-05-14 16:45:06,131 [INFO] Analyzing words for concept <Seven>.\n",
      "2018-05-14 16:45:06,135 [INFO] Analyzing words for concept <Six>.\n",
      "2018-05-14 16:45:06,138 [INFO] Analyzing words for concept <Ten>.\n",
      "2018-05-14 16:45:06,144 [INFO] Analyzing words for concept <Three>.\n",
      "2018-05-14 16:45:06,146 [INFO] Analyzing words for concept <Twenty>.\n",
      "2018-05-14 16:45:06,150 [INFO] Analyzing words for concept <Two>.\n",
      "2018-05-14 16:45:06,154 [INFO] Analyzing words for concept <above>.\n",
      "2018-05-14 16:45:06,156 [INFO] Analyzing words for concept <all>.\n",
      "2018-05-14 16:45:06,159 [INFO] Analyzing words for concept <and>.\n",
      "2018-05-14 16:45:06,161 [INFO] Analyzing words for concept <ash>.\n",
      "2018-05-14 16:45:06,164 [INFO] Analyzing words for concept <at>.\n",
      "2018-05-14 16:45:06,167 [INFO] Analyzing words for concept <back>.\n",
      "2018-05-14 16:45:06,170 [INFO] Analyzing words for concept <bad, evil>.\n",
      "2018-05-14 16:45:06,174 [INFO] Analyzing words for concept <belly>.\n",
      "2018-05-14 16:45:06,179 [INFO] Analyzing words for concept <below>.\n",
      "2018-05-14 16:45:06,181 [INFO] Analyzing words for concept <big>.\n",
      "2018-05-14 16:45:06,185 [INFO] Analyzing words for concept <bird>.\n",
      "2018-05-14 16:45:06,187 [INFO] Analyzing words for concept <black>.\n",
      "2018-05-14 16:45:06,191 [INFO] Analyzing words for concept <blood>.\n",
      "2018-05-14 16:45:06,193 [INFO] Analyzing words for concept <bone>.\n",
      "2018-05-14 16:45:06,195 [INFO] Analyzing words for concept <branch>.\n",
      "2018-05-14 16:45:06,198 [INFO] Analyzing words for concept <breast>.\n",
      "SEQUENCE CLUSTERING:  15%|█▍        | 31/210 [00:00<00:00, 309.13it/s]2018-05-14 16:45:06,203 [INFO] Analyzing words for concept <child>.\n",
      "2018-05-14 16:45:06,207 [INFO] Analyzing words for concept <cloud>.\n",
      "2018-05-14 16:45:06,210 [INFO] Analyzing words for concept <cold>.\n",
      "2018-05-14 16:45:06,216 [INFO] Analyzing words for concept <correct, true>.\n",
      "2018-05-14 16:45:06,222 [INFO] Analyzing words for concept <day>.\n",
      "2018-05-14 16:45:06,226 [INFO] Analyzing words for concept <dirty>.\n",
      "2018-05-14 16:45:06,230 [INFO] Analyzing words for concept <dog>.\n",
      "2018-05-14 16:45:06,234 [INFO] Analyzing words for concept <dry>.\n",
      "2018-05-14 16:45:06,238 [INFO] Analyzing words for concept <dull, blunt>.\n",
      "2018-05-14 16:45:06,241 [INFO] Analyzing words for concept <dust>.\n",
      "2018-05-14 16:45:06,245 [INFO] Analyzing words for concept <ear>.\n",
      "2018-05-14 16:45:06,248 [INFO] Analyzing words for concept <earth/soil>.\n",
      "2018-05-14 16:45:06,253 [INFO] Analyzing words for concept <egg>.\n",
      "2018-05-14 16:45:06,256 [INFO] Analyzing words for concept <eye>.\n",
      "2018-05-14 16:45:06,259 [INFO] Analyzing words for concept <far>.\n",
      "2018-05-14 16:45:06,262 [INFO] Analyzing words for concept <fat/grease>.\n",
      "2018-05-14 16:45:06,265 [INFO] Analyzing words for concept <father>.\n",
      "2018-05-14 16:45:06,270 [INFO] Analyzing words for concept <feather>.\n",
      "2018-05-14 16:45:06,273 [INFO] Analyzing words for concept <fire>.\n",
      "2018-05-14 16:45:06,276 [INFO] Analyzing words for concept <fish>.\n",
      "2018-05-14 16:45:06,279 [INFO] Analyzing words for concept <flower>.\n",
      "2018-05-14 16:45:06,282 [INFO] Analyzing words for concept <fog>.\n",
      "2018-05-14 16:45:06,286 [INFO] Analyzing words for concept <fruit>.\n",
      "2018-05-14 16:45:06,288 [INFO] Analyzing words for concept <good>.\n",
      "2018-05-14 16:45:06,293 [INFO] Analyzing words for concept <grass>.\n",
      "2018-05-14 16:45:06,296 [INFO] Analyzing words for concept <green>.\n",
      "2018-05-14 16:45:06,299 [INFO] Analyzing words for concept <hair>.\n",
      "SEQUENCE CLUSTERING:  28%|██▊       | 58/210 [00:00<00:00, 292.68it/s]2018-05-14 16:45:06,306 [INFO] Analyzing words for concept <hand>.\n",
      "2018-05-14 16:45:06,309 [INFO] Analyzing words for concept <he/she>.\n",
      "2018-05-14 16:45:06,313 [INFO] Analyzing words for concept <head>.\n",
      "2018-05-14 16:45:06,317 [INFO] Analyzing words for concept <heavy>.\n",
      "2018-05-14 16:45:06,322 [INFO] Analyzing words for concept <house>.\n",
      "2018-05-14 16:45:06,325 [INFO] Analyzing words for concept <how?>.\n",
      "2018-05-14 16:45:06,327 [INFO] Analyzing words for concept <husband>.\n",
      "2018-05-14 16:45:06,329 [INFO] Analyzing words for concept <if>.\n",
      "2018-05-14 16:45:06,331 [INFO] Analyzing words for concept <in, inside>.\n",
      "2018-05-14 16:45:06,334 [INFO] Analyzing words for concept <intestines>.\n",
      "2018-05-14 16:45:06,336 [INFO] Analyzing words for concept <lake>.\n",
      "2018-05-14 16:45:06,338 [INFO] Analyzing words for concept <leaf>.\n",
      "2018-05-14 16:45:06,341 [INFO] Analyzing words for concept <left>.\n",
      "2018-05-14 16:45:06,343 [INFO] Analyzing words for concept <leg/foot>.\n",
      "2018-05-14 16:45:06,345 [INFO] Analyzing words for concept <lightning>.\n",
      "2018-05-14 16:45:06,348 [INFO] Analyzing words for concept <liver>.\n",
      "2018-05-14 16:45:06,352 [INFO] Analyzing words for concept <long>.\n",
      "2018-05-14 16:45:06,354 [INFO] Analyzing words for concept <louse>.\n",
      "2018-05-14 16:45:06,357 [INFO] Analyzing words for concept <man/male>.\n",
      "2018-05-14 16:45:06,363 [INFO] Analyzing words for concept <meat/flesh>.\n",
      "2018-05-14 16:45:06,365 [INFO] Analyzing words for concept <moon>.\n",
      "2018-05-14 16:45:06,369 [INFO] Analyzing words for concept <mosquito>.\n",
      "2018-05-14 16:45:06,372 [INFO] Analyzing words for concept <mother>.\n",
      "2018-05-14 16:45:06,376 [INFO] Analyzing words for concept <mouth>.\n",
      "2018-05-14 16:45:06,380 [INFO] Analyzing words for concept <name>.\n",
      "2018-05-14 16:45:06,382 [INFO] Analyzing words for concept <narrow>.\n",
      "2018-05-14 16:45:06,386 [INFO] Analyzing words for concept <near>.\n",
      "2018-05-14 16:45:06,388 [INFO] Analyzing words for concept <neck>.\n",
      "2018-05-14 16:45:06,391 [INFO] Analyzing words for concept <needle>.\n",
      "2018-05-14 16:45:06,393 [INFO] Analyzing words for concept <new>.\n",
      "2018-05-14 16:45:06,395 [INFO] Analyzing words for concept <night>.\n",
      "2018-05-14 16:45:06,397 [INFO] Analyzing words for concept <no, not>.\n",
      "2018-05-14 16:45:06,400 [INFO] Analyzing words for concept <nose>.\n",
      "2018-05-14 16:45:06,403 [INFO] Analyzing words for concept <old>.\n",
      "SEQUENCE CLUSTERING:  44%|████▍     | 92/210 [00:00<00:00, 303.83it/s]2018-05-14 16:45:06,408 [INFO] Analyzing words for concept <other>.\n",
      "2018-05-14 16:45:06,409 [INFO] Analyzing words for concept <painful, sick>.\n",
      "2018-05-14 16:45:06,413 [INFO] Analyzing words for concept <person/human being>.\n",
      "2018-05-14 16:45:06,417 [INFO] Analyzing words for concept <rain>.\n",
      "2018-05-14 16:45:06,419 [INFO] Analyzing words for concept <rat>.\n",
      "2018-05-14 16:45:06,422 [INFO] Analyzing words for concept <red>.\n",
      "2018-05-14 16:45:06,426 [INFO] Analyzing words for concept <right>.\n",
      "2018-05-14 16:45:06,429 [INFO] Analyzing words for concept <road/path>.\n",
      "2018-05-14 16:45:06,433 [INFO] Analyzing words for concept <root>.\n",
      "2018-05-14 16:45:06,437 [INFO] Analyzing words for concept <rope>.\n",
      "2018-05-14 16:45:06,441 [INFO] Analyzing words for concept <rotten>.\n",
      "2018-05-14 16:45:06,445 [INFO] Analyzing words for concept <salt>.\n",
      "2018-05-14 16:45:06,449 [INFO] Analyzing words for concept <sand>.\n",
      "2018-05-14 16:45:06,453 [INFO] Analyzing words for concept <sea>.\n",
      "2018-05-14 16:45:06,460 [INFO] Analyzing words for concept <sharp>.\n",
      "2018-05-14 16:45:06,462 [INFO] Analyzing words for concept <short>.\n",
      "2018-05-14 16:45:06,466 [INFO] Analyzing words for concept <shoulder>.\n",
      "2018-05-14 16:45:06,470 [INFO] Analyzing words for concept <shy, ashamed>.\n",
      "2018-05-14 16:45:06,472 [INFO] Analyzing words for concept <skin>.\n",
      "2018-05-14 16:45:06,474 [INFO] Analyzing words for concept <sky>.\n",
      "2018-05-14 16:45:06,477 [INFO] Analyzing words for concept <small>.\n",
      "2018-05-14 16:45:06,482 [INFO] Analyzing words for concept <smoke>.\n",
      "2018-05-14 16:45:06,484 [INFO] Analyzing words for concept <snake>.\n"
     ]
    },
    {
     "name": "stderr",
     "output_type": "stream",
     "text": [
      "2018-05-14 16:45:06,486 [INFO] Analyzing words for concept <spider>.\n",
      "2018-05-14 16:45:06,489 [INFO] Analyzing words for concept <star>.\n",
      "2018-05-14 16:45:06,492 [INFO] Analyzing words for concept <stick/wood>.\n",
      "2018-05-14 16:45:06,494 [INFO] Analyzing words for concept <stone>.\n",
      "2018-05-14 16:45:06,499 [INFO] Analyzing words for concept <tail>.\n",
      "2018-05-14 16:45:06,505 [INFO] Analyzing words for concept <that>.\n",
      "2018-05-14 16:45:06,506 [INFO] Analyzing words for concept <thatch/roof>.\n",
      "SEQUENCE CLUSTERING:  58%|█████▊    | 122/210 [00:00<00:00, 300.25it/s]2018-05-14 16:45:06,510 [INFO] Analyzing words for concept <they>.\n",
      "2018-05-14 16:45:06,515 [INFO] Analyzing words for concept <thick>.\n",
      "2018-05-14 16:45:06,520 [INFO] Analyzing words for concept <thin>.\n",
      "2018-05-14 16:45:06,525 [INFO] Analyzing words for concept <this>.\n",
      "2018-05-14 16:45:06,527 [INFO] Analyzing words for concept <thou>.\n",
      "2018-05-14 16:45:06,529 [INFO] Analyzing words for concept <thunder>.\n",
      "2018-05-14 16:45:06,533 [INFO] Analyzing words for concept <to bite>.\n",
      "2018-05-14 16:45:06,536 [INFO] Analyzing words for concept <to blow>.\n",
      "2018-05-14 16:45:06,542 [INFO] Analyzing words for concept <to breathe>.\n",
      "2018-05-14 16:45:06,546 [INFO] Analyzing words for concept <to burn>.\n",
      "2018-05-14 16:45:06,553 [INFO] Analyzing words for concept <to buy>.\n",
      "2018-05-14 16:45:06,555 [INFO] Analyzing words for concept <to chew>.\n",
      "2018-05-14 16:45:06,558 [INFO] Analyzing words for concept <to choose>.\n",
      "2018-05-14 16:45:06,561 [INFO] Analyzing words for concept <to climb>.\n",
      "2018-05-14 16:45:06,565 [INFO] Analyzing words for concept <to come>.\n",
      "2018-05-14 16:45:06,571 [INFO] Analyzing words for concept <to cook>.\n",
      "2018-05-14 16:45:06,575 [INFO] Analyzing words for concept <to count>.\n",
      "2018-05-14 16:45:06,577 [INFO] Analyzing words for concept <to cry>.\n",
      "2018-05-14 16:45:06,581 [INFO] Analyzing words for concept <to cut, hack>.\n",
      "2018-05-14 16:45:06,588 [INFO] Analyzing words for concept <to die, be dead>.\n",
      "2018-05-14 16:45:06,592 [INFO] Analyzing words for concept <to dig>.\n",
      "2018-05-14 16:45:06,596 [INFO] Analyzing words for concept <to dream>.\n",
      "2018-05-14 16:45:06,601 [INFO] Analyzing words for concept <to drink>.\n",
      "2018-05-14 16:45:06,604 [INFO] Analyzing words for concept <to eat>.\n",
      "2018-05-14 16:45:06,607 [INFO] Analyzing words for concept <to fall>.\n",
      "SEQUENCE CLUSTERING:  70%|███████   | 147/210 [00:00<00:00, 277.32it/s]2018-05-14 16:45:06,619 [INFO] Analyzing words for concept <to fear>.\n",
      "2018-05-14 16:45:06,624 [INFO] Analyzing words for concept <to flow>.\n",
      "2018-05-14 16:45:06,627 [INFO] Analyzing words for concept <to fly>.\n",
      "2018-05-14 16:45:06,631 [INFO] Analyzing words for concept <to grow>.\n",
      "2018-05-14 16:45:06,634 [INFO] Analyzing words for concept <to hear>.\n",
      "2018-05-14 16:45:06,637 [INFO] Analyzing words for concept <to hide>.\n",
      "2018-05-14 16:45:06,639 [INFO] Analyzing words for concept <to hit>.\n",
      "2018-05-14 16:45:06,646 [INFO] Analyzing words for concept <to hold>.\n",
      "2018-05-14 16:45:06,649 [INFO] Analyzing words for concept <to hunt>.\n",
      "2018-05-14 16:45:06,652 [INFO] Analyzing words for concept <to kill>.\n",
      "2018-05-14 16:45:06,656 [INFO] Analyzing words for concept <to know, be knowledgeable>.\n",
      "2018-05-14 16:45:06,660 [INFO] Analyzing words for concept <to laugh>.\n",
      "2018-05-14 16:45:06,662 [INFO] Analyzing words for concept <to lie down>.\n",
      "2018-05-14 16:45:06,666 [INFO] Analyzing words for concept <to live, be alive>.\n",
      "2018-05-14 16:45:06,669 [INFO] Analyzing words for concept <to open, uncover>.\n",
      "2018-05-14 16:45:06,673 [INFO] Analyzing words for concept <to plant>.\n",
      "2018-05-14 16:45:06,676 [INFO] Analyzing words for concept <to pound, beat>.\n",
      "2018-05-14 16:45:06,679 [INFO] Analyzing words for concept <to say>.\n",
      "2018-05-14 16:45:06,683 [INFO] Analyzing words for concept <to scratch>.\n",
      "2018-05-14 16:45:06,686 [INFO] Analyzing words for concept <to see>.\n",
      "2018-05-14 16:45:06,689 [INFO] Analyzing words for concept <to sew>.\n",
      "2018-05-14 16:45:06,692 [INFO] Analyzing words for concept <to shoot>.\n",
      "2018-05-14 16:45:06,693 [INFO] Analyzing words for concept <to sit>.\n",
      "2018-05-14 16:45:06,695 [INFO] Analyzing words for concept <to sleep>.\n",
      "2018-05-14 16:45:06,697 [INFO] Analyzing words for concept <to sniff, smell>.\n",
      "2018-05-14 16:45:06,700 [INFO] Analyzing words for concept <to spit>.\n",
      "2018-05-14 16:45:06,704 [INFO] Analyzing words for concept <to split>.\n",
      "2018-05-14 16:45:06,708 [INFO] Analyzing words for concept <to squeeze>.\n",
      "2018-05-14 16:45:06,712 [INFO] Analyzing words for concept <to stab, pierce>.\n",
      "2018-05-14 16:45:06,716 [INFO] Analyzing words for concept <to stand>.\n",
      "SEQUENCE CLUSTERING:  84%|████████▍ | 177/210 [00:00<00:00, 281.77it/s]2018-05-14 16:45:06,719 [INFO] Analyzing words for concept <to steal>.\n",
      "2018-05-14 16:45:06,721 [INFO] Analyzing words for concept <to suck>.\n",
      "2018-05-14 16:45:06,725 [INFO] Analyzing words for concept <to swell>.\n",
      "2018-05-14 16:45:06,727 [INFO] Analyzing words for concept <to swim>.\n",
      "2018-05-14 16:45:06,729 [INFO] Analyzing words for concept <to think>.\n",
      "2018-05-14 16:45:06,732 [INFO] Analyzing words for concept <to throw>.\n",
      "2018-05-14 16:45:06,736 [INFO] Analyzing words for concept <to tie up, fasten>.\n",
      "2018-05-14 16:45:06,740 [INFO] Analyzing words for concept <to turn>.\n",
      "2018-05-14 16:45:06,743 [INFO] Analyzing words for concept <to vomit>.\n",
      "2018-05-14 16:45:06,745 [INFO] Analyzing words for concept <to walk>.\n",
      "2018-05-14 16:45:06,749 [INFO] Analyzing words for concept <to work>.\n",
      "2018-05-14 16:45:06,751 [INFO] Analyzing words for concept <to yawn>.\n",
      "2018-05-14 16:45:06,753 [INFO] Analyzing words for concept <tongue>.\n",
      "2018-05-14 16:45:06,756 [INFO] Analyzing words for concept <tooth>.\n",
      "2018-05-14 16:45:06,758 [INFO] Analyzing words for concept <warm>.\n",
      "2018-05-14 16:45:06,762 [INFO] Analyzing words for concept <water>.\n",
      "2018-05-14 16:45:06,764 [INFO] Analyzing words for concept <we>.\n",
      "2018-05-14 16:45:06,788 [INFO] Analyzing words for concept <wet>.\n",
      "2018-05-14 16:45:06,791 [INFO] Analyzing words for concept <what?>.\n",
      "2018-05-14 16:45:06,793 [INFO] Analyzing words for concept <when?>.\n",
      "2018-05-14 16:45:06,795 [INFO] Analyzing words for concept <where?>.\n",
      "2018-05-14 16:45:06,797 [INFO] Analyzing words for concept <white>.\n",
      "2018-05-14 16:45:06,800 [INFO] Analyzing words for concept <who?>.\n",
      "2018-05-14 16:45:06,802 [INFO] Analyzing words for concept <wide>.\n",
      "2018-05-14 16:45:06,804 [INFO] Analyzing words for concept <wife>.\n",
      "2018-05-14 16:45:06,806 [INFO] Analyzing words for concept <wind>.\n",
      "2018-05-14 16:45:06,810 [INFO] Analyzing words for concept <wing>.\n",
      "2018-05-14 16:45:06,812 [INFO] Analyzing words for concept <woman/female>.\n",
      "2018-05-14 16:45:06,817 [INFO] Analyzing words for concept <woods/forest>.\n",
      "SEQUENCE CLUSTERING:  98%|█████████▊| 206/210 [00:00<00:00, 283.05it/s]2018-05-14 16:45:06,820 [INFO] Analyzing words for concept <worm (earthworm)>.\n",
      "2018-05-14 16:45:06,822 [INFO] Analyzing words for concept <year>.\n",
      "2018-05-14 16:45:06,825 [INFO] Analyzing words for concept <yellow>.\n",
      "2018-05-14 16:45:06,828 [INFO] Analyzing words for concept <you>.\n",
      "SEQUENCE CLUSTERING:   0%|          | 0/210 [00:00<?, ?it/s]           2018-05-14 16:45:06,840 [INFO] Analyzing words for concept <Eight>.\n",
      "2018-05-14 16:45:06,841 [INFO] Analyzing words for concept <Fifty>.\n",
      "2018-05-14 16:45:06,842 [INFO] Analyzing words for concept <Five>.\n",
      "2018-05-14 16:45:06,844 [INFO] Analyzing words for concept <Four>.\n",
      "2018-05-14 16:45:06,845 [INFO] Analyzing words for concept <I>.\n",
      "2018-05-14 16:45:06,847 [INFO] Analyzing words for concept <Nine>.\n",
      "2018-05-14 16:45:06,849 [INFO] Analyzing words for concept <One>.\n",
      "2018-05-14 16:45:06,851 [INFO] Analyzing words for concept <One Hundred>.\n",
      "2018-05-14 16:45:06,853 [INFO] Analyzing words for concept <One Thousand>.\n",
      "2018-05-14 16:45:06,855 [INFO] Analyzing words for concept <Seven>.\n",
      "2018-05-14 16:45:06,858 [INFO] Analyzing words for concept <Six>.\n",
      "2018-05-14 16:45:06,861 [INFO] Analyzing words for concept <Ten>.\n",
      "2018-05-14 16:45:06,867 [INFO] Analyzing words for concept <Three>.\n",
      "2018-05-14 16:45:06,869 [INFO] Analyzing words for concept <Twenty>.\n",
      "2018-05-14 16:45:06,871 [INFO] Analyzing words for concept <Two>.\n",
      "2018-05-14 16:45:06,873 [INFO] Analyzing words for concept <above>.\n",
      "2018-05-14 16:45:06,874 [INFO] Analyzing words for concept <all>.\n"
     ]
    },
    {
     "name": "stderr",
     "output_type": "stream",
     "text": [
      "2018-05-14 16:45:06,876 [INFO] Analyzing words for concept <and>.\n",
      "2018-05-14 16:45:06,877 [INFO] Analyzing words for concept <ash>.\n",
      "2018-05-14 16:45:06,879 [INFO] Analyzing words for concept <at>.\n",
      "2018-05-14 16:45:06,882 [INFO] Analyzing words for concept <back>.\n",
      "2018-05-14 16:45:06,884 [INFO] Analyzing words for concept <bad, evil>.\n",
      "2018-05-14 16:45:06,886 [INFO] Analyzing words for concept <belly>.\n",
      "2018-05-14 16:45:06,890 [INFO] Analyzing words for concept <below>.\n",
      "2018-05-14 16:45:06,892 [INFO] Analyzing words for concept <big>.\n",
      "2018-05-14 16:45:06,894 [INFO] Analyzing words for concept <bird>.\n",
      "2018-05-14 16:45:06,896 [INFO] Analyzing words for concept <black>.\n",
      "2018-05-14 16:45:06,899 [INFO] Analyzing words for concept <blood>.\n",
      "2018-05-14 16:45:06,901 [INFO] Analyzing words for concept <bone>.\n",
      "2018-05-14 16:45:06,902 [INFO] Analyzing words for concept <branch>.\n",
      "2018-05-14 16:45:06,904 [INFO] Analyzing words for concept <breast>.\n",
      "2018-05-14 16:45:06,906 [INFO] Analyzing words for concept <child>.\n",
      "2018-05-14 16:45:06,909 [INFO] Analyzing words for concept <cloud>.\n",
      "2018-05-14 16:45:06,911 [INFO] Analyzing words for concept <cold>.\n",
      "2018-05-14 16:45:06,915 [INFO] Analyzing words for concept <correct, true>.\n",
      "2018-05-14 16:45:06,920 [INFO] Analyzing words for concept <day>.\n",
      "2018-05-14 16:45:06,922 [INFO] Analyzing words for concept <dirty>.\n",
      "2018-05-14 16:45:06,924 [INFO] Analyzing words for concept <dog>.\n",
      "2018-05-14 16:45:06,926 [INFO] Analyzing words for concept <dry>.\n",
      "2018-05-14 16:45:06,928 [INFO] Analyzing words for concept <dull, blunt>.\n",
      "2018-05-14 16:45:06,931 [INFO] Analyzing words for concept <dust>.\n",
      "2018-05-14 16:45:06,934 [INFO] Analyzing words for concept <ear>.\n",
      "2018-05-14 16:45:06,936 [INFO] Analyzing words for concept <earth/soil>.\n",
      "2018-05-14 16:45:06,939 [INFO] Analyzing words for concept <egg>.\n",
      "SEQUENCE CLUSTERING:  21%|██        | 44/210 [00:00<00:00, 433.22it/s]2018-05-14 16:45:06,942 [INFO] Analyzing words for concept <eye>.\n",
      "2018-05-14 16:45:06,944 [INFO] Analyzing words for concept <far>.\n",
      "2018-05-14 16:45:06,946 [INFO] Analyzing words for concept <fat/grease>.\n",
      "2018-05-14 16:45:06,948 [INFO] Analyzing words for concept <father>.\n",
      "2018-05-14 16:45:06,951 [INFO] Analyzing words for concept <feather>.\n",
      "2018-05-14 16:45:06,953 [INFO] Analyzing words for concept <fire>.\n",
      "2018-05-14 16:45:06,955 [INFO] Analyzing words for concept <fish>.\n",
      "2018-05-14 16:45:06,957 [INFO] Analyzing words for concept <flower>.\n",
      "2018-05-14 16:45:06,959 [INFO] Analyzing words for concept <fog>.\n",
      "2018-05-14 16:45:06,960 [INFO] Analyzing words for concept <fruit>.\n",
      "2018-05-14 16:45:06,962 [INFO] Analyzing words for concept <good>.\n",
      "2018-05-14 16:45:06,966 [INFO] Analyzing words for concept <grass>.\n",
      "2018-05-14 16:45:06,968 [INFO] Analyzing words for concept <green>.\n",
      "2018-05-14 16:45:06,970 [INFO] Analyzing words for concept <hair>.\n",
      "2018-05-14 16:45:06,973 [INFO] Analyzing words for concept <hand>.\n",
      "2018-05-14 16:45:06,986 [INFO] Analyzing words for concept <he/she>.\n",
      "2018-05-14 16:45:06,988 [INFO] Analyzing words for concept <head>.\n",
      "2018-05-14 16:45:06,991 [INFO] Analyzing words for concept <heavy>.\n",
      "2018-05-14 16:45:06,994 [INFO] Analyzing words for concept <house>.\n",
      "2018-05-14 16:45:06,996 [INFO] Analyzing words for concept <how?>.\n",
      "2018-05-14 16:45:06,997 [INFO] Analyzing words for concept <husband>.\n",
      "2018-05-14 16:45:06,998 [INFO] Analyzing words for concept <if>.\n",
      "2018-05-14 16:45:07,001 [INFO] Analyzing words for concept <in, inside>.\n",
      "2018-05-14 16:45:07,003 [INFO] Analyzing words for concept <intestines>.\n",
      "2018-05-14 16:45:07,005 [INFO] Analyzing words for concept <lake>.\n",
      "2018-05-14 16:45:07,007 [INFO] Analyzing words for concept <leaf>.\n",
      "2018-05-14 16:45:07,009 [INFO] Analyzing words for concept <left>.\n",
      "2018-05-14 16:45:07,012 [INFO] Analyzing words for concept <leg/foot>.\n",
      "2018-05-14 16:45:07,014 [INFO] Analyzing words for concept <lightning>.\n",
      "2018-05-14 16:45:07,016 [INFO] Analyzing words for concept <liver>.\n",
      "2018-05-14 16:45:07,019 [INFO] Analyzing words for concept <long>.\n",
      "2018-05-14 16:45:07,021 [INFO] Analyzing words for concept <louse>.\n",
      "2018-05-14 16:45:07,023 [INFO] Analyzing words for concept <man/male>.\n",
      "2018-05-14 16:45:07,028 [INFO] Analyzing words for concept <meat/flesh>.\n",
      "2018-05-14 16:45:07,030 [INFO] Analyzing words for concept <moon>.\n",
      "2018-05-14 16:45:07,033 [INFO] Analyzing words for concept <mosquito>.\n",
      "2018-05-14 16:45:07,035 [INFO] Analyzing words for concept <mother>.\n",
      "2018-05-14 16:45:07,039 [INFO] Analyzing words for concept <mouth>.\n",
      "2018-05-14 16:45:07,042 [INFO] Analyzing words for concept <name>.\n",
      "SEQUENCE CLUSTERING:  40%|███▉      | 83/210 [00:00<00:00, 415.95it/s]2018-05-14 16:45:07,045 [INFO] Analyzing words for concept <narrow>.\n",
      "2018-05-14 16:45:07,048 [INFO] Analyzing words for concept <near>.\n",
      "2018-05-14 16:45:07,050 [INFO] Analyzing words for concept <neck>.\n",
      "2018-05-14 16:45:07,052 [INFO] Analyzing words for concept <needle>.\n",
      "2018-05-14 16:45:07,055 [INFO] Analyzing words for concept <new>.\n",
      "2018-05-14 16:45:07,057 [INFO] Analyzing words for concept <night>.\n",
      "2018-05-14 16:45:07,059 [INFO] Analyzing words for concept <no, not>.\n",
      "2018-05-14 16:45:07,061 [INFO] Analyzing words for concept <nose>.\n",
      "2018-05-14 16:45:07,063 [INFO] Analyzing words for concept <old>.\n",
      "2018-05-14 16:45:07,068 [INFO] Analyzing words for concept <other>.\n",
      "2018-05-14 16:45:07,069 [INFO] Analyzing words for concept <painful, sick>.\n",
      "2018-05-14 16:45:07,073 [INFO] Analyzing words for concept <person/human being>.\n",
      "2018-05-14 16:45:07,076 [INFO] Analyzing words for concept <rain>.\n",
      "2018-05-14 16:45:07,078 [INFO] Analyzing words for concept <rat>.\n",
      "2018-05-14 16:45:07,081 [INFO] Analyzing words for concept <red>.\n",
      "2018-05-14 16:45:07,084 [INFO] Analyzing words for concept <right>.\n",
      "2018-05-14 16:45:07,087 [INFO] Analyzing words for concept <road/path>.\n",
      "2018-05-14 16:45:07,091 [INFO] Analyzing words for concept <root>.\n",
      "2018-05-14 16:45:07,093 [INFO] Analyzing words for concept <rope>.\n",
      "2018-05-14 16:45:07,096 [INFO] Analyzing words for concept <rotten>.\n",
      "2018-05-14 16:45:07,100 [INFO] Analyzing words for concept <salt>.\n",
      "2018-05-14 16:45:07,102 [INFO] Analyzing words for concept <sand>.\n",
      "2018-05-14 16:45:07,104 [INFO] Analyzing words for concept <sea>.\n",
      "2018-05-14 16:45:07,109 [INFO] Analyzing words for concept <sharp>.\n",
      "2018-05-14 16:45:07,111 [INFO] Analyzing words for concept <short>.\n",
      "2018-05-14 16:45:07,114 [INFO] Analyzing words for concept <shoulder>.\n",
      "2018-05-14 16:45:07,117 [INFO] Analyzing words for concept <shy, ashamed>.\n",
      "2018-05-14 16:45:07,119 [INFO] Analyzing words for concept <skin>.\n",
      "2018-05-14 16:45:07,121 [INFO] Analyzing words for concept <sky>.\n",
      "2018-05-14 16:45:07,123 [INFO] Analyzing words for concept <small>.\n",
      "2018-05-14 16:45:07,126 [INFO] Analyzing words for concept <smoke>.\n",
      "2018-05-14 16:45:07,129 [INFO] Analyzing words for concept <snake>.\n",
      "2018-05-14 16:45:07,130 [INFO] Analyzing words for concept <spider>.\n",
      "2018-05-14 16:45:07,133 [INFO] Analyzing words for concept <star>.\n",
      "2018-05-14 16:45:07,135 [INFO] Analyzing words for concept <stick/wood>.\n",
      "2018-05-14 16:45:07,137 [INFO] Analyzing words for concept <stone>.\n",
      "2018-05-14 16:45:07,141 [INFO] Analyzing words for concept <tail>.\n",
      "2018-05-14 16:45:07,144 [INFO] Analyzing words for concept <that>.\n",
      "SEQUENCE CLUSTERING:  58%|█████▊    | 121/210 [00:00<00:00, 402.59it/s]2018-05-14 16:45:07,146 [INFO] Analyzing words for concept <thatch/roof>.\n",
      "2018-05-14 16:45:07,148 [INFO] Analyzing words for concept <they>.\n",
      "2018-05-14 16:45:07,153 [INFO] Analyzing words for concept <thick>.\n",
      "2018-05-14 16:45:07,155 [INFO] Analyzing words for concept <thin>.\n",
      "2018-05-14 16:45:07,158 [INFO] Analyzing words for concept <this>.\n",
      "2018-05-14 16:45:07,160 [INFO] Analyzing words for concept <thou>.\n",
      "2018-05-14 16:45:07,161 [INFO] Analyzing words for concept <thunder>.\n",
      "2018-05-14 16:45:07,163 [INFO] Analyzing words for concept <to bite>.\n",
      "2018-05-14 16:45:07,164 [INFO] Analyzing words for concept <to blow>.\n",
      "2018-05-14 16:45:07,169 [INFO] Analyzing words for concept <to breathe>.\n",
      "2018-05-14 16:45:07,172 [INFO] Analyzing words for concept <to burn>.\n",
      "2018-05-14 16:45:07,176 [INFO] Analyzing words for concept <to buy>.\n",
      "2018-05-14 16:45:07,178 [INFO] Analyzing words for concept <to chew>.\n"
     ]
    },
    {
     "name": "stderr",
     "output_type": "stream",
     "text": [
      "2018-05-14 16:45:07,179 [INFO] Analyzing words for concept <to choose>.\n",
      "2018-05-14 16:45:07,181 [INFO] Analyzing words for concept <to climb>.\n",
      "2018-05-14 16:45:07,182 [INFO] Analyzing words for concept <to come>.\n",
      "2018-05-14 16:45:07,185 [INFO] Analyzing words for concept <to cook>.\n",
      "2018-05-14 16:45:07,187 [INFO] Analyzing words for concept <to count>.\n",
      "2018-05-14 16:45:07,189 [INFO] Analyzing words for concept <to cry>.\n",
      "2018-05-14 16:45:07,191 [INFO] Analyzing words for concept <to cut, hack>.\n",
      "2018-05-14 16:45:07,196 [INFO] Analyzing words for concept <to die, be dead>.\n",
      "2018-05-14 16:45:07,198 [INFO] Analyzing words for concept <to dig>.\n",
      "2018-05-14 16:45:07,201 [INFO] Analyzing words for concept <to dream>.\n",
      "2018-05-14 16:45:07,204 [INFO] Analyzing words for concept <to drink>.\n",
      "2018-05-14 16:45:07,206 [INFO] Analyzing words for concept <to eat>.\n",
      "2018-05-14 16:45:07,207 [INFO] Analyzing words for concept <to fall>.\n",
      "2018-05-14 16:45:07,215 [INFO] Analyzing words for concept <to fear>.\n",
      "2018-05-14 16:45:07,219 [INFO] Analyzing words for concept <to flow>.\n",
      "2018-05-14 16:45:07,221 [INFO] Analyzing words for concept <to fly>.\n",
      "2018-05-14 16:45:07,223 [INFO] Analyzing words for concept <to grow>.\n",
      "2018-05-14 16:45:07,226 [INFO] Analyzing words for concept <to hear>.\n",
      "2018-05-14 16:45:07,228 [INFO] Analyzing words for concept <to hide>.\n",
      "2018-05-14 16:45:07,230 [INFO] Analyzing words for concept <to hit>.\n",
      "2018-05-14 16:45:07,235 [INFO] Analyzing words for concept <to hold>.\n",
      "2018-05-14 16:45:07,238 [INFO] Analyzing words for concept <to hunt>.\n",
      "2018-05-14 16:45:07,239 [INFO] Analyzing words for concept <to kill>.\n",
      "2018-05-14 16:45:07,242 [INFO] Analyzing words for concept <to know, be knowledgeable>.\n",
      "2018-05-14 16:45:07,244 [INFO] Analyzing words for concept <to laugh>.\n",
      "SEQUENCE CLUSTERING:  76%|███████▌  | 159/210 [00:00<00:00, 395.27it/s]2018-05-14 16:45:07,246 [INFO] Analyzing words for concept <to lie down>.\n",
      "2018-05-14 16:45:07,250 [INFO] Analyzing words for concept <to live, be alive>.\n",
      "2018-05-14 16:45:07,251 [INFO] Analyzing words for concept <to open, uncover>.\n",
      "2018-05-14 16:45:07,254 [INFO] Analyzing words for concept <to plant>.\n",
      "2018-05-14 16:45:07,256 [INFO] Analyzing words for concept <to pound, beat>.\n",
      "2018-05-14 16:45:07,257 [INFO] Analyzing words for concept <to say>.\n",
      "2018-05-14 16:45:07,259 [INFO] Analyzing words for concept <to scratch>.\n",
      "2018-05-14 16:45:07,261 [INFO] Analyzing words for concept <to see>.\n",
      "2018-05-14 16:45:07,263 [INFO] Analyzing words for concept <to sew>.\n",
      "2018-05-14 16:45:07,266 [INFO] Analyzing words for concept <to shoot>.\n",
      "2018-05-14 16:45:07,268 [INFO] Analyzing words for concept <to sit>.\n",
      "2018-05-14 16:45:07,271 [INFO] Analyzing words for concept <to sleep>.\n",
      "2018-05-14 16:45:07,273 [INFO] Analyzing words for concept <to sniff, smell>.\n",
      "2018-05-14 16:45:07,275 [INFO] Analyzing words for concept <to spit>.\n",
      "2018-05-14 16:45:07,278 [INFO] Analyzing words for concept <to split>.\n",
      "2018-05-14 16:45:07,283 [INFO] Analyzing words for concept <to squeeze>.\n",
      "2018-05-14 16:45:07,286 [INFO] Analyzing words for concept <to stab, pierce>.\n",
      "2018-05-14 16:45:07,289 [INFO] Analyzing words for concept <to stand>.\n",
      "2018-05-14 16:45:07,290 [INFO] Analyzing words for concept <to steal>.\n",
      "2018-05-14 16:45:07,292 [INFO] Analyzing words for concept <to suck>.\n",
      "2018-05-14 16:45:07,295 [INFO] Analyzing words for concept <to swell>.\n",
      "2018-05-14 16:45:07,297 [INFO] Analyzing words for concept <to swim>.\n",
      "2018-05-14 16:45:07,298 [INFO] Analyzing words for concept <to think>.\n",
      "2018-05-14 16:45:07,301 [INFO] Analyzing words for concept <to throw>.\n",
      "2018-05-14 16:45:07,304 [INFO] Analyzing words for concept <to tie up, fasten>.\n",
      "2018-05-14 16:45:07,307 [INFO] Analyzing words for concept <to turn>.\n",
      "2018-05-14 16:45:07,312 [INFO] Analyzing words for concept <to vomit>.\n",
      "2018-05-14 16:45:07,315 [INFO] Analyzing words for concept <to walk>.\n",
      "2018-05-14 16:45:07,321 [INFO] Analyzing words for concept <to work>.\n",
      "2018-05-14 16:45:07,323 [INFO] Analyzing words for concept <to yawn>.\n",
      "2018-05-14 16:45:07,325 [INFO] Analyzing words for concept <tongue>.\n",
      "2018-05-14 16:45:07,327 [INFO] Analyzing words for concept <tooth>.\n",
      "2018-05-14 16:45:07,328 [INFO] Analyzing words for concept <warm>.\n",
      "2018-05-14 16:45:07,334 [INFO] Analyzing words for concept <water>.\n",
      "2018-05-14 16:45:07,336 [INFO] Analyzing words for concept <we>.\n",
      "SEQUENCE CLUSTERING:  92%|█████████▏| 194/210 [00:00<00:00, 379.81it/s]2018-05-14 16:45:07,358 [INFO] Analyzing words for concept <wet>.\n",
      "2018-05-14 16:45:07,361 [INFO] Analyzing words for concept <what?>.\n",
      "2018-05-14 16:45:07,362 [INFO] Analyzing words for concept <when?>.\n",
      "2018-05-14 16:45:07,364 [INFO] Analyzing words for concept <where?>.\n",
      "2018-05-14 16:45:07,365 [INFO] Analyzing words for concept <white>.\n",
      "2018-05-14 16:45:07,368 [INFO] Analyzing words for concept <who?>.\n",
      "2018-05-14 16:45:07,369 [INFO] Analyzing words for concept <wide>.\n",
      "2018-05-14 16:45:07,371 [INFO] Analyzing words for concept <wife>.\n",
      "2018-05-14 16:45:07,373 [INFO] Analyzing words for concept <wind>.\n",
      "2018-05-14 16:45:07,376 [INFO] Analyzing words for concept <wing>.\n",
      "2018-05-14 16:45:07,378 [INFO] Analyzing words for concept <woman/female>.\n",
      "2018-05-14 16:45:07,382 [INFO] Analyzing words for concept <woods/forest>.\n",
      "2018-05-14 16:45:07,384 [INFO] Analyzing words for concept <worm (earthworm)>.\n",
      "2018-05-14 16:45:07,388 [INFO] Analyzing words for concept <year>.\n",
      "2018-05-14 16:45:07,390 [INFO] Analyzing words for concept <yellow>.\n",
      "2018-05-14 16:45:07,392 [INFO] Analyzing words for concept <you>.\n",
      "                                                                       "
     ]
    },
    {
     "name": "stdout",
     "output_type": "stream",
     "text": [
      "Tahitian             \t va'u \t4\t 1\n",
      "Ra’ivavae            \t vaGu \t6\t 1\n",
      "Sikaiana             \t valu \t1\t 1\n",
      "Rurutuan             \t vaʔu \t4\t 1\n",
      "Rapanui              \t va'u \t4\t 1\n",
      "North_Marquesan      \t va'u \t4\t 1\n",
      "Maori                \t waru \t1\t 1\n",
      "Mangareva            \t varu \t1\t 1\n",
      "Tuamotuan            \t varu \t1\t 1\n",
      "Hawaiian             \t walu \t1\t 1\n"
     ]
    },
    {
     "name": "stderr",
     "output_type": "stream",
     "text": [
      "\r"
     ]
    }
   ],
   "source": [
    "lex = LexStat('east-polynesian.tsv', segments='tokens', check=True)\n",
    "\n",
    "# run the dolgopolsky (turchin) analysis, which is threshold-free\n",
    "lex.cluster(method='turchin', ref='turchinid')\n",
    "lex.cluster(method=\"edit-dist\", threshold=0.75, ref='editid')\n",
    "\n",
    "# show the cognate sets, stored in \"turchinid\" for the words for \"Eight\"\n",
    "eight = lex.get_dict(row='Eight') # get a dictionary with language as key for concept \"eight\"\n",
    "for k, v in eight.items():\n",
    "    idx = v[0] # index of the word, it gives us access to all data\n",
    "    print(\"{0:20} \\t {1} \\t{2}\\t {3}\".format(lex[idx, 'doculect'], lex[idx, 'value'], \n",
    "                                             lex[idx, 'turchinid'],\n",
    "                                            lex[idx, 'editid']))"
   ]
  },
  {
   "cell_type": "markdown",
   "metadata": {},
   "source": [
    "We now do the same for the \"sca\" method, but since this method is not threshold free, we will need to define a threshold. We follow the default value we know from experience, which is 0.45. We then print out the same data, but this time including the cognate judgments by all three methods:"
   ]
  },
  {
   "cell_type": "code",
   "execution_count": 26,
   "metadata": {},
   "outputs": [
    {
     "name": "stderr",
     "output_type": "stream",
     "text": [
      "SEQUENCE CLUSTERING:   0%|          | 0/210 [00:00<?, ?it/s]2018-05-14 16:45:07,408 [INFO] Analyzing words for concept <Eight>.\n",
      "2018-05-14 16:45:07,414 [INFO] Analyzing words for concept <Fifty>.\n",
      "2018-05-14 16:45:07,416 [INFO] Analyzing words for concept <Five>.\n",
      "2018-05-14 16:45:07,421 [INFO] Analyzing words for concept <Four>.\n",
      "2018-05-14 16:45:07,424 [INFO] Analyzing words for concept <I>.\n",
      "2018-05-14 16:45:07,429 [INFO] Analyzing words for concept <Nine>.\n",
      "2018-05-14 16:45:07,434 [INFO] Analyzing words for concept <One>.\n",
      "2018-05-14 16:45:07,439 [INFO] Analyzing words for concept <One Hundred>.\n",
      "2018-05-14 16:45:07,443 [INFO] Analyzing words for concept <One Thousand>.\n",
      "2018-05-14 16:45:07,451 [INFO] Analyzing words for concept <Seven>.\n",
      "2018-05-14 16:45:07,455 [INFO] Analyzing words for concept <Six>.\n",
      "2018-05-14 16:45:07,458 [INFO] Analyzing words for concept <Ten>.\n",
      "2018-05-14 16:45:07,470 [INFO] Analyzing words for concept <Three>.\n",
      "2018-05-14 16:45:07,475 [INFO] Analyzing words for concept <Twenty>.\n",
      "2018-05-14 16:45:07,480 [INFO] Analyzing words for concept <Two>.\n",
      "2018-05-14 16:45:07,484 [INFO] Analyzing words for concept <above>.\n",
      "2018-05-14 16:45:07,489 [INFO] Analyzing words for concept <all>.\n",
      "2018-05-14 16:45:07,495 [INFO] Analyzing words for concept <and>.\n",
      "2018-05-14 16:45:07,498 [INFO] Analyzing words for concept <ash>.\n",
      "2018-05-14 16:45:07,505 [INFO] Analyzing words for concept <at>.\n",
      "SEQUENCE CLUSTERING:  10%|▉         | 20/210 [00:00<00:00, 199.85it/s]2018-05-14 16:45:07,510 [INFO] Analyzing words for concept <back>.\n",
      "2018-05-14 16:45:07,514 [INFO] Analyzing words for concept <bad, evil>.\n",
      "2018-05-14 16:45:07,520 [INFO] Analyzing words for concept <belly>.\n",
      "2018-05-14 16:45:07,532 [INFO] Analyzing words for concept <below>.\n",
      "2018-05-14 16:45:07,536 [INFO] Analyzing words for concept <big>.\n",
      "2018-05-14 16:45:07,541 [INFO] Analyzing words for concept <bird>.\n",
      "2018-05-14 16:45:07,545 [INFO] Analyzing words for concept <black>.\n",
      "2018-05-14 16:45:07,554 [INFO] Analyzing words for concept <blood>.\n",
      "2018-05-14 16:45:07,558 [INFO] Analyzing words for concept <bone>.\n",
      "2018-05-14 16:45:07,561 [INFO] Analyzing words for concept <branch>.\n",
      "2018-05-14 16:45:07,565 [INFO] Analyzing words for concept <breast>.\n",
      "2018-05-14 16:45:07,570 [INFO] Analyzing words for concept <child>.\n",
      "2018-05-14 16:45:07,578 [INFO] Analyzing words for concept <cloud>.\n",
      "2018-05-14 16:45:07,583 [INFO] Analyzing words for concept <cold>.\n",
      "2018-05-14 16:45:07,598 [INFO] Analyzing words for concept <correct, true>.\n",
      "2018-05-14 16:45:07,608 [INFO] Analyzing words for concept <day>.\n",
      "SEQUENCE CLUSTERING:  17%|█▋        | 36/210 [00:00<00:01, 169.19it/s]2018-05-14 16:45:07,638 [INFO] Analyzing words for concept <dirty>.\n",
      "2018-05-14 16:45:07,644 [INFO] Analyzing words for concept <dog>.\n",
      "2018-05-14 16:45:07,651 [INFO] Analyzing words for concept <dry>.\n",
      "2018-05-14 16:45:07,659 [INFO] Analyzing words for concept <dull, blunt>.\n",
      "2018-05-14 16:45:07,668 [INFO] Analyzing words for concept <dust>.\n",
      "2018-05-14 16:45:07,683 [INFO] Analyzing words for concept <ear>.\n",
      "2018-05-14 16:45:07,692 [INFO] Analyzing words for concept <earth/soil>.\n",
      "2018-05-14 16:45:07,702 [INFO] Analyzing words for concept <egg>.\n",
      "2018-05-14 16:45:07,713 [INFO] Analyzing words for concept <eye>.\n",
      "2018-05-14 16:45:07,722 [INFO] Analyzing words for concept <far>.\n",
      "2018-05-14 16:45:07,728 [INFO] Analyzing words for concept <fat/grease>.\n",
      "SEQUENCE CLUSTERING:  22%|██▏       | 47/210 [00:00<00:01, 144.81it/s]2018-05-14 16:45:07,741 [INFO] Analyzing words for concept <father>.\n",
      "2018-05-14 16:45:07,755 [INFO] Analyzing words for concept <feather>.\n",
      "2018-05-14 16:45:07,764 [INFO] Analyzing words for concept <fire>.\n",
      "2018-05-14 16:45:07,770 [INFO] Analyzing words for concept <fish>.\n",
      "2018-05-14 16:45:07,778 [INFO] Analyzing words for concept <flower>.\n",
      "2018-05-14 16:45:07,784 [INFO] Analyzing words for concept <fog>.\n",
      "2018-05-14 16:45:07,791 [INFO] Analyzing words for concept <fruit>.\n",
      "2018-05-14 16:45:07,795 [INFO] Analyzing words for concept <good>.\n",
      "2018-05-14 16:45:07,808 [INFO] Analyzing words for concept <grass>.\n",
      "2018-05-14 16:45:07,813 [INFO] Analyzing words for concept <green>.\n",
      "2018-05-14 16:45:07,821 [INFO] Analyzing words for concept <hair>.\n",
      "2018-05-14 16:45:07,832 [INFO] Analyzing words for concept <hand>.\n",
      "SEQUENCE CLUSTERING:  28%|██▊       | 59/210 [00:00<00:01, 136.24it/s]2018-05-14 16:45:07,840 [INFO] Analyzing words for concept <he/she>.\n",
      "2018-05-14 16:45:07,846 [INFO] Analyzing words for concept <head>.\n",
      "2018-05-14 16:45:07,854 [INFO] Analyzing words for concept <heavy>.\n",
      "2018-05-14 16:45:07,864 [INFO] Analyzing words for concept <house>.\n",
      "2018-05-14 16:45:07,869 [INFO] Analyzing words for concept <how?>.\n",
      "2018-05-14 16:45:07,874 [INFO] Analyzing words for concept <husband>.\n",
      "2018-05-14 16:45:07,877 [INFO] Analyzing words for concept <if>.\n",
      "2018-05-14 16:45:07,881 [INFO] Analyzing words for concept <in, inside>.\n",
      "2018-05-14 16:45:07,885 [INFO] Analyzing words for concept <intestines>.\n",
      "2018-05-14 16:45:07,890 [INFO] Analyzing words for concept <lake>.\n",
      "2018-05-14 16:45:07,893 [INFO] Analyzing words for concept <leaf>.\n",
      "2018-05-14 16:45:07,896 [INFO] Analyzing words for concept <left>.\n",
      "2018-05-14 16:45:07,900 [INFO] Analyzing words for concept <leg/foot>.\n",
      "2018-05-14 16:45:07,904 [INFO] Analyzing words for concept <lightning>.\n",
      "2018-05-14 16:45:07,909 [INFO] Analyzing words for concept <liver>.\n",
      "2018-05-14 16:45:07,914 [INFO] Analyzing words for concept <long>.\n",
      "2018-05-14 16:45:07,917 [INFO] Analyzing words for concept <louse>.\n",
      "2018-05-14 16:45:07,922 [INFO] Analyzing words for concept <man/male>.\n",
      "2018-05-14 16:45:07,932 [INFO] Analyzing words for concept <meat/flesh>.\n",
      "2018-05-14 16:45:07,937 [INFO] Analyzing words for concept <moon>.\n",
      "SEQUENCE CLUSTERING:  38%|███▊      | 79/210 [00:00<00:00, 149.15it/s]2018-05-14 16:45:07,944 [INFO] Analyzing words for concept <mosquito>.\n",
      "2018-05-14 16:45:07,949 [INFO] Analyzing words for concept <mother>.\n",
      "2018-05-14 16:45:07,958 [INFO] Analyzing words for concept <mouth>.\n",
      "2018-05-14 16:45:07,965 [INFO] Analyzing words for concept <name>.\n",
      "2018-05-14 16:45:07,971 [INFO] Analyzing words for concept <narrow>.\n",
      "2018-05-14 16:45:07,978 [INFO] Analyzing words for concept <near>.\n",
      "2018-05-14 16:45:07,983 [INFO] Analyzing words for concept <neck>.\n",
      "2018-05-14 16:45:07,989 [INFO] Analyzing words for concept <needle>.\n",
      "2018-05-14 16:45:07,995 [INFO] Analyzing words for concept <new>.\n",
      "2018-05-14 16:45:08,000 [INFO] Analyzing words for concept <night>.\n",
      "2018-05-14 16:45:08,004 [INFO] Analyzing words for concept <no, not>.\n",
      "2018-05-14 16:45:08,011 [INFO] Analyzing words for concept <nose>.\n",
      "2018-05-14 16:45:08,015 [INFO] Analyzing words for concept <old>.\n",
      "2018-05-14 16:45:08,026 [INFO] Analyzing words for concept <other>.\n",
      "2018-05-14 16:45:08,028 [INFO] Analyzing words for concept <painful, sick>.\n",
      "2018-05-14 16:45:08,036 [INFO] Analyzing words for concept <person/human being>.\n",
      "SEQUENCE CLUSTERING:  45%|████▌     | 95/210 [00:00<00:00, 151.88it/s]2018-05-14 16:45:08,045 [INFO] Analyzing words for concept <rain>.\n",
      "2018-05-14 16:45:08,048 [INFO] Analyzing words for concept <rat>.\n",
      "2018-05-14 16:45:08,054 [INFO] Analyzing words for concept <red>.\n",
      "2018-05-14 16:45:08,061 [INFO] Analyzing words for concept <right>.\n",
      "2018-05-14 16:45:08,068 [INFO] Analyzing words for concept <road/path>.\n",
      "2018-05-14 16:45:08,074 [INFO] Analyzing words for concept <root>.\n",
      "2018-05-14 16:45:08,078 [INFO] Analyzing words for concept <rope>.\n",
      "2018-05-14 16:45:08,085 [INFO] Analyzing words for concept <rotten>.\n",
      "2018-05-14 16:45:08,092 [INFO] Analyzing words for concept <salt>.\n",
      "2018-05-14 16:45:08,099 [INFO] Analyzing words for concept <sand>.\n",
      "2018-05-14 16:45:08,102 [INFO] Analyzing words for concept <sea>.\n",
      "2018-05-14 16:45:08,116 [INFO] Analyzing words for concept <sharp>.\n",
      "2018-05-14 16:45:08,120 [INFO] Analyzing words for concept <short>.\n",
      "2018-05-14 16:45:08,127 [INFO] Analyzing words for concept <shoulder>.\n",
      "2018-05-14 16:45:08,132 [INFO] Analyzing words for concept <shy, ashamed>.\n",
      "2018-05-14 16:45:08,136 [INFO] Analyzing words for concept <skin>.\n",
      "2018-05-14 16:45:08,140 [INFO] Analyzing words for concept <sky>.\n"
     ]
    },
    {
     "name": "stderr",
     "output_type": "stream",
     "text": [
      "SEQUENCE CLUSTERING:  53%|█████▎    | 112/210 [00:00<00:00, 156.77it/s]2018-05-14 16:45:08,145 [INFO] Analyzing words for concept <small>.\n",
      "2018-05-14 16:45:08,154 [INFO] Analyzing words for concept <smoke>.\n",
      "2018-05-14 16:45:08,159 [INFO] Analyzing words for concept <snake>.\n",
      "2018-05-14 16:45:08,161 [INFO] Analyzing words for concept <spider>.\n",
      "2018-05-14 16:45:08,170 [INFO] Analyzing words for concept <star>.\n",
      "2018-05-14 16:45:08,175 [INFO] Analyzing words for concept <stick/wood>.\n",
      "2018-05-14 16:45:08,178 [INFO] Analyzing words for concept <stone>.\n",
      "2018-05-14 16:45:08,186 [INFO] Analyzing words for concept <tail>.\n",
      "2018-05-14 16:45:08,196 [INFO] Analyzing words for concept <that>.\n",
      "2018-05-14 16:45:08,200 [INFO] Analyzing words for concept <thatch/roof>.\n",
      "2018-05-14 16:45:08,207 [INFO] Analyzing words for concept <they>.\n",
      "2018-05-14 16:45:08,217 [INFO] Analyzing words for concept <thick>.\n",
      "2018-05-14 16:45:08,224 [INFO] Analyzing words for concept <thin>.\n",
      "2018-05-14 16:45:08,233 [INFO] Analyzing words for concept <this>.\n",
      "2018-05-14 16:45:08,237 [INFO] Analyzing words for concept <thou>.\n",
      "2018-05-14 16:45:08,241 [INFO] Analyzing words for concept <thunder>.\n",
      "SEQUENCE CLUSTERING:  61%|██████    | 128/210 [00:00<00:00, 156.65it/s]2018-05-14 16:45:08,247 [INFO] Analyzing words for concept <to bite>.\n",
      "2018-05-14 16:45:08,252 [INFO] Analyzing words for concept <to blow>.\n",
      "2018-05-14 16:45:08,264 [INFO] Analyzing words for concept <to breathe>.\n",
      "2018-05-14 16:45:08,272 [INFO] Analyzing words for concept <to burn>.\n",
      "2018-05-14 16:45:08,282 [INFO] Analyzing words for concept <to buy>.\n",
      "2018-05-14 16:45:08,286 [INFO] Analyzing words for concept <to chew>.\n",
      "2018-05-14 16:45:08,290 [INFO] Analyzing words for concept <to choose>.\n",
      "2018-05-14 16:45:08,293 [INFO] Analyzing words for concept <to climb>.\n",
      "2018-05-14 16:45:08,297 [INFO] Analyzing words for concept <to come>.\n",
      "2018-05-14 16:45:08,303 [INFO] Analyzing words for concept <to cook>.\n",
      "2018-05-14 16:45:08,308 [INFO] Analyzing words for concept <to count>.\n",
      "2018-05-14 16:45:08,311 [INFO] Analyzing words for concept <to cry>.\n",
      "2018-05-14 16:45:08,316 [INFO] Analyzing words for concept <to cut, hack>.\n",
      "2018-05-14 16:45:08,330 [INFO] Analyzing words for concept <to die, be dead>.\n",
      "2018-05-14 16:45:08,335 [INFO] Analyzing words for concept <to dig>.\n",
      "2018-05-14 16:45:08,341 [INFO] Analyzing words for concept <to dream>.\n",
      "SEQUENCE CLUSTERING:  69%|██████▊   | 144/210 [00:00<00:00, 156.12it/s]2018-05-14 16:45:08,351 [INFO] Analyzing words for concept <to drink>.\n",
      "2018-05-14 16:45:08,354 [INFO] Analyzing words for concept <to eat>.\n",
      "2018-05-14 16:45:08,357 [INFO] Analyzing words for concept <to fall>.\n",
      "2018-05-14 16:45:08,374 [INFO] Analyzing words for concept <to fear>.\n",
      "2018-05-14 16:45:08,383 [INFO] Analyzing words for concept <to flow>.\n",
      "2018-05-14 16:45:08,387 [INFO] Analyzing words for concept <to fly>.\n",
      "2018-05-14 16:45:08,391 [INFO] Analyzing words for concept <to grow>.\n",
      "2018-05-14 16:45:08,397 [INFO] Analyzing words for concept <to hear>.\n",
      "2018-05-14 16:45:08,403 [INFO] Analyzing words for concept <to hide>.\n",
      "2018-05-14 16:45:08,407 [INFO] Analyzing words for concept <to hit>.\n",
      "2018-05-14 16:45:08,421 [INFO] Analyzing words for concept <to hold>.\n",
      "2018-05-14 16:45:08,427 [INFO] Analyzing words for concept <to hunt>.\n",
      "2018-05-14 16:45:08,431 [INFO] Analyzing words for concept <to kill>.\n",
      "2018-05-14 16:45:08,440 [INFO] Analyzing words for concept <to know, be knowledgeable>.\n",
      "2018-05-14 16:45:08,445 [INFO] Analyzing words for concept <to laugh>.\n",
      "2018-05-14 16:45:08,449 [INFO] Analyzing words for concept <to lie down>.\n",
      "SEQUENCE CLUSTERING:  76%|███████▌  | 160/210 [00:01<00:00, 154.15it/s]2018-05-14 16:45:08,457 [INFO] Analyzing words for concept <to live, be alive>.\n",
      "2018-05-14 16:45:08,460 [INFO] Analyzing words for concept <to open, uncover>.\n",
      "2018-05-14 16:45:08,468 [INFO] Analyzing words for concept <to plant>.\n",
      "2018-05-14 16:45:08,471 [INFO] Analyzing words for concept <to pound, beat>.\n",
      "2018-05-14 16:45:08,475 [INFO] Analyzing words for concept <to say>.\n",
      "2018-05-14 16:45:08,480 [INFO] Analyzing words for concept <to scratch>.\n",
      "2018-05-14 16:45:08,486 [INFO] Analyzing words for concept <to see>.\n",
      "2018-05-14 16:45:08,490 [INFO] Analyzing words for concept <to sew>.\n",
      "2018-05-14 16:45:08,495 [INFO] Analyzing words for concept <to shoot>.\n",
      "2018-05-14 16:45:08,497 [INFO] Analyzing words for concept <to sit>.\n",
      "2018-05-14 16:45:08,502 [INFO] Analyzing words for concept <to sleep>.\n",
      "2018-05-14 16:45:08,505 [INFO] Analyzing words for concept <to sniff, smell>.\n",
      "2018-05-14 16:45:08,510 [INFO] Analyzing words for concept <to spit>.\n",
      "2018-05-14 16:45:08,517 [INFO] Analyzing words for concept <to split>.\n",
      "2018-05-14 16:45:08,526 [INFO] Analyzing words for concept <to squeeze>.\n",
      "2018-05-14 16:45:08,533 [INFO] Analyzing words for concept <to stab, pierce>.\n",
      "2018-05-14 16:45:08,540 [INFO] Analyzing words for concept <to stand>.\n",
      "2018-05-14 16:45:08,543 [INFO] Analyzing words for concept <to steal>.\n",
      "2018-05-14 16:45:08,548 [INFO] Analyzing words for concept <to suck>.\n",
      "2018-05-14 16:45:08,556 [INFO] Analyzing words for concept <to swell>.\n",
      "SEQUENCE CLUSTERING:  86%|████████▌ | 180/210 [00:01<00:00, 163.94it/s]2018-05-14 16:45:08,561 [INFO] Analyzing words for concept <to swim>.\n",
      "2018-05-14 16:45:08,564 [INFO] Analyzing words for concept <to think>.\n",
      "2018-05-14 16:45:08,570 [INFO] Analyzing words for concept <to throw>.\n",
      "2018-05-14 16:45:08,578 [INFO] Analyzing words for concept <to tie up, fasten>.\n",
      "2018-05-14 16:45:08,587 [INFO] Analyzing words for concept <to turn>.\n",
      "2018-05-14 16:45:08,594 [INFO] Analyzing words for concept <to vomit>.\n",
      "2018-05-14 16:45:08,598 [INFO] Analyzing words for concept <to walk>.\n",
      "2018-05-14 16:45:08,606 [INFO] Analyzing words for concept <to work>.\n",
      "2018-05-14 16:45:08,610 [INFO] Analyzing words for concept <to yawn>.\n",
      "2018-05-14 16:45:08,615 [INFO] Analyzing words for concept <tongue>.\n",
      "2018-05-14 16:45:08,620 [INFO] Analyzing words for concept <tooth>.\n",
      "2018-05-14 16:45:08,623 [INFO] Analyzing words for concept <warm>.\n",
      "2018-05-14 16:45:08,634 [INFO] Analyzing words for concept <water>.\n",
      "2018-05-14 16:45:08,638 [INFO] Analyzing words for concept <we>.\n",
      "2018-05-14 16:45:08,684 [INFO] Analyzing words for concept <wet>.\n",
      "2018-05-14 16:45:08,691 [INFO] Analyzing words for concept <what?>.\n",
      "2018-05-14 16:45:08,694 [INFO] Analyzing words for concept <when?>.\n",
      "SEQUENCE CLUSTERING:  94%|█████████▍| 197/210 [00:01<00:00, 149.35it/s]2018-05-14 16:45:08,698 [INFO] Analyzing words for concept <where?>.\n",
      "2018-05-14 16:45:08,702 [INFO] Analyzing words for concept <white>.\n",
      "2018-05-14 16:45:08,708 [INFO] Analyzing words for concept <who?>.\n",
      "2018-05-14 16:45:08,711 [INFO] Analyzing words for concept <wide>.\n",
      "2018-05-14 16:45:08,716 [INFO] Analyzing words for concept <wife>.\n",
      "2018-05-14 16:45:08,721 [INFO] Analyzing words for concept <wind>.\n",
      "2018-05-14 16:45:08,729 [INFO] Analyzing words for concept <wing>.\n",
      "2018-05-14 16:45:08,735 [INFO] Analyzing words for concept <woman/female>.\n",
      "2018-05-14 16:45:08,745 [INFO] Analyzing words for concept <woods/forest>.\n",
      "2018-05-14 16:45:08,750 [INFO] Analyzing words for concept <worm (earthworm)>.\n",
      "2018-05-14 16:45:08,754 [INFO] Analyzing words for concept <year>.\n",
      "2018-05-14 16:45:08,761 [INFO] Analyzing words for concept <yellow>.\n",
      "2018-05-14 16:45:08,766 [INFO] Analyzing words for concept <you>.\n",
      "                                                                       "
     ]
    },
    {
     "name": "stdout",
     "output_type": "stream",
     "text": [
      "Tahitian             \t va'u \t4 \t 1 \n",
      "Ra’ivavae            \t vaGu \t6 \t 1 \n",
      "Sikaiana             \t valu \t1 \t 1 \n",
      "Rurutuan             \t vaʔu \t4 \t 1 \n",
      "Rapanui              \t va'u \t4 \t 1 \n",
      "North_Marquesan      \t va'u \t4 \t 1 \n",
      "Maori                \t waru \t1 \t 1 \n",
      "Mangareva            \t varu \t1 \t 1 \n",
      "Tuamotuan            \t varu \t1 \t 1 \n",
      "Hawaiian             \t walu \t1 \t 1 \n"
     ]
    },
    {
     "name": "stderr",
     "output_type": "stream",
     "text": [
      "\r"
     ]
    }
   ],
   "source": [
    "lex.cluster(method=\"sca\", threshold=0.45, ref='scaid')\n",
    "\n",
    "for k, v in eight.items():\n",
    "    idx = v[0] \n",
    "    print(\"{0:20} \\t {1} \\t{2} \\t {3} \".format(\n",
    "        lex[idx, 'doculect'], \n",
    "        lex[idx, 'value'], \n",
    "        lex[idx, 'turchinid'], \n",
    "        lex[idx, 'scaid']))"
   ]
  },
  {
   "cell_type": "markdown",
   "metadata": {},
   "source": [
    "We are now ready to do the same analysis with the \"lexstat\" method. This will take some time due to the permutation test. In order to make sure we do not need to run this all the time, we will save the data immediately after running the permutation to a file which we give the extension \"bin.tsv\", and which we can load in case we want to carry out further tests, or which we can otherwise also share when publishing results, as it contains all the data needed to rerun the analyses on a different machine. LingPy creates a lot of data when analyzing wordlists, but by default, only a minimal amount of the data is written to file. In this case, if we want to store the results of the permutation test, we need to store the whole file with all the data that lingpy produces, especially the language-specific scoring function. In order to force LingPy to do so, we have to add the keyword ```ignore=[]``` to the output-function. This will prevent that any data which should be written to file is ignored:"
   ]
  },
  {
   "cell_type": "code",
   "execution_count": 27,
   "metadata": {},
   "outputs": [
    {
     "name": "stderr",
     "output_type": "stream",
     "text": [
      "2018-05-14 16:45:08,791 [WARNING] A different scoring function has already been calculated, overwriting previous settings.\n",
      "CORRESPONDENCE CALCULATION:   0%|          | 0/50.0 [00:00<?, ?it/s]2018-05-14 16:45:08,792 [INFO] Calculating alignments for pair Hawaiian / Hawaiian.\n",
      "2018-05-14 16:45:08,821 [INFO] Calculating alignments for pair Hawaiian / Mangareva.\n",
      "2018-05-14 16:45:08,860 [INFO] Calculating alignments for pair Hawaiian / Maori.\n",
      "CORRESPONDENCE CALCULATION:   8%|▊         | 4/50.0 [00:00<00:01, 38.30it/s]2018-05-14 16:45:08,897 [INFO] Calculating alignments for pair Hawaiian / North_Marquesan.\n",
      "2018-05-14 16:45:08,947 [INFO] Calculating alignments for pair Hawaiian / Rapanui.\n",
      "2018-05-14 16:45:08,995 [INFO] Calculating alignments for pair Hawaiian / Ra’ivavae.\n",
      "CORRESPONDENCE CALCULATION:  14%|█▍        | 7/50.0 [00:00<00:01, 30.83it/s]2018-05-14 16:45:09,076 [INFO] Calculating alignments for pair Hawaiian / Rurutuan.\n",
      "2018-05-14 16:45:09,128 [INFO] Calculating alignments for pair Hawaiian / Sikaiana.\n",
      "CORRESPONDENCE CALCULATION:  18%|█▊        | 9/50.0 [00:00<00:01, 24.03it/s]2018-05-14 16:45:09,165 [INFO] Calculating alignments for pair Hawaiian / Tahitian.\n",
      "2018-05-14 16:45:09,207 [INFO] Calculating alignments for pair Hawaiian / Tuamotuan.\n",
      "2018-05-14 16:45:09,247 [INFO] Calculating alignments for pair Mangareva / Mangareva.\n",
      "CORRESPONDENCE CALCULATION:  24%|██▍       | 12/50.0 [00:00<00:01, 24.35it/s]2018-05-14 16:45:09,285 [INFO] Calculating alignments for pair Mangareva / Maori.\n",
      "2018-05-14 16:45:09,328 [INFO] Calculating alignments for pair Mangareva / North_Marquesan.\n",
      "2018-05-14 16:45:09,377 [INFO] Calculating alignments for pair Mangareva / Rapanui.\n",
      "CORRESPONDENCE CALCULATION:  30%|███       | 15/50.0 [00:00<00:01, 23.53it/s]2018-05-14 16:45:09,422 [INFO] Calculating alignments for pair Mangareva / Ra’ivavae.\n",
      "2018-05-14 16:45:09,461 [INFO] Calculating alignments for pair Mangareva / Rurutuan.\n",
      "2018-05-14 16:45:09,506 [INFO] Calculating alignments for pair Mangareva / Sikaiana.\n",
      "CORRESPONDENCE CALCULATION:  36%|███▌      | 18/50.0 [00:00<00:01, 24.10it/s]2018-05-14 16:45:09,539 [INFO] Calculating alignments for pair Mangareva / Tahitian.\n",
      "2018-05-14 16:45:09,581 [INFO] Calculating alignments for pair Mangareva / Tuamotuan.\n",
      "2018-05-14 16:45:09,624 [INFO] Calculating alignments for pair Maori / Maori.\n",
      "CORRESPONDENCE CALCULATION:  42%|████▏     | 21/50.0 [00:00<00:01, 24.61it/s]2018-05-14 16:45:09,655 [INFO] Calculating alignments for pair Maori / North_Marquesan.\n",
      "2018-05-14 16:45:09,698 [INFO] Calculating alignments for pair Maori / Rapanui.\n",
      "2018-05-14 16:45:09,733 [INFO] Calculating alignments for pair Maori / Ra’ivavae.\n",
      "CORRESPONDENCE CALCULATION:  48%|████▊     | 24/50.0 [00:00<00:01, 25.28it/s]2018-05-14 16:45:09,767 [INFO] Calculating alignments for pair Maori / Rurutuan.\n",
      "2018-05-14 16:45:09,810 [INFO] Calculating alignments for pair Maori / Sikaiana.\n",
      "2018-05-14 16:45:09,841 [INFO] Calculating alignments for pair Maori / Tahitian.\n",
      "CORRESPONDENCE CALCULATION:  54%|█████▍    | 27/50.0 [00:01<00:00, 25.61it/s]2018-05-14 16:45:09,880 [INFO] Calculating alignments for pair Maori / Tuamotuan.\n",
      "2018-05-14 16:45:09,915 [INFO] Calculating alignments for pair North_Marquesan / North_Marquesan.\n",
      "2018-05-14 16:45:09,961 [INFO] Calculating alignments for pair North_Marquesan / Rapanui.\n",
      "CORRESPONDENCE CALCULATION:  60%|██████    | 30/50.0 [00:01<00:00, 24.55it/s]2018-05-14 16:45:10,014 [INFO] Calculating alignments for pair North_Marquesan / Ra’ivavae.\n",
      "2018-05-14 16:45:10,065 [INFO] Calculating alignments for pair North_Marquesan / Rurutuan.\n",
      "2018-05-14 16:45:10,119 [INFO] Calculating alignments for pair North_Marquesan / Sikaiana.\n",
      "CORRESPONDENCE CALCULATION:  66%|██████▌   | 33/50.0 [00:01<00:00, 23.25it/s]2018-05-14 16:45:10,159 [INFO] Calculating alignments for pair North_Marquesan / Tahitian.\n",
      "2018-05-14 16:45:10,208 [INFO] Calculating alignments for pair North_Marquesan / Tuamotuan.\n",
      "2018-05-14 16:45:10,267 [INFO] Calculating alignments for pair Rapanui / Rapanui.\n",
      "CORRESPONDENCE CALCULATION:  72%|███████▏  | 36/50.0 [00:01<00:00, 22.54it/s]2018-05-14 16:45:10,302 [INFO] Calculating alignments for pair Rapanui / Ra’ivavae.\n",
      "2018-05-14 16:45:10,343 [INFO] Calculating alignments for pair Rapanui / Rurutuan.\n",
      "2018-05-14 16:45:10,398 [INFO] Calculating alignments for pair Rapanui / Sikaiana.\n",
      "CORRESPONDENCE CALCULATION:  78%|███████▊  | 39/50.0 [00:01<00:00, 22.46it/s]2018-05-14 16:45:10,436 [INFO] Calculating alignments for pair Rapanui / Tahitian.\n",
      "2018-05-14 16:45:10,479 [INFO] Calculating alignments for pair Rapanui / Tuamotuan.\n",
      "2018-05-14 16:45:10,516 [INFO] Calculating alignments for pair Ra’ivavae / Ra’ivavae.\n",
      "CORRESPONDENCE CALCULATION:  84%|████████▍ | 42/50.0 [00:01<00:00, 23.67it/s]2018-05-14 16:45:10,547 [INFO] Calculating alignments for pair Ra’ivavae / Rurutuan.\n",
      "2018-05-14 16:45:10,586 [INFO] Calculating alignments for pair Ra’ivavae / Sikaiana.\n",
      "2018-05-14 16:45:10,614 [INFO] Calculating alignments for pair Ra’ivavae / Tahitian.\n",
      "CORRESPONDENCE CALCULATION:  90%|█████████ | 45/50.0 [00:01<00:00, 25.06it/s]2018-05-14 16:45:10,651 [INFO] Calculating alignments for pair Ra’ivavae / Tuamotuan.\n",
      "2018-05-14 16:45:10,684 [INFO] Calculating alignments for pair Rurutuan / Rurutuan.\n",
      "2018-05-14 16:45:10,723 [INFO] Calculating alignments for pair Rurutuan / Sikaiana.\n",
      "CORRESPONDENCE CALCULATION:  96%|█████████▌| 48/50.0 [00:01<00:00, 25.51it/s]2018-05-14 16:45:10,763 [INFO] Calculating alignments for pair Rurutuan / Tahitian.\n",
      "2018-05-14 16:45:10,811 [INFO] Calculating alignments for pair Rurutuan / Tuamotuan.\n",
      "2018-05-14 16:45:10,854 [INFO] Calculating alignments for pair Sikaiana / Sikaiana.\n",
      "CORRESPONDENCE CALCULATION: 51it [00:02, 25.58it/s]                          2018-05-14 16:45:10,879 [INFO] Calculating alignments for pair Sikaiana / Tahitian.\n",
      "2018-05-14 16:45:10,912 [INFO] Calculating alignments for pair Sikaiana / Tuamotuan.\n",
      "2018-05-14 16:45:10,944 [INFO] Calculating alignments for pair Tahitian / Tahitian.\n",
      "2018-05-14 16:45:10,978 [INFO] Calculating alignments for pair Tahitian / Tuamotuan.\n",
      "CORRESPONDENCE CALCULATION: 55it [00:02, 26.60it/s]2018-05-14 16:45:11,016 [INFO] Calculating alignments for pair Tuamotuan / Tuamotuan.\n",
      "RANDOM CORRESPONDENCE CALCULATION:   0%|          | 0/50.0 [00:00<?, ?it/s]2018-05-14 16:45:11,048 [INFO] Calculating random alignmentsfor pair Hawaiian/Hawaiian.\n",
      "RANDOM CORRESPONDENCE CALCULATION:   4%|▍         | 2/50.0 [00:01<00:33,  1.42it/s]2018-05-14 16:45:12,454 [INFO] Calculating random alignmentsfor pair Hawaiian/Mangareva.\n",
      "RANDOM CORRESPONDENCE CALCULATION:   6%|▌         | 3/50.0 [00:02<00:40,  1.16it/s]2018-05-14 16:45:13,696 [INFO] Calculating random alignmentsfor pair Hawaiian/Maori.\n",
      "RANDOM CORRESPONDENCE CALCULATION:   8%|▊         | 4/50.0 [00:03<00:42,  1.08it/s]2018-05-14 16:45:14,772 [INFO] Calculating random alignmentsfor pair Hawaiian/North_Marquesan.\n",
      "RANDOM CORRESPONDENCE CALCULATION:  10%|█         | 5/50.0 [00:04<00:45,  1.00s/it]2018-05-14 16:45:15,941 [INFO] Calculating random alignmentsfor pair Hawaiian/Rapanui.\n",
      "RANDOM CORRESPONDENCE CALCULATION:  12%|█▏        | 6/50.0 [00:05<00:45,  1.03s/it]2018-05-14 16:45:17,037 [INFO] Calculating random alignmentsfor pair Hawaiian/Ra’ivavae.\n",
      "RANDOM CORRESPONDENCE CALCULATION:  14%|█▍        | 7/50.0 [00:07<00:47,  1.10s/it]2018-05-14 16:45:18,291 [INFO] Calculating random alignmentsfor pair Hawaiian/Rurutuan.\n",
      "RANDOM CORRESPONDENCE CALCULATION:  16%|█▌        | 8/50.0 [00:08<00:48,  1.16s/it]2018-05-14 16:45:19,584 [INFO] Calculating random alignmentsfor pair Hawaiian/Sikaiana.\n",
      "RANDOM CORRESPONDENCE CALCULATION:  18%|█▊        | 9/50.0 [00:09<00:46,  1.13s/it]2018-05-14 16:45:20,664 [INFO] Calculating random alignmentsfor pair Hawaiian/Tahitian.\n",
      "RANDOM CORRESPONDENCE CALCULATION:  20%|██        | 10/50.0 [00:10<00:47,  1.18s/it]2018-05-14 16:45:21,967 [INFO] Calculating random alignmentsfor pair Hawaiian/Tuamotuan.\n",
      "RANDOM CORRESPONDENCE CALCULATION:  22%|██▏       | 11/50.0 [00:12<00:45,  1.18s/it]2018-05-14 16:45:23,130 [INFO] Calculating random alignmentsfor pair Mangareva/Mangareva.\n"
     ]
    },
    {
     "name": "stderr",
     "output_type": "stream",
     "text": [
      "RANDOM CORRESPONDENCE CALCULATION:  24%|██▍       | 12/50.0 [00:13<00:45,  1.20s/it]2018-05-14 16:45:24,392 [INFO] Calculating random alignmentsfor pair Mangareva/Maori.\n",
      "RANDOM CORRESPONDENCE CALCULATION:  26%|██▌       | 13/50.0 [00:14<00:45,  1.23s/it]2018-05-14 16:45:25,682 [INFO] Calculating random alignmentsfor pair Mangareva/North_Marquesan.\n",
      "RANDOM CORRESPONDENCE CALCULATION:  28%|██▊       | 14/50.0 [00:15<00:45,  1.26s/it]2018-05-14 16:45:27,010 [INFO] Calculating random alignmentsfor pair Mangareva/Rapanui.\n",
      "RANDOM CORRESPONDENCE CALCULATION:  30%|███       | 15/50.0 [00:17<00:43,  1.25s/it]2018-05-14 16:45:28,254 [INFO] Calculating random alignmentsfor pair Mangareva/Ra’ivavae.\n",
      "RANDOM CORRESPONDENCE CALCULATION:  32%|███▏      | 16/50.0 [00:18<00:45,  1.33s/it]2018-05-14 16:45:29,748 [INFO] Calculating random alignmentsfor pair Mangareva/Rurutuan.\n",
      "RANDOM CORRESPONDENCE CALCULATION:  34%|███▍      | 17/50.0 [00:20<00:44,  1.36s/it]2018-05-14 16:45:31,176 [INFO] Calculating random alignmentsfor pair Mangareva/Sikaiana.\n",
      "RANDOM CORRESPONDENCE CALCULATION:  36%|███▌      | 18/50.0 [00:21<00:42,  1.32s/it]2018-05-14 16:45:32,399 [INFO] Calculating random alignmentsfor pair Mangareva/Tahitian.\n",
      "RANDOM CORRESPONDENCE CALCULATION:  38%|███▊      | 19/50.0 [00:22<00:41,  1.34s/it]2018-05-14 16:45:33,781 [INFO] Calculating random alignmentsfor pair Mangareva/Tuamotuan.\n",
      "RANDOM CORRESPONDENCE CALCULATION:  40%|████      | 20/50.0 [00:23<00:39,  1.31s/it]2018-05-14 16:45:35,017 [INFO] Calculating random alignmentsfor pair Maori/Maori.\n",
      "RANDOM CORRESPONDENCE CALCULATION:  42%|████▏     | 21/50.0 [00:25<00:37,  1.30s/it]2018-05-14 16:45:36,303 [INFO] Calculating random alignmentsfor pair Maori/North_Marquesan.\n",
      "RANDOM CORRESPONDENCE CALCULATION:  44%|████▍     | 22/50.0 [00:26<00:35,  1.28s/it]2018-05-14 16:45:37,538 [INFO] Calculating random alignmentsfor pair Maori/Rapanui.\n",
      "RANDOM CORRESPONDENCE CALCULATION:  46%|████▌     | 23/50.0 [00:27<00:33,  1.24s/it]2018-05-14 16:45:38,674 [INFO] Calculating random alignmentsfor pair Maori/Ra’ivavae.\n",
      "RANDOM CORRESPONDENCE CALCULATION:  48%|████▊     | 24/50.0 [00:28<00:32,  1.27s/it]2018-05-14 16:45:40,014 [INFO] Calculating random alignmentsfor pair Maori/Rurutuan.\n",
      "RANDOM CORRESPONDENCE CALCULATION:  50%|█████     | 25/50.0 [00:30<00:32,  1.30s/it]2018-05-14 16:45:41,396 [INFO] Calculating random alignmentsfor pair Maori/Sikaiana.\n",
      "RANDOM CORRESPONDENCE CALCULATION:  52%|█████▏    | 26/50.0 [00:31<00:30,  1.27s/it]2018-05-14 16:45:42,605 [INFO] Calculating random alignmentsfor pair Maori/Tahitian.\n",
      "RANDOM CORRESPONDENCE CALCULATION:  54%|█████▍    | 27/50.0 [00:32<00:29,  1.30s/it]2018-05-14 16:45:43,953 [INFO] Calculating random alignmentsfor pair Maori/Tuamotuan.\n",
      "RANDOM CORRESPONDENCE CALCULATION:  56%|█████▌    | 28/50.0 [00:34<00:27,  1.25s/it]2018-05-14 16:45:45,081 [INFO] Calculating random alignmentsfor pair North_Marquesan/North_Marquesan.\n",
      "RANDOM CORRESPONDENCE CALCULATION:  58%|█████▊    | 29/50.0 [00:35<00:26,  1.24s/it]2018-05-14 16:45:46,314 [INFO] Calculating random alignmentsfor pair North_Marquesan/Rapanui.\n",
      "RANDOM CORRESPONDENCE CALCULATION:  60%|██████    | 30/50.0 [00:36<00:24,  1.24s/it]2018-05-14 16:45:47,537 [INFO] Calculating random alignmentsfor pair North_Marquesan/Ra’ivavae.\n",
      "RANDOM CORRESPONDENCE CALCULATION:  62%|██████▏   | 31/50.0 [00:37<00:24,  1.27s/it]2018-05-14 16:45:48,871 [INFO] Calculating random alignmentsfor pair North_Marquesan/Rurutuan.\n",
      "RANDOM CORRESPONDENCE CALCULATION:  64%|██████▍   | 32/50.0 [00:39<00:22,  1.28s/it]2018-05-14 16:45:50,173 [INFO] Calculating random alignmentsfor pair North_Marquesan/Sikaiana.\n",
      "RANDOM CORRESPONDENCE CALCULATION:  66%|██████▌   | 33/50.0 [00:40<00:21,  1.24s/it]2018-05-14 16:45:51,319 [INFO] Calculating random alignmentsfor pair North_Marquesan/Tahitian.\n",
      "RANDOM CORRESPONDENCE CALCULATION:  68%|██████▊   | 34/50.0 [00:41<00:19,  1.25s/it]2018-05-14 16:45:52,588 [INFO] Calculating random alignmentsfor pair North_Marquesan/Tuamotuan.\n",
      "RANDOM CORRESPONDENCE CALCULATION:  70%|███████   | 35/50.0 [00:42<00:18,  1.23s/it]2018-05-14 16:45:53,782 [INFO] Calculating random alignmentsfor pair Rapanui/Rapanui.\n",
      "RANDOM CORRESPONDENCE CALCULATION:  72%|███████▏  | 36/50.0 [00:43<00:16,  1.19s/it]2018-05-14 16:45:54,893 [INFO] Calculating random alignmentsfor pair Rapanui/Ra’ivavae.\n",
      "RANDOM CORRESPONDENCE CALCULATION:  74%|███████▍  | 37/50.0 [00:45<00:15,  1.22s/it]2018-05-14 16:45:56,177 [INFO] Calculating random alignmentsfor pair Rapanui/Rurutuan.\n",
      "RANDOM CORRESPONDENCE CALCULATION:  76%|███████▌  | 38/50.0 [00:46<00:14,  1.23s/it]2018-05-14 16:45:57,433 [INFO] Calculating random alignmentsfor pair Rapanui/Sikaiana.\n",
      "RANDOM CORRESPONDENCE CALCULATION:  78%|███████▊  | 39/50.0 [00:47<00:13,  1.20s/it]2018-05-14 16:45:58,544 [INFO] Calculating random alignmentsfor pair Rapanui/Tahitian.\n",
      "RANDOM CORRESPONDENCE CALCULATION:  80%|████████  | 40/50.0 [00:48<00:12,  1.21s/it]2018-05-14 16:45:59,784 [INFO] Calculating random alignmentsfor pair Rapanui/Tuamotuan.\n",
      "RANDOM CORRESPONDENCE CALCULATION:  82%|████████▏ | 41/50.0 [00:49<00:10,  1.21s/it]2018-05-14 16:46:00,993 [INFO] Calculating random alignmentsfor pair Ra’ivavae/Ra’ivavae.\n",
      "RANDOM CORRESPONDENCE CALCULATION:  84%|████████▍ | 42/50.0 [00:51<00:10,  1.31s/it]2018-05-14 16:46:02,544 [INFO] Calculating random alignmentsfor pair Ra’ivavae/Rurutuan.\n",
      "RANDOM CORRESPONDENCE CALCULATION:  86%|████████▌ | 43/50.0 [00:52<00:09,  1.31s/it]2018-05-14 16:46:03,857 [INFO] Calculating random alignmentsfor pair Ra’ivavae/Sikaiana.\n",
      "RANDOM CORRESPONDENCE CALCULATION:  88%|████████▊ | 44/50.0 [00:53<00:07,  1.27s/it]2018-05-14 16:46:05,016 [INFO] Calculating random alignmentsfor pair Ra’ivavae/Tahitian.\n",
      "RANDOM CORRESPONDENCE CALCULATION:  90%|█████████ | 45/50.0 [00:55<00:06,  1.29s/it]2018-05-14 16:46:06,348 [INFO] Calculating random alignmentsfor pair Ra’ivavae/Tuamotuan.\n",
      "RANDOM CORRESPONDENCE CALCULATION:  92%|█████████▏| 46/50.0 [00:56<00:05,  1.27s/it]2018-05-14 16:46:07,566 [INFO] Calculating random alignmentsfor pair Rurutuan/Rurutuan.\n",
      "RANDOM CORRESPONDENCE CALCULATION:  94%|█████████▍| 47/50.0 [00:57<00:03,  1.33s/it]2018-05-14 16:46:09,032 [INFO] Calculating random alignmentsfor pair Rurutuan/Sikaiana.\n",
      "RANDOM CORRESPONDENCE CALCULATION:  96%|█████████▌| 48/50.0 [00:59<00:02,  1.33s/it]2018-05-14 16:46:10,358 [INFO] Calculating random alignmentsfor pair Rurutuan/Tahitian.\n",
      "RANDOM CORRESPONDENCE CALCULATION:  98%|█████████▊| 49/50.0 [01:00<00:01,  1.39s/it]2018-05-14 16:46:11,909 [INFO] Calculating random alignmentsfor pair Rurutuan/Tuamotuan.\n",
      "RANDOM CORRESPONDENCE CALCULATION: 100%|██████████| 50/50.0 [01:02<00:00,  1.42s/it]2018-05-14 16:46:13,393 [INFO] Calculating random alignmentsfor pair Sikaiana/Sikaiana.\n",
      "RANDOM CORRESPONDENCE CALCULATION: 51it [01:03,  1.38s/it]                          2018-05-14 16:46:14,676 [INFO] Calculating random alignmentsfor pair Sikaiana/Tahitian.\n",
      "RANDOM CORRESPONDENCE CALCULATION: 52it [01:05,  1.39s/it]2018-05-14 16:46:16,101 [INFO] Calculating random alignmentsfor pair Sikaiana/Tuamotuan.\n",
      "RANDOM CORRESPONDENCE CALCULATION: 53it [01:06,  1.35s/it]2018-05-14 16:46:17,342 [INFO] Calculating random alignmentsfor pair Tahitian/Tahitian.\n",
      "RANDOM CORRESPONDENCE CALCULATION: 54it [01:07,  1.40s/it]2018-05-14 16:46:18,881 [INFO] Calculating random alignmentsfor pair Tahitian/Tuamotuan.\n",
      "RANDOM CORRESPONDENCE CALCULATION: 55it [01:09,  1.41s/it]2018-05-14 16:46:20,306 [INFO] Calculating random alignmentsfor pair Tuamotuan/Tuamotuan.\n",
      "2018-05-14 16:46:21,699 [INFO] Data has been written to file <east-polynesian.bin.tsv>.\n",
      "SEQUENCE CLUSTERING:   0%|          | 0/210 [00:00<?, ?it/s]2018-05-14 16:46:21,700 [INFO] Analyzing words for concept <Eight>.\n",
      "2018-05-14 16:46:21,707 [INFO] Analyzing words for concept <Fifty>.\n",
      "2018-05-14 16:46:21,710 [INFO] Analyzing words for concept <Five>.\n",
      "2018-05-14 16:46:21,717 [INFO] Analyzing words for concept <Four>.\n",
      "2018-05-14 16:46:21,721 [INFO] Analyzing words for concept <I>.\n",
      "2018-05-14 16:46:21,729 [INFO] Analyzing words for concept <Nine>.\n",
      "2018-05-14 16:46:21,733 [INFO] Analyzing words for concept <One>.\n",
      "2018-05-14 16:46:21,741 [INFO] Analyzing words for concept <One Hundred>.\n"
     ]
    },
    {
     "name": "stderr",
     "output_type": "stream",
     "text": [
      "2018-05-14 16:46:21,748 [INFO] Analyzing words for concept <One Thousand>.\n",
      "2018-05-14 16:46:21,759 [INFO] Analyzing words for concept <Seven>.\n",
      "2018-05-14 16:46:21,767 [INFO] Analyzing words for concept <Six>.\n",
      "2018-05-14 16:46:21,775 [INFO] Analyzing words for concept <Ten>.\n",
      "2018-05-14 16:46:21,792 [INFO] Analyzing words for concept <Three>.\n",
      "2018-05-14 16:46:21,797 [INFO] Analyzing words for concept <Twenty>.\n",
      "SEQUENCE CLUSTERING:   7%|▋         | 14/210 [00:00<00:01, 133.31it/s]2018-05-14 16:46:21,806 [INFO] Analyzing words for concept <Two>.\n",
      "2018-05-14 16:46:21,811 [INFO] Analyzing words for concept <above>.\n",
      "2018-05-14 16:46:21,815 [INFO] Analyzing words for concept <all>.\n",
      "2018-05-14 16:46:21,822 [INFO] Analyzing words for concept <and>.\n",
      "2018-05-14 16:46:21,828 [INFO] Analyzing words for concept <ash>.\n",
      "2018-05-14 16:46:21,835 [INFO] Analyzing words for concept <at>.\n",
      "2018-05-14 16:46:21,840 [INFO] Analyzing words for concept <back>.\n",
      "2018-05-14 16:46:21,845 [INFO] Analyzing words for concept <bad, evil>.\n",
      "2018-05-14 16:46:21,856 [INFO] Analyzing words for concept <belly>.\n",
      "2018-05-14 16:46:21,870 [INFO] Analyzing words for concept <below>.\n",
      "2018-05-14 16:46:21,875 [INFO] Analyzing words for concept <big>.\n",
      "2018-05-14 16:46:21,883 [INFO] Analyzing words for concept <bird>.\n",
      "2018-05-14 16:46:21,888 [INFO] Analyzing words for concept <black>.\n",
      "2018-05-14 16:46:21,899 [INFO] Analyzing words for concept <blood>.\n",
      "2018-05-14 16:46:21,905 [INFO] Analyzing words for concept <bone>.\n",
      "SEQUENCE CLUSTERING:  14%|█▍        | 29/210 [00:00<00:01, 136.71it/s]2018-05-14 16:46:21,909 [INFO] Analyzing words for concept <branch>.\n",
      "2018-05-14 16:46:21,915 [INFO] Analyzing words for concept <breast>.\n",
      "2018-05-14 16:46:21,922 [INFO] Analyzing words for concept <child>.\n",
      "2018-05-14 16:46:21,933 [INFO] Analyzing words for concept <cloud>.\n",
      "2018-05-14 16:46:21,939 [INFO] Analyzing words for concept <cold>.\n",
      "2018-05-14 16:46:21,958 [INFO] Analyzing words for concept <correct, true>.\n",
      "2018-05-14 16:46:21,974 [INFO] Analyzing words for concept <day>.\n",
      "2018-05-14 16:46:21,982 [INFO] Analyzing words for concept <dirty>.\n",
      "2018-05-14 16:46:21,993 [INFO] Analyzing words for concept <dog>.\n",
      "2018-05-14 16:46:22,001 [INFO] Analyzing words for concept <dry>.\n",
      "SEQUENCE CLUSTERING:  19%|█▊        | 39/210 [00:00<00:01, 122.98it/s]2018-05-14 16:46:22,010 [INFO] Analyzing words for concept <dull, blunt>.\n",
      "2018-05-14 16:46:22,019 [INFO] Analyzing words for concept <dust>.\n",
      "2018-05-14 16:46:22,034 [INFO] Analyzing words for concept <ear>.\n",
      "2018-05-14 16:46:22,042 [INFO] Analyzing words for concept <earth/soil>.\n",
      "2018-05-14 16:46:22,054 [INFO] Analyzing words for concept <egg>.\n",
      "2018-05-14 16:46:22,064 [INFO] Analyzing words for concept <eye>.\n",
      "2018-05-14 16:46:22,072 [INFO] Analyzing words for concept <far>.\n",
      "2018-05-14 16:46:22,078 [INFO] Analyzing words for concept <fat/grease>.\n",
      "2018-05-14 16:46:22,088 [INFO] Analyzing words for concept <father>.\n",
      "2018-05-14 16:46:22,108 [INFO] Analyzing words for concept <feather>.\n",
      "SEQUENCE CLUSTERING:  23%|██▎       | 49/210 [00:00<00:01, 111.56it/s]2018-05-14 16:46:22,119 [INFO] Analyzing words for concept <fire>.\n",
      "2018-05-14 16:46:22,125 [INFO] Analyzing words for concept <fish>.\n",
      "2018-05-14 16:46:22,133 [INFO] Analyzing words for concept <flower>.\n",
      "2018-05-14 16:46:22,139 [INFO] Analyzing words for concept <fog>.\n",
      "2018-05-14 16:46:22,147 [INFO] Analyzing words for concept <fruit>.\n",
      "2018-05-14 16:46:22,150 [INFO] Analyzing words for concept <good>.\n",
      "2018-05-14 16:46:22,166 [INFO] Analyzing words for concept <grass>.\n",
      "2018-05-14 16:46:22,172 [INFO] Analyzing words for concept <green>.\n",
      "2018-05-14 16:46:22,180 [INFO] Analyzing words for concept <hair>.\n",
      "2018-05-14 16:46:22,192 [INFO] Analyzing words for concept <hand>.\n",
      "2018-05-14 16:46:22,198 [INFO] Analyzing words for concept <he/she>.\n",
      "2018-05-14 16:46:22,204 [INFO] Analyzing words for concept <head>.\n",
      "2018-05-14 16:46:22,214 [INFO] Analyzing words for concept <heavy>.\n",
      "SEQUENCE CLUSTERING:  30%|██▉       | 62/210 [00:00<00:01, 114.24it/s]2018-05-14 16:46:22,226 [INFO] Analyzing words for concept <house>.\n",
      "2018-05-14 16:46:22,232 [INFO] Analyzing words for concept <how?>.\n",
      "2018-05-14 16:46:22,237 [INFO] Analyzing words for concept <husband>.\n",
      "2018-05-14 16:46:22,241 [INFO] Analyzing words for concept <if>.\n",
      "2018-05-14 16:46:22,246 [INFO] Analyzing words for concept <in, inside>.\n",
      "2018-05-14 16:46:22,251 [INFO] Analyzing words for concept <intestines>.\n",
      "2018-05-14 16:46:22,257 [INFO] Analyzing words for concept <lake>.\n",
      "2018-05-14 16:46:22,262 [INFO] Analyzing words for concept <leaf>.\n",
      "2018-05-14 16:46:22,267 [INFO] Analyzing words for concept <left>.\n",
      "2018-05-14 16:46:22,273 [INFO] Analyzing words for concept <leg/foot>.\n",
      "2018-05-14 16:46:22,279 [INFO] Analyzing words for concept <lightning>.\n",
      "2018-05-14 16:46:22,285 [INFO] Analyzing words for concept <liver>.\n",
      "2018-05-14 16:46:22,294 [INFO] Analyzing words for concept <long>.\n",
      "2018-05-14 16:46:22,298 [INFO] Analyzing words for concept <louse>.\n",
      "2018-05-14 16:46:22,304 [INFO] Analyzing words for concept <man/male>.\n",
      "2018-05-14 16:46:22,320 [INFO] Analyzing words for concept <meat/flesh>.\n",
      "SEQUENCE CLUSTERING:  37%|███▋      | 78/210 [00:00<00:01, 124.77it/s]2018-05-14 16:46:22,327 [INFO] Analyzing words for concept <moon>.\n",
      "2018-05-14 16:46:22,339 [INFO] Analyzing words for concept <mosquito>.\n",
      "2018-05-14 16:46:22,349 [INFO] Analyzing words for concept <mother>.\n",
      "2018-05-14 16:46:22,365 [INFO] Analyzing words for concept <mouth>.\n",
      "2018-05-14 16:46:22,375 [INFO] Analyzing words for concept <name>.\n",
      "2018-05-14 16:46:22,382 [INFO] Analyzing words for concept <narrow>.\n",
      "2018-05-14 16:46:22,393 [INFO] Analyzing words for concept <near>.\n",
      "2018-05-14 16:46:22,400 [INFO] Analyzing words for concept <neck>.\n",
      "2018-05-14 16:46:22,407 [INFO] Analyzing words for concept <needle>.\n",
      "2018-05-14 16:46:22,416 [INFO] Analyzing words for concept <new>.\n",
      "2018-05-14 16:46:22,422 [INFO] Analyzing words for concept <night>.\n",
      "2018-05-14 16:46:22,427 [INFO] Analyzing words for concept <no, not>.\n",
      "SEQUENCE CLUSTERING:  43%|████▎     | 90/210 [00:00<00:01, 119.61it/s]2018-05-14 16:46:22,438 [INFO] Analyzing words for concept <nose>.\n",
      "2018-05-14 16:46:22,445 [INFO] Analyzing words for concept <old>.\n",
      "2018-05-14 16:46:22,469 [INFO] Analyzing words for concept <other>.\n",
      "2018-05-14 16:46:22,474 [INFO] Analyzing words for concept <painful, sick>.\n",
      "2018-05-14 16:46:22,491 [INFO] Analyzing words for concept <person/human being>.\n",
      "2018-05-14 16:46:22,504 [INFO] Analyzing words for concept <rain>.\n",
      "2018-05-14 16:46:22,509 [INFO] Analyzing words for concept <rat>.\n",
      "2018-05-14 16:46:22,521 [INFO] Analyzing words for concept <red>.\n",
      "2018-05-14 16:46:22,536 [INFO] Analyzing words for concept <right>.\n",
      "2018-05-14 16:46:22,546 [INFO] Analyzing words for concept <road/path>.\n",
      "2018-05-14 16:46:22,557 [INFO] Analyzing words for concept <root>.\n",
      "2018-05-14 16:46:22,564 [INFO] Analyzing words for concept <rope>.\n",
      "SEQUENCE CLUSTERING:  49%|████▊     | 102/210 [00:00<00:01, 107.68it/s]2018-05-14 16:46:22,576 [INFO] Analyzing words for concept <rotten>.\n",
      "2018-05-14 16:46:22,588 [INFO] Analyzing words for concept <salt>.\n",
      "2018-05-14 16:46:22,597 [INFO] Analyzing words for concept <sand>.\n",
      "2018-05-14 16:46:22,602 [INFO] Analyzing words for concept <sea>.\n",
      "2018-05-14 16:46:22,619 [INFO] Analyzing words for concept <sharp>.\n",
      "2018-05-14 16:46:22,625 [INFO] Analyzing words for concept <short>.\n",
      "2018-05-14 16:46:22,633 [INFO] Analyzing words for concept <shoulder>.\n",
      "2018-05-14 16:46:22,641 [INFO] Analyzing words for concept <shy, ashamed>.\n",
      "2018-05-14 16:46:22,646 [INFO] Analyzing words for concept <skin>.\n",
      "2018-05-14 16:46:22,651 [INFO] Analyzing words for concept <sky>.\n",
      "2018-05-14 16:46:22,657 [INFO] Analyzing words for concept <small>.\n",
      "2018-05-14 16:46:22,669 [INFO] Analyzing words for concept <smoke>.\n",
      "SEQUENCE CLUSTERING:  54%|█████▍    | 114/210 [00:00<00:00, 110.63it/s]2018-05-14 16:46:22,676 [INFO] Analyzing words for concept <snake>.\n",
      "2018-05-14 16:46:22,679 [INFO] Analyzing words for concept <spider>.\n",
      "2018-05-14 16:46:22,691 [INFO] Analyzing words for concept <star>.\n",
      "2018-05-14 16:46:22,698 [INFO] Analyzing words for concept <stick/wood>.\n",
      "2018-05-14 16:46:22,705 [INFO] Analyzing words for concept <stone>.\n"
     ]
    },
    {
     "name": "stderr",
     "output_type": "stream",
     "text": [
      "2018-05-14 16:46:22,719 [INFO] Analyzing words for concept <tail>.\n",
      "2018-05-14 16:46:22,737 [INFO] Analyzing words for concept <that>.\n",
      "2018-05-14 16:46:22,741 [INFO] Analyzing words for concept <thatch/roof>.\n",
      "2018-05-14 16:46:22,755 [INFO] Analyzing words for concept <they>.\n",
      "2018-05-14 16:46:22,774 [INFO] Analyzing words for concept <thick>.\n",
      "2018-05-14 16:46:22,783 [INFO] Analyzing words for concept <thin>.\n",
      "SEQUENCE CLUSTERING:  60%|█████▉    | 125/210 [00:01<00:00, 103.96it/s]2018-05-14 16:46:22,797 [INFO] Analyzing words for concept <this>.\n",
      "2018-05-14 16:46:22,802 [INFO] Analyzing words for concept <thou>.\n",
      "2018-05-14 16:46:22,809 [INFO] Analyzing words for concept <thunder>.\n",
      "2018-05-14 16:46:22,820 [INFO] Analyzing words for concept <to bite>.\n",
      "2018-05-14 16:46:22,828 [INFO] Analyzing words for concept <to blow>.\n",
      "2018-05-14 16:46:22,849 [INFO] Analyzing words for concept <to breathe>.\n",
      "2018-05-14 16:46:22,864 [INFO] Analyzing words for concept <to burn>.\n",
      "2018-05-14 16:46:22,882 [INFO] Analyzing words for concept <to buy>.\n",
      "2018-05-14 16:46:22,891 [INFO] Analyzing words for concept <to chew>.\n",
      "2018-05-14 16:46:22,898 [INFO] Analyzing words for concept <to choose>.\n",
      "2018-05-14 16:46:22,905 [INFO] Analyzing words for concept <to climb>.\n",
      "SEQUENCE CLUSTERING:  65%|██████▍   | 136/210 [00:01<00:00, 100.81it/s]2018-05-14 16:46:22,914 [INFO] Analyzing words for concept <to come>.\n",
      "2018-05-14 16:46:22,926 [INFO] Analyzing words for concept <to cook>.\n",
      "2018-05-14 16:46:22,935 [INFO] Analyzing words for concept <to count>.\n",
      "2018-05-14 16:46:22,941 [INFO] Analyzing words for concept <to cry>.\n",
      "2018-05-14 16:46:22,950 [INFO] Analyzing words for concept <to cut, hack>.\n",
      "2018-05-14 16:46:22,974 [INFO] Analyzing words for concept <to die, be dead>.\n",
      "2018-05-14 16:46:22,983 [INFO] Analyzing words for concept <to dig>.\n",
      "2018-05-14 16:46:22,994 [INFO] Analyzing words for concept <to dream>.\n",
      "2018-05-14 16:46:23,010 [INFO] Analyzing words for concept <to drink>.\n",
      "2018-05-14 16:46:23,015 [INFO] Analyzing words for concept <to eat>.\n",
      "2018-05-14 16:46:23,022 [INFO] Analyzing words for concept <to fall>.\n",
      "SEQUENCE CLUSTERING:  70%|███████   | 147/210 [00:01<00:00, 93.29it/s] 2018-05-14 16:46:23,057 [INFO] Analyzing words for concept <to fear>.\n",
      "2018-05-14 16:46:23,074 [INFO] Analyzing words for concept <to flow>.\n",
      "2018-05-14 16:46:23,080 [INFO] Analyzing words for concept <to fly>.\n",
      "2018-05-14 16:46:23,087 [INFO] Analyzing words for concept <to grow>.\n",
      "2018-05-14 16:46:23,097 [INFO] Analyzing words for concept <to hear>.\n",
      "2018-05-14 16:46:23,106 [INFO] Analyzing words for concept <to hide>.\n",
      "2018-05-14 16:46:23,112 [INFO] Analyzing words for concept <to hit>.\n",
      "2018-05-14 16:46:23,134 [INFO] Analyzing words for concept <to hold>.\n",
      "2018-05-14 16:46:23,143 [INFO] Analyzing words for concept <to hunt>.\n",
      "2018-05-14 16:46:23,151 [INFO] Analyzing words for concept <to kill>.\n",
      "SEQUENCE CLUSTERING:  75%|███████▍  | 157/210 [00:01<00:00, 91.87it/s]2018-05-14 16:46:23,165 [INFO] Analyzing words for concept <to know, be knowledgeable>.\n",
      "2018-05-14 16:46:23,172 [INFO] Analyzing words for concept <to laugh>.\n",
      "2018-05-14 16:46:23,177 [INFO] Analyzing words for concept <to lie down>.\n",
      "2018-05-14 16:46:23,187 [INFO] Analyzing words for concept <to live, be alive>.\n",
      "2018-05-14 16:46:23,191 [INFO] Analyzing words for concept <to open, uncover>.\n",
      "2018-05-14 16:46:23,202 [INFO] Analyzing words for concept <to plant>.\n",
      "2018-05-14 16:46:23,207 [INFO] Analyzing words for concept <to pound, beat>.\n",
      "2018-05-14 16:46:23,212 [INFO] Analyzing words for concept <to say>.\n",
      "2018-05-14 16:46:23,220 [INFO] Analyzing words for concept <to scratch>.\n",
      "2018-05-14 16:46:23,229 [INFO] Analyzing words for concept <to see>.\n",
      "2018-05-14 16:46:23,235 [INFO] Analyzing words for concept <to sew>.\n",
      "2018-05-14 16:46:23,243 [INFO] Analyzing words for concept <to shoot>.\n",
      "2018-05-14 16:46:23,246 [INFO] Analyzing words for concept <to sit>.\n",
      "2018-05-14 16:46:23,253 [INFO] Analyzing words for concept <to sleep>.\n",
      "2018-05-14 16:46:23,258 [INFO] Analyzing words for concept <to sniff, smell>.\n",
      "SEQUENCE CLUSTERING:  82%|████████▏ | 172/210 [00:01<00:00, 103.63it/s]2018-05-14 16:46:23,266 [INFO] Analyzing words for concept <to spit>.\n",
      "2018-05-14 16:46:23,277 [INFO] Analyzing words for concept <to split>.\n",
      "2018-05-14 16:46:23,291 [INFO] Analyzing words for concept <to squeeze>.\n",
      "2018-05-14 16:46:23,302 [INFO] Analyzing words for concept <to stab, pierce>.\n",
      "2018-05-14 16:46:23,312 [INFO] Analyzing words for concept <to stand>.\n",
      "2018-05-14 16:46:23,317 [INFO] Analyzing words for concept <to steal>.\n",
      "2018-05-14 16:46:23,324 [INFO] Analyzing words for concept <to suck>.\n",
      "2018-05-14 16:46:23,334 [INFO] Analyzing words for concept <to swell>.\n",
      "2018-05-14 16:46:23,341 [INFO] Analyzing words for concept <to swim>.\n",
      "2018-05-14 16:46:23,346 [INFO] Analyzing words for concept <to think>.\n",
      "2018-05-14 16:46:23,354 [INFO] Analyzing words for concept <to throw>.\n",
      "2018-05-14 16:46:23,366 [INFO] Analyzing words for concept <to tie up, fasten>.\n",
      "SEQUENCE CLUSTERING:  88%|████████▊ | 184/210 [00:01<00:00, 104.20it/s]2018-05-14 16:46:23,381 [INFO] Analyzing words for concept <to turn>.\n",
      "2018-05-14 16:46:23,390 [INFO] Analyzing words for concept <to vomit>.\n",
      "2018-05-14 16:46:23,396 [INFO] Analyzing words for concept <to walk>.\n",
      "2018-05-14 16:46:23,409 [INFO] Analyzing words for concept <to work>.\n",
      "2018-05-14 16:46:23,414 [INFO] Analyzing words for concept <to yawn>.\n",
      "2018-05-14 16:46:23,421 [INFO] Analyzing words for concept <tongue>.\n",
      "2018-05-14 16:46:23,427 [INFO] Analyzing words for concept <tooth>.\n",
      "2018-05-14 16:46:23,436 [INFO] Analyzing words for concept <warm>.\n",
      "2018-05-14 16:46:23,451 [INFO] Analyzing words for concept <water>.\n",
      "2018-05-14 16:46:23,455 [INFO] Analyzing words for concept <we>.\n",
      "2018-05-14 16:46:23,518 [INFO] Analyzing words for concept <wet>.\n",
      "SEQUENCE CLUSTERING:  93%|█████████▎| 195/210 [00:01<00:00, 93.02it/s] 2018-05-14 16:46:23,528 [INFO] Analyzing words for concept <what?>.\n",
      "2018-05-14 16:46:23,532 [INFO] Analyzing words for concept <when?>.\n",
      "2018-05-14 16:46:23,538 [INFO] Analyzing words for concept <where?>.\n",
      "2018-05-14 16:46:23,542 [INFO] Analyzing words for concept <white>.\n",
      "2018-05-14 16:46:23,551 [INFO] Analyzing words for concept <who?>.\n",
      "2018-05-14 16:46:23,556 [INFO] Analyzing words for concept <wide>.\n",
      "2018-05-14 16:46:23,562 [INFO] Analyzing words for concept <wife>.\n",
      "2018-05-14 16:46:23,569 [INFO] Analyzing words for concept <wind>.\n",
      "2018-05-14 16:46:23,582 [INFO] Analyzing words for concept <wing>.\n",
      "2018-05-14 16:46:23,591 [INFO] Analyzing words for concept <woman/female>.\n",
      "2018-05-14 16:46:23,608 [INFO] Analyzing words for concept <woods/forest>.\n",
      "2018-05-14 16:46:23,614 [INFO] Analyzing words for concept <worm (earthworm)>.\n",
      "2018-05-14 16:46:23,620 [INFO] Analyzing words for concept <year>.\n",
      "SEQUENCE CLUSTERING:  99%|█████████▉| 208/210 [00:01<00:00, 100.87it/s]2018-05-14 16:46:23,632 [INFO] Analyzing words for concept <yellow>.\n",
      "2018-05-14 16:46:23,640 [INFO] Analyzing words for concept <you>.\n",
      "                                                                       "
     ]
    },
    {
     "name": "stdout",
     "output_type": "stream",
     "text": [
      "Tahitian             \t va'u \t4 \t 1 \t 4\n",
      "Ra’ivavae            \t vaGu \t6 \t 1 \t 4\n",
      "Sikaiana             \t valu \t1 \t 1 \t 4\n",
      "Rurutuan             \t vaʔu \t4 \t 1 \t 4\n",
      "Rapanui              \t va'u \t4 \t 1 \t 4\n",
      "North_Marquesan      \t va'u \t4 \t 1 \t 4\n",
      "Maori                \t waru \t1 \t 1 \t 4\n",
      "Mangareva            \t varu \t1 \t 1 \t 4\n",
      "Tuamotuan            \t varu \t1 \t 1 \t 4\n",
      "Hawaiian             \t walu \t1 \t 1 \t 4\n"
     ]
    },
    {
     "name": "stderr",
     "output_type": "stream",
     "text": [
      "\r"
     ]
    }
   ],
   "source": [
    "lex.get_scorer(runs=10000)\n",
    "lex.output('tsv', filename='east-polynesian.bin', ignore=[])\n",
    "lex.cluster(method='lexstat', threshold=0.60, ref='lexstatid')\n",
    "\n",
    "for k, v in eight.items():\n",
    "    idx = v[0] \n",
    "    print(\"{0:20} \\t {1} \\t{2} \\t {3} \\t {4}\".format(\n",
    "        lex[idx, 'doculect'], \n",
    "        lex[idx, 'value'], \n",
    "        lex[idx, 'turchinid'], \n",
    "        lex[idx, 'scaid'],\n",
    "        lex[idx, 'lexstatid']\n",
    "    ))"
   ]
  },
  {
   "cell_type": "markdown",
   "metadata": {},
   "source": [
    "You can see that there is not much difference in the results for this very item, but you should not underestimate the different power of the methods, as we will see later on when running an evaluation analysis. For now, trust me that in general the results are quite different.\n",
    "\n",
    "Let us now run (for those who managed to install the python-igraph package) an additional analysis which was shown to yield even better results. Here, we do still use the \"lexstat\" approach, but we use \"infomap\" ([Rosvall and Bergstroem 2008](http://bibliography.lingpy.org?key=Rosvall2008)) as our cluster method. This method is network-based rather than agglomerative (as is LingPy's default), and was shown to yield consistently better results in combination with \"lexstat\" ([List, Greenhill, and Gray 2017](http://bibliography.lingpy.org?key=List2017c)). In order to avoid that we override the content of the column \"lexstatid\", we now pass a specific keyword, called `ref` (the \"reference\" of the output) and set its value to \"infomap\". We also choose a different threshold, the one we empirically determined from tests on different language families (see ibd. for details):"
   ]
  },
  {
   "cell_type": "code",
   "execution_count": 28,
   "metadata": {},
   "outputs": [
    {
     "name": "stderr",
     "output_type": "stream",
     "text": [
      "SEQUENCE CLUSTERING:   0%|          | 0/210 [00:00<?, ?it/s]2018-05-14 16:46:23,689 [INFO] Analyzing words for concept <Eight>.\n",
      "2018-05-14 16:46:23,694 [INFO] Analyzing words for concept <Fifty>.\n",
      "2018-05-14 16:46:23,698 [INFO] Analyzing words for concept <Five>.\n",
      "2018-05-14 16:46:23,705 [INFO] Analyzing words for concept <Four>.\n",
      "2018-05-14 16:46:23,709 [INFO] Analyzing words for concept <I>.\n",
      "2018-05-14 16:46:23,717 [INFO] Analyzing words for concept <Nine>.\n",
      "2018-05-14 16:46:23,726 [INFO] Analyzing words for concept <One>.\n",
      "2018-05-14 16:46:23,736 [INFO] Analyzing words for concept <One Hundred>.\n",
      "2018-05-14 16:46:23,744 [INFO] Analyzing words for concept <One Thousand>.\n",
      "2018-05-14 16:46:23,756 [INFO] Analyzing words for concept <Seven>.\n",
      "2018-05-14 16:46:23,765 [INFO] Analyzing words for concept <Six>.\n",
      "2018-05-14 16:46:23,772 [INFO] Analyzing words for concept <Ten>.\n",
      "SEQUENCE CLUSTERING:   6%|▌         | 12/210 [00:00<00:01, 117.25it/s]2018-05-14 16:46:23,795 [INFO] Analyzing words for concept <Three>.\n",
      "2018-05-14 16:46:23,804 [INFO] Analyzing words for concept <Twenty>.\n",
      "2018-05-14 16:46:23,813 [INFO] Analyzing words for concept <Two>.\n",
      "2018-05-14 16:46:23,824 [INFO] Analyzing words for concept <above>.\n",
      "2018-05-14 16:46:23,832 [INFO] Analyzing words for concept <all>.\n",
      "2018-05-14 16:46:23,845 [INFO] Analyzing words for concept <and>.\n",
      "2018-05-14 16:46:23,855 [INFO] Analyzing words for concept <ash>.\n",
      "2018-05-14 16:46:23,867 [INFO] Analyzing words for concept <at>.\n",
      "2018-05-14 16:46:23,874 [INFO] Analyzing words for concept <back>.\n",
      "2018-05-14 16:46:23,883 [INFO] Analyzing words for concept <bad, evil>.\n",
      "SEQUENCE CLUSTERING:  10%|█         | 22/210 [00:00<00:01, 109.95it/s]2018-05-14 16:46:23,897 [INFO] Analyzing words for concept <belly>.\n",
      "2018-05-14 16:46:23,914 [INFO] Analyzing words for concept <below>.\n",
      "2018-05-14 16:46:23,921 [INFO] Analyzing words for concept <big>.\n",
      "2018-05-14 16:46:23,932 [INFO] Analyzing words for concept <bird>.\n",
      "2018-05-14 16:46:23,938 [INFO] Analyzing words for concept <black>.\n",
      "2018-05-14 16:46:23,951 [INFO] Analyzing words for concept <blood>.\n",
      "2018-05-14 16:46:23,957 [INFO] Analyzing words for concept <bone>.\n",
      "2018-05-14 16:46:23,962 [INFO] Analyzing words for concept <branch>.\n",
      "2018-05-14 16:46:23,970 [INFO] Analyzing words for concept <breast>.\n",
      "2018-05-14 16:46:23,978 [INFO] Analyzing words for concept <child>.\n",
      "2018-05-14 16:46:23,991 [INFO] Analyzing words for concept <cloud>.\n",
      "SEQUENCE CLUSTERING:  16%|█▌        | 33/210 [00:00<00:01, 109.23it/s]2018-05-14 16:46:23,998 [INFO] Analyzing words for concept <cold>.\n",
      "2018-05-14 16:46:24,015 [INFO] Analyzing words for concept <correct, true>.\n",
      "2018-05-14 16:46:24,028 [INFO] Analyzing words for concept <day>.\n",
      "2018-05-14 16:46:24,036 [INFO] Analyzing words for concept <dirty>.\n",
      "2018-05-14 16:46:24,045 [INFO] Analyzing words for concept <dog>.\n",
      "2018-05-14 16:46:24,053 [INFO] Analyzing words for concept <dry>.\n",
      "2018-05-14 16:46:24,061 [INFO] Analyzing words for concept <dull, blunt>.\n",
      "2018-05-14 16:46:24,071 [INFO] Analyzing words for concept <dust>.\n",
      "2018-05-14 16:46:24,085 [INFO] Analyzing words for concept <ear>.\n",
      "2018-05-14 16:46:24,092 [INFO] Analyzing words for concept <earth/soil>.\n",
      "SEQUENCE CLUSTERING:  20%|██        | 43/210 [00:00<00:01, 105.05it/s]2018-05-14 16:46:24,102 [INFO] Analyzing words for concept <egg>.\n",
      "2018-05-14 16:46:24,111 [INFO] Analyzing words for concept <eye>.\n",
      "2018-05-14 16:46:24,117 [INFO] Analyzing words for concept <far>.\n",
      "2018-05-14 16:46:24,123 [INFO] Analyzing words for concept <fat/grease>.\n",
      "2018-05-14 16:46:24,132 [INFO] Analyzing words for concept <father>.\n",
      "2018-05-14 16:46:24,145 [INFO] Analyzing words for concept <feather>.\n",
      "2018-05-14 16:46:24,153 [INFO] Analyzing words for concept <fire>.\n",
      "2018-05-14 16:46:24,158 [INFO] Analyzing words for concept <fish>.\n",
      "2018-05-14 16:46:24,165 [INFO] Analyzing words for concept <flower>.\n",
      "2018-05-14 16:46:24,172 [INFO] Analyzing words for concept <fog>.\n",
      "2018-05-14 16:46:24,181 [INFO] Analyzing words for concept <fruit>.\n",
      "2018-05-14 16:46:24,184 [INFO] Analyzing words for concept <good>.\n",
      "2018-05-14 16:46:24,201 [INFO] Analyzing words for concept <grass>.\n",
      "SEQUENCE CLUSTERING:  27%|██▋       | 56/210 [00:00<00:01, 109.87it/s]2018-05-14 16:46:24,208 [INFO] Analyzing words for concept <green>.\n",
      "2018-05-14 16:46:24,216 [INFO] Analyzing words for concept <hair>.\n",
      "2018-05-14 16:46:24,228 [INFO] Analyzing words for concept <hand>.\n",
      "2018-05-14 16:46:24,234 [INFO] Analyzing words for concept <he/she>.\n",
      "2018-05-14 16:46:24,240 [INFO] Analyzing words for concept <head>.\n",
      "2018-05-14 16:46:24,250 [INFO] Analyzing words for concept <heavy>.\n",
      "2018-05-14 16:46:24,261 [INFO] Analyzing words for concept <house>.\n",
      "2018-05-14 16:46:24,267 [INFO] Analyzing words for concept <how?>.\n",
      "2018-05-14 16:46:24,272 [INFO] Analyzing words for concept <husband>.\n",
      "2018-05-14 16:46:24,277 [INFO] Analyzing words for concept <if>.\n",
      "2018-05-14 16:46:24,281 [INFO] Analyzing words for concept <in, inside>.\n",
      "2018-05-14 16:46:24,287 [INFO] Analyzing words for concept <intestines>.\n",
      "2018-05-14 16:46:24,294 [INFO] Analyzing words for concept <lake>.\n",
      "2018-05-14 16:46:24,298 [INFO] Analyzing words for concept <leaf>.\n",
      "2018-05-14 16:46:24,304 [INFO] Analyzing words for concept <left>.\n",
      "SEQUENCE CLUSTERING:  34%|███▍      | 71/210 [00:00<00:01, 118.90it/s]2018-05-14 16:46:24,310 [INFO] Analyzing words for concept <leg/foot>.\n",
      "2018-05-14 16:46:24,317 [INFO] Analyzing words for concept <lightning>.\n",
      "2018-05-14 16:46:24,325 [INFO] Analyzing words for concept <liver>.\n",
      "2018-05-14 16:46:24,333 [INFO] Analyzing words for concept <long>.\n",
      "2018-05-14 16:46:24,338 [INFO] Analyzing words for concept <louse>.\n",
      "2018-05-14 16:46:24,346 [INFO] Analyzing words for concept <man/male>.\n",
      "2018-05-14 16:46:24,361 [INFO] Analyzing words for concept <meat/flesh>.\n",
      "2018-05-14 16:46:24,367 [INFO] Analyzing words for concept <moon>.\n",
      "2018-05-14 16:46:24,376 [INFO] Analyzing words for concept <mosquito>.\n",
      "2018-05-14 16:46:24,383 [INFO] Analyzing words for concept <mother>.\n",
      "2018-05-14 16:46:24,396 [INFO] Analyzing words for concept <mouth>.\n",
      "2018-05-14 16:46:24,405 [INFO] Analyzing words for concept <name>.\n",
      "SEQUENCE CLUSTERING:  40%|███▉      | 83/210 [00:00<00:01, 118.83it/s]2018-05-14 16:46:24,411 [INFO] Analyzing words for concept <narrow>.\n",
      "2018-05-14 16:46:24,421 [INFO] Analyzing words for concept <near>.\n",
      "2018-05-14 16:46:24,429 [INFO] Analyzing words for concept <neck>.\n",
      "2018-05-14 16:46:24,436 [INFO] Analyzing words for concept <needle>.\n",
      "2018-05-14 16:46:24,444 [INFO] Analyzing words for concept <new>.\n",
      "2018-05-14 16:46:24,449 [INFO] Analyzing words for concept <night>.\n",
      "2018-05-14 16:46:24,455 [INFO] Analyzing words for concept <no, not>.\n",
      "2018-05-14 16:46:24,465 [INFO] Analyzing words for concept <nose>.\n",
      "2018-05-14 16:46:24,472 [INFO] Analyzing words for concept <old>.\n",
      "2018-05-14 16:46:24,487 [INFO] Analyzing words for concept <other>.\n",
      "2018-05-14 16:46:24,491 [INFO] Analyzing words for concept <painful, sick>.\n",
      "2018-05-14 16:46:24,505 [INFO] Analyzing words for concept <person/human being>.\n",
      "SEQUENCE CLUSTERING:  45%|████▌     | 95/210 [00:00<00:00, 116.90it/s]2018-05-14 16:46:24,519 [INFO] Analyzing words for concept <rain>.\n",
      "2018-05-14 16:46:24,525 [INFO] Analyzing words for concept <rat>.\n",
      "2018-05-14 16:46:24,534 [INFO] Analyzing words for concept <red>.\n",
      "2018-05-14 16:46:24,547 [INFO] Analyzing words for concept <right>.\n",
      "2018-05-14 16:46:24,557 [INFO] Analyzing words for concept <road/path>.\n",
      "2018-05-14 16:46:24,567 [INFO] Analyzing words for concept <root>.\n",
      "2018-05-14 16:46:24,574 [INFO] Analyzing words for concept <rope>.\n",
      "2018-05-14 16:46:24,583 [INFO] Analyzing words for concept <rotten>.\n",
      "2018-05-14 16:46:24,593 [INFO] Analyzing words for concept <salt>.\n",
      "2018-05-14 16:46:24,601 [INFO] Analyzing words for concept <sand>.\n",
      "2018-05-14 16:46:24,607 [INFO] Analyzing words for concept <sea>.\n",
      "2018-05-14 16:46:24,623 [INFO] Analyzing words for concept <sharp>.\n",
      "SEQUENCE CLUSTERING:  51%|█████     | 107/210 [00:00<00:00, 113.81it/s]2018-05-14 16:46:24,630 [INFO] Analyzing words for concept <short>.\n",
      "2018-05-14 16:46:24,639 [INFO] Analyzing words for concept <shoulder>.\n"
     ]
    },
    {
     "name": "stderr",
     "output_type": "stream",
     "text": [
      "2018-05-14 16:46:24,647 [INFO] Analyzing words for concept <shy, ashamed>.\n",
      "2018-05-14 16:46:24,652 [INFO] Analyzing words for concept <skin>.\n",
      "2018-05-14 16:46:24,658 [INFO] Analyzing words for concept <sky>.\n",
      "2018-05-14 16:46:24,664 [INFO] Analyzing words for concept <small>.\n",
      "2018-05-14 16:46:24,676 [INFO] Analyzing words for concept <smoke>.\n",
      "2018-05-14 16:46:24,682 [INFO] Analyzing words for concept <snake>.\n",
      "2018-05-14 16:46:24,686 [INFO] Analyzing words for concept <spider>.\n",
      "2018-05-14 16:46:24,700 [INFO] Analyzing words for concept <star>.\n",
      "2018-05-14 16:46:24,709 [INFO] Analyzing words for concept <stick/wood>.\n",
      "2018-05-14 16:46:24,715 [INFO] Analyzing words for concept <stone>.\n",
      "2018-05-14 16:46:24,729 [INFO] Analyzing words for concept <tail>.\n",
      "SEQUENCE CLUSTERING:  57%|█████▋    | 120/210 [00:01<00:00, 113.35it/s]2018-05-14 16:46:24,746 [INFO] Analyzing words for concept <that>.\n",
      "2018-05-14 16:46:24,751 [INFO] Analyzing words for concept <thatch/roof>.\n",
      "2018-05-14 16:46:24,766 [INFO] Analyzing words for concept <they>.\n",
      "2018-05-14 16:46:24,786 [INFO] Analyzing words for concept <thick>.\n",
      "2018-05-14 16:46:24,802 [INFO] Analyzing words for concept <thin>.\n",
      "2018-05-14 16:46:24,821 [INFO] Analyzing words for concept <this>.\n",
      "2018-05-14 16:46:24,830 [INFO] Analyzing words for concept <thou>.\n",
      "2018-05-14 16:46:24,837 [INFO] Analyzing words for concept <thunder>.\n",
      "2018-05-14 16:46:24,850 [INFO] Analyzing words for concept <to bite>.\n",
      "2018-05-14 16:46:24,858 [INFO] Analyzing words for concept <to blow>.\n",
      "2018-05-14 16:46:24,881 [INFO] Analyzing words for concept <to breathe>.\n",
      "2018-05-14 16:46:24,896 [INFO] Analyzing words for concept <to burn>.\n",
      "SEQUENCE CLUSTERING:  63%|██████▎   | 132/210 [00:01<00:00, 95.98it/s] 2018-05-14 16:46:24,916 [INFO] Analyzing words for concept <to buy>.\n",
      "2018-05-14 16:46:24,925 [INFO] Analyzing words for concept <to chew>.\n",
      "2018-05-14 16:46:24,932 [INFO] Analyzing words for concept <to choose>.\n",
      "2018-05-14 16:46:24,939 [INFO] Analyzing words for concept <to climb>.\n",
      "2018-05-14 16:46:24,945 [INFO] Analyzing words for concept <to come>.\n",
      "2018-05-14 16:46:24,956 [INFO] Analyzing words for concept <to cook>.\n",
      "2018-05-14 16:46:24,965 [INFO] Analyzing words for concept <to count>.\n",
      "2018-05-14 16:46:24,971 [INFO] Analyzing words for concept <to cry>.\n",
      "2018-05-14 16:46:24,979 [INFO] Analyzing words for concept <to cut, hack>.\n",
      "2018-05-14 16:46:25,001 [INFO] Analyzing words for concept <to die, be dead>.\n",
      "2018-05-14 16:46:25,009 [INFO] Analyzing words for concept <to dig>.\n",
      "SEQUENCE CLUSTERING:  68%|██████▊   | 143/210 [00:01<00:00, 98.28it/s]2018-05-14 16:46:25,021 [INFO] Analyzing words for concept <to dream>.\n",
      "2018-05-14 16:46:25,037 [INFO] Analyzing words for concept <to drink>.\n",
      "2018-05-14 16:46:25,042 [INFO] Analyzing words for concept <to eat>.\n",
      "2018-05-14 16:46:25,047 [INFO] Analyzing words for concept <to fall>.\n",
      "2018-05-14 16:46:25,076 [INFO] Analyzing words for concept <to fear>.\n",
      "2018-05-14 16:46:25,093 [INFO] Analyzing words for concept <to flow>.\n",
      "2018-05-14 16:46:25,099 [INFO] Analyzing words for concept <to fly>.\n",
      "2018-05-14 16:46:25,107 [INFO] Analyzing words for concept <to grow>.\n",
      "2018-05-14 16:46:25,118 [INFO] Analyzing words for concept <to hear>.\n",
      "2018-05-14 16:46:25,128 [INFO] Analyzing words for concept <to hide>.\n",
      "2018-05-14 16:46:25,137 [INFO] Analyzing words for concept <to hit>.\n",
      "SEQUENCE CLUSTERING:  73%|███████▎  | 154/210 [00:01<00:00, 91.10it/s]2018-05-14 16:46:25,163 [INFO] Analyzing words for concept <to hold>.\n",
      "2018-05-14 16:46:25,177 [INFO] Analyzing words for concept <to hunt>.\n",
      "2018-05-14 16:46:25,188 [INFO] Analyzing words for concept <to kill>.\n",
      "2018-05-14 16:46:25,203 [INFO] Analyzing words for concept <to know, be knowledgeable>.\n",
      "2018-05-14 16:46:25,214 [INFO] Analyzing words for concept <to laugh>.\n",
      "2018-05-14 16:46:25,221 [INFO] Analyzing words for concept <to lie down>.\n",
      "2018-05-14 16:46:25,234 [INFO] Analyzing words for concept <to live, be alive>.\n",
      "2018-05-14 16:46:25,241 [INFO] Analyzing words for concept <to open, uncover>.\n",
      "2018-05-14 16:46:25,255 [INFO] Analyzing words for concept <to plant>.\n",
      "2018-05-14 16:46:25,261 [INFO] Analyzing words for concept <to pound, beat>.\n",
      "SEQUENCE CLUSTERING:  78%|███████▊  | 164/210 [00:01<00:00, 92.02it/s]2018-05-14 16:46:25,268 [INFO] Analyzing words for concept <to say>.\n",
      "2018-05-14 16:46:25,278 [INFO] Analyzing words for concept <to scratch>.\n",
      "2018-05-14 16:46:25,290 [INFO] Analyzing words for concept <to see>.\n",
      "2018-05-14 16:46:25,297 [INFO] Analyzing words for concept <to sew>.\n",
      "2018-05-14 16:46:25,306 [INFO] Analyzing words for concept <to shoot>.\n",
      "2018-05-14 16:46:25,311 [INFO] Analyzing words for concept <to sit>.\n",
      "2018-05-14 16:46:25,319 [INFO] Analyzing words for concept <to sleep>.\n",
      "2018-05-14 16:46:25,325 [INFO] Analyzing words for concept <to sniff, smell>.\n",
      "2018-05-14 16:46:25,335 [INFO] Analyzing words for concept <to spit>.\n",
      "2018-05-14 16:46:25,347 [INFO] Analyzing words for concept <to split>.\n",
      "2018-05-14 16:46:25,361 [INFO] Analyzing words for concept <to squeeze>.\n",
      "SEQUENCE CLUSTERING:  83%|████████▎ | 175/210 [00:01<00:00, 94.94it/s]2018-05-14 16:46:25,376 [INFO] Analyzing words for concept <to stab, pierce>.\n",
      "2018-05-14 16:46:25,389 [INFO] Analyzing words for concept <to stand>.\n",
      "2018-05-14 16:46:25,395 [INFO] Analyzing words for concept <to steal>.\n",
      "2018-05-14 16:46:25,403 [INFO] Analyzing words for concept <to suck>.\n",
      "2018-05-14 16:46:25,414 [INFO] Analyzing words for concept <to swell>.\n",
      "2018-05-14 16:46:25,422 [INFO] Analyzing words for concept <to swim>.\n",
      "2018-05-14 16:46:25,427 [INFO] Analyzing words for concept <to think>.\n",
      "2018-05-14 16:46:25,437 [INFO] Analyzing words for concept <to throw>.\n",
      "2018-05-14 16:46:25,448 [INFO] Analyzing words for concept <to tie up, fasten>.\n",
      "2018-05-14 16:46:25,461 [INFO] Analyzing words for concept <to turn>.\n",
      "2018-05-14 16:46:25,471 [INFO] Analyzing words for concept <to vomit>.\n",
      "SEQUENCE CLUSTERING:  89%|████████▊ | 186/210 [00:01<00:00, 98.59it/s]2018-05-14 16:46:25,477 [INFO] Analyzing words for concept <to walk>.\n",
      "2018-05-14 16:46:25,489 [INFO] Analyzing words for concept <to work>.\n",
      "2018-05-14 16:46:25,494 [INFO] Analyzing words for concept <to yawn>.\n",
      "2018-05-14 16:46:25,502 [INFO] Analyzing words for concept <tongue>.\n",
      "2018-05-14 16:46:25,519 [INFO] Analyzing words for concept <tooth>.\n",
      "2018-05-14 16:46:25,524 [INFO] Analyzing words for concept <warm>.\n",
      "2018-05-14 16:46:25,539 [INFO] Analyzing words for concept <water>.\n",
      "2018-05-14 16:46:25,545 [INFO] Analyzing words for concept <we>.\n",
      "2018-05-14 16:46:25,615 [INFO] Analyzing words for concept <wet>.\n",
      "2018-05-14 16:46:25,628 [INFO] Analyzing words for concept <what?>.\n",
      "SEQUENCE CLUSTERING:  93%|█████████▎| 196/210 [00:01<00:00, 84.88it/s]2018-05-14 16:46:25,633 [INFO] Analyzing words for concept <when?>.\n",
      "2018-05-14 16:46:25,640 [INFO] Analyzing words for concept <where?>.\n",
      "2018-05-14 16:46:25,647 [INFO] Analyzing words for concept <white>.\n",
      "2018-05-14 16:46:25,660 [INFO] Analyzing words for concept <who?>.\n",
      "2018-05-14 16:46:25,667 [INFO] Analyzing words for concept <wide>.\n",
      "2018-05-14 16:46:25,678 [INFO] Analyzing words for concept <wife>.\n",
      "2018-05-14 16:46:25,688 [INFO] Analyzing words for concept <wind>.\n",
      "2018-05-14 16:46:25,705 [INFO] Analyzing words for concept <wing>.\n",
      "2018-05-14 16:46:25,719 [INFO] Analyzing words for concept <woman/female>.\n",
      "SEQUENCE CLUSTERING:  98%|█████████▊| 205/210 [00:02<00:00, 84.76it/s]2018-05-14 16:46:25,742 [INFO] Analyzing words for concept <woods/forest>.\n",
      "2018-05-14 16:46:25,751 [INFO] Analyzing words for concept <worm (earthworm)>.\n",
      "2018-05-14 16:46:25,759 [INFO] Analyzing words for concept <year>.\n",
      "2018-05-14 16:46:25,772 [INFO] Analyzing words for concept <yellow>.\n",
      "2018-05-14 16:46:25,786 [INFO] Analyzing words for concept <you>.\n",
      "                                                                      "
     ]
    },
    {
     "name": "stdout",
     "output_type": "stream",
     "text": [
      "Tahitian             \t va'u \t4 \t 1 \t 4 \t 1\n",
      "Ra’ivavae            \t vaGu \t6 \t 1 \t 4 \t 1\n",
      "Sikaiana             \t valu \t1 \t 1 \t 4 \t 1\n",
      "Rurutuan             \t vaʔu \t4 \t 1 \t 4 \t 1\n",
      "Rapanui              \t va'u \t4 \t 1 \t 4 \t 1\n",
      "North_Marquesan      \t va'u \t4 \t 1 \t 4 \t 1\n",
      "Maori                \t waru \t1 \t 1 \t 4 \t 1\n",
      "Mangareva            \t varu \t1 \t 1 \t 4 \t 1\n",
      "Tuamotuan            \t varu \t1 \t 1 \t 4 \t 1\n",
      "Hawaiian             \t walu \t1 \t 1 \t 4 \t 1\n"
     ]
    },
    {
     "name": "stderr",
     "output_type": "stream",
     "text": [
      "\r"
     ]
    }
   ],
   "source": [
    "lex.cluster(method=\"lexstat\", threshold=0.55, ref=\"infomap\", cluster_method='infomap')\n",
    "for k, v in eight.items():\n",
    "    idx = v[0] \n",
    "    print(\"{0:20} \\t {1} \\t{2} \\t {3} \\t {4} \\t {5}\".format(\n",
    "        lex[idx, 'doculect'], \n",
    "        lex[idx, 'value'], \n",
    "        lex[idx, 'turchinid'], \n",
    "        lex[idx, 'scaid'],\n",
    "        lex[idx, 'lexstatid'],\n",
    "        lex[idx, 'infomap']\n",
    "    ))"
   ]
  },
  {
   "cell_type": "markdown",
   "metadata": {},
   "source": [
    "Well, no improvement for \"eight\", but we will see later in detail, and for now, we just write the data to file, this time in plain text, without the additional information, but with the additional columns with our analyses."
   ]
  },
  {
   "cell_type": "code",
   "execution_count": 29,
   "metadata": {},
   "outputs": [
    {
     "name": "stderr",
     "output_type": "stream",
     "text": [
      "2018-05-14 16:46:25,878 [INFO] Data has been written to file <east-polynesian-lexstat.tsv>.\n"
     ]
    }
   ],
   "source": [
    "lex.output('tsv', filename='east-polynesian-lexstat')"
   ]
  },
  {
   "cell_type": "markdown",
   "metadata": {},
   "source": [
    "### 4.4 Aligning the Results\n",
    "\n",
    "One great advantage of LingPy is that alignments can also be directly computed from automatically inferred cognate sets. This is useful, first also for manually annotated cognate sets, as it saves a lot of work, since alignment algorithms come very close to human judgments, and it requires only minimal post-annotation by humans to correct the errors. Second, it is useful to check the data, as it makes transparent where the algorithm found the similarity that triggered a respective cognate decision.\n",
    "\n",
    "When carrying out alignment analyses, we use the `Alignments` class in LingPy which requires a word list as input as well as the column which contains the cognate sets which shall be aligned. We will use the \"infomap\" analysis for our automatic alignments, since this usually performs better than the other methods. This is done by specifying the keyword `ref` as \"infomap\" when calling the `Alignments` class. As a further important tweak, we first load the data into the `LexStat` class so that we have the inferred sound correspondences which will then be used to compute our alignments. For this purpose, we load the file `east-polynesian.bin.tsv` which stores the results of our permutation analysis and provides language-specific scores for all segments in the data (high scores indicating likely sound correspondences, low scores < 0 indicating non-corresponding sounds). We align using the normal progressive alignment, which is usually sufficient for smaller alignments and is slightly faster. When calling the alignment algorithm, we define the specific keyword `scoredict` and pass it the `lex.cscorer`, which stores the language-specific scoring functions for our data:"
   ]
  },
  {
   "cell_type": "code",
   "execution_count": 30,
   "metadata": {},
   "outputs": [],
   "source": [
    "lex = LexStat('east-polynesian.bin.tsv')\n",
    "alm = Alignments('east-polynesian-lexstat.tsv', ref='infomap', segments='tokens') # `ref` indicates the column with the cognate sets\n",
    "alm.align(method='progressive', scoredict=lex.cscorer)"
   ]
  },
  {
   "cell_type": "markdown",
   "metadata": {},
   "source": [
    "This was not very spectacular, as we have not yet seen what happened. We can visualize the alignments from the command line by picking a particular cognate set and printing the alignments on screen. The alignments are added in a specific column called `alignments` as a default (but which can be modified by specifying another value with the keyword `alignments` passed to the initialization method for the `Alignments` class). Additionally, they can be retrieved using the `Alignments.get_msa` method - since multiple different alignment analyses can be stored in the object, the reference to a particular analysis must be passed. The following code illustrates how we can print a particular aligned cognate set:"
   ]
  },
  {
   "cell_type": "code",
   "execution_count": 31,
   "metadata": {},
   "outputs": [
    {
     "name": "stdout",
     "output_type": "stream",
     "text": [
      "Hawaiian             \t Eight \t w\ta\tl\tu\n",
      "Mangareva            \t Eight \t v\ta\tr\tu\n",
      "Maori                \t Eight \t w\ta\tr\tu\n",
      "North_Marquesan      \t Eight \t v\ta\tʔ\tu\n",
      "Rapanui              \t Eight \t v\ta\tʔ\tu\n",
      "Ra’ivavae            \t Eight \t v\ta\tɢ\tu\n",
      "Rurutuan             \t Eight \t v\ta\tʔ\tu\n",
      "Sikaiana             \t Eight \t v\ta\tl\tu\n",
      "Tahitian             \t Eight \t v\ta\tʔ\tu\n",
      "Tuamotuan            \t Eight \t v\ta\tr\tu\n"
     ]
    }
   ],
   "source": [
    "msa = alm.get_msa('infomap')[1]\n",
    "for i, idx in enumerate(msa['ID']):\n",
    "    print(\n",
    "        '{0:20}'.format(msa['taxa'][i]),  \n",
    "        '\\t',\n",
    "        alm[idx, 'concept'],\n",
    "        '\\t',\n",
    "        '\\t'.join(msa['alignment'][i])\n",
    "    )"
   ]
  },
  {
   "cell_type": "markdown",
   "metadata": {},
   "source": [
    "Again the eight, although this was not planned. But now let's quickly save the data to file, so that we can go on and inspect the findings further:"
   ]
  },
  {
   "cell_type": "code",
   "execution_count": 32,
   "metadata": {},
   "outputs": [
    {
     "name": "stderr",
     "output_type": "stream",
     "text": [
      "2018-05-14 16:46:27,858 [INFO] Data has been written to file <east-polynesian-aligned.tsv>.\n"
     ]
    }
   ],
   "source": [
    "alm.output('tsv', filename='east-polynesian-aligned', ignore='all', prettify=False)"
   ]
  },
  {
   "cell_type": "markdown",
   "metadata": {},
   "source": [
    "### 4.5 Inspecting Alignments with the EDICTOR\n",
    "\n",
    "The easiest way to inspect your alignments is to load them into the EDICTOR tool ([List 2017](http://bibliography.lingpy.org?key=List2017d)). In order to do so, just take the file ```east-polynesian-aligned.tsv```, open the EDICTOR at [http://edictor.digling.org](http://edictor.digling.org) and drag the file into the BROWSE button (or press the button and select the file). A red field will pop up and after pressing it, you can inspect your data in the EDICTOR.\n",
    "\n",
    "To lookup an alignment, just right-click in the field COGID for any numeric entry. If the cognate set is consisting of more than one word form, a popup window will appear in which you can inspect and manually edit the alignments."
   ]
  },
  {
   "cell_type": "markdown",
   "metadata": {},
   "source": [
    "![alms](img/alms.png)"
   ]
  },
  {
   "cell_type": "markdown",
   "metadata": {},
   "source": [
    "### 4.6 Sound Correspondences\n",
    "\n",
    "EDICTOR offers a new module in which you can inspect the sound correspondence patterns of your data. To search those, just load your file into the EDICTOR tool, and click on ANALYZE->CORRESPONDENCE PATTERNS. If you then click the OK button, you will see the correspondence patterns for the aligned East Polynesian data."
   ]
  },
  {
   "cell_type": "markdown",
   "metadata": {},
   "source": [
    "![correspondence patterns](img/corrs.png)"
   ]
  },
  {
   "cell_type": "markdown",
   "metadata": {},
   "source": [
    "### 5 Evaluation with LingPy\n",
    "\n",
    "#### 5.1 Manual Inspection of Differences\n",
    "\n",
    "If you want to manually inspect the differences after having computed automatic cognates, you can write data in LingPy to a textfile which easily contrasts the differences between experts' cognate judgments and automatic cognates."
   ]
  },
  {
   "cell_type": "code",
   "execution_count": 33,
   "metadata": {},
   "outputs": [
    {
     "name": "stderr",
     "output_type": "stream",
     "text": [
      "2018-05-14 16:46:28,066 [INFO] Data has been written to file <east-polynesian.diff>.\n"
     ]
    },
    {
     "data": {
      "text/plain": [
       "((0.9431961865942957, 0.9237348090024954, 0.933364062550209),\n",
       " (0.9099273097919164, 0.888395965797375, 0.899032740287589))"
      ]
     },
     "execution_count": 33,
     "metadata": {},
     "output_type": "execute_result"
    }
   ],
   "source": [
    "from lingpy.evaluate.acd import diff\n",
    "wl = Wordlist('east-polynesian-lexstat.tsv')\n",
    "out = diff(wl, 'cogid', 'infomap', tofile=True, filename=\"east-polynesian\", pprint=False)\n",
    "out"
   ]
  },
  {
   "cell_type": "markdown",
   "metadata": {},
   "source": [
    "If you inspect the file ```east-polynesian.diff```, you will see the following output:\n",
    "\n",
    "```text\n",
    "Concept: above, False Positives: no, False Negatives: yes\n",
    "Hawaiian       \tiluna\t   1\t   1\n",
    "Mangareva      \truŋa \t   1\t   1\n",
    "Maori          \tiruŋa\t   1\t   1\n",
    "North_Marquesan\tʔuna \t   1\t   1\n",
    "Rapanui        \truga \t   1\t   1\n",
    "Ra’ivavae      \tɢuʔa \t   1\t   1\n",
    "Tuamotuan      \truŋa \t   1\t   1\n",
    "Rurutuan       \tnuʔa \t   1\t   7\n",
    "Tahitian       \tniʔa \t   1\t   7\n",
    "#\n",
    "Concept: all, False Positives: yes, False Negatives: no\n",
    "Hawaiian       \tapau      \t   1\t   1\n",
    "Mangareva      \tkouroa    \t   2\t   2\n",
    "Maori          \tkatoa     \t   3\t   3\n",
    "Ra’ivavae      \tʔatoʔa    \t   3\t   3\n",
    "Rurutuan       \tpaːʔaːtoʔa\t   3\t   3\n",
    "Sikaiana       \tkatoa     \t   3\t   3\n",
    "Tahitian       \tatoʔa     \t   3\t   3\n",
    "Tuamotuan      \tkatoŋa    \t   3\t   3\n",
    "North_Marquesan\ttiatohu   \t   4\t   3\n",
    "Rapanui        \ttahi      \t   5\t   5\n",
    "#\n",
    "```\n",
    "\n",
    "This output shows you the expert cognate judgment in the first column, and the algorithmic judgments in the second colummn. Differences are easy to spot, as we follow consecutive numerical ordering, so if two numbers are not the same, it means the algorithm differs. "
   ]
  },
  {
   "cell_type": "markdown",
   "metadata": {},
   "source": [
    "#### 5.2 Computing B-Cubed Scores\n",
    "\n",
    "LingPy has a couple of evaluation methods implemented, and since we have original expert cognate judgments from ABVD, we can compare our findings against theirs. Comparing cognate set accuracy is not necessarily a trivial problem, as we deal with cluster comparisons, which is a topic that was debated a lot in circles outside of linguistics, and it would lead us too far away if we discussed it in detail here now. For a linguistic viewpoint with a brief working example of our preferred method, the B-Cubed scores (see [Hauer and Kondrak 2011](http://bibliography.lingpy.org?key=Hauer2011), [Bagga and Baldwin 1998](http://bibliography.lingpy.org?key=Bagga1998), and [Amigo et al. 2009](http://bibliography.lingpy.org?key=Amigo2009)), see List, Greenhill, and Gray (2017). What you need to know, however, is that evaluation in NLP circles usually comes along with the concepts of *precision*, *recall*, and *f-score*. Initially, I found them rather difficult to grasp, as historical linguists usually think in terms of false positives and false negatives. In order to understand the idea, one should think that an algorithm for cognate detection can basically do two things either right or wrong: it could cluster words which are not cognate, or it could fail to cluster words as cognate. In the first case, we would measure this in terms of precision, by counting, how often the algorithm proposes correct or incorrect answers, and in the latter case, we measure the proportion of cognate sets which are missed. In the B-Cubed measure we use, this translates roughly to a measure of false/true positives vs. false/true negatives, but it is not entirely the same. The f-score computes the harmonic mean, which summarizes both values, and we usually want to improve the f-score and we use it to compare different algorithms with each other. \n",
    "\n",
    "Let's start and do this comparison now, by loading the respective functions from the LingPy evaluation module, and computing precision, recall, and f-scores for all our different automatically inferred cognate sets with respect to the gold standard. The gold standard is located in the column `COGID` of the input file, so we need to name this when comparing with any of the other columns (like `LEXSTATID`, etc.)."
   ]
  },
  {
   "cell_type": "code",
   "execution_count": 34,
   "metadata": {},
   "outputs": [
    {
     "name": "stdout",
     "output_type": "stream",
     "text": [
      "turchinid \t0.9474\t0.6864\t0.7960\n",
      "editid    \t0.8112\t0.9608\t0.8797\n",
      "scaid     \t0.8799\t0.8334\t0.8560\n",
      "lexstatid \t0.9515\t0.9173\t0.9341\n",
      "infomap   \t0.9453\t0.9261\t0.9356\n"
     ]
    }
   ],
   "source": [
    "from lingpy.evaluate.acd import bcubes\n",
    "from lingpy import *\n",
    "wl = Wordlist('east-polynesian-lexstat.tsv')\n",
    "\n",
    "for res in ['turchinid', 'editid', 'scaid', 'lexstatid', 'infomap']:\n",
    "    print('{0:10}\\t{1[0]:.4f}\\t{1[1]:.4f}\\t{1[2]:.4f}'.format(\n",
    "        res,\n",
    "        bcubes(wl, 'cogid', res, pprint=False)\n",
    "    ))"
   ]
  },
  {
   "cell_type": "markdown",
   "metadata": {},
   "source": [
    "You can see, that the \"infomap\" method is, in fact, working slightly better than the normal \"lexstat\" method, and you can also see how deep the difference between the correspondence-informed methods and the other methods is."
   ]
  },
  {
   "cell_type": "markdown",
   "metadata": {},
   "source": [
    "## 6 Exporting Data\n",
    "\n",
    "It is clear that for many of those who consult automatic cognate detection, they use the methods in order to be able to do more with the data afterwards. LingPy so far supports quite a few different ways to write your data to file for further use in other software packages. A complete integration of `Nexus` files which transport all information which might be relevant for BEAST, however, does not exist yet (but will be added at some point sooner than later)."
   ]
  },
  {
   "cell_type": "markdown",
   "metadata": {},
   "source": [
    "### 6.1 Nexus-Export\n",
    "\n",
    "Nexus export is straightforward in LingPy, and currently, two formats, MrBayes and BEAST are supported. The following code will export our latest wordlist to Nexus in MrBayes format, using the expert cognate judgments for export:"
   ]
  },
  {
   "cell_type": "code",
   "execution_count": 35,
   "metadata": {},
   "outputs": [
    {
     "name": "stderr",
     "output_type": "stream",
     "text": [
      "2018-05-14 16:46:29,845 [INFO] Data has been written to file <east-polynesian-mb.nex>.\n"
     ]
    }
   ],
   "source": [
    "from lingpy.convert.strings import write_nexus\n",
    "nexus = write_nexus(wl, ref='cogid', mode='mrbayes', filename='east-polynesian-mb.nex')"
   ]
  },
  {
   "cell_type": "markdown",
   "metadata": {},
   "source": [
    "If you want to export the automatic cognate judgments to BEAST nexus format, you can do so by changing the \"mode\" keyword and the \"ref\" keyword:"
   ]
  },
  {
   "cell_type": "code",
   "execution_count": 36,
   "metadata": {},
   "outputs": [
    {
     "name": "stderr",
     "output_type": "stream",
     "text": [
      "2018-05-14 16:46:31,526 [INFO] Data has been written to file <east-polynesian-beast.nex>.\n"
     ]
    }
   ],
   "source": [
    "nexus = write_nexus(wl, ref=\"lexstatid\", mode=\"beast\", filename='east-polynesian-beast.nex')"
   ]
  },
  {
   "cell_type": "markdown",
   "metadata": {},
   "source": [
    "Finally, if you want BEAST to use concept-specific rates instead of general rates for all data, you can do so selecting \"beastwords\" as your mode of choice:"
   ]
  },
  {
   "cell_type": "code",
   "execution_count": 37,
   "metadata": {},
   "outputs": [
    {
     "name": "stderr",
     "output_type": "stream",
     "text": [
      "2018-05-14 16:46:33,172 [INFO] Data has been written to file <east-polynesian-beastw.nex>.\n"
     ]
    }
   ],
   "source": [
    "nexus = write_nexus(wl, ref=\"lexstatid\", mode=\"beastwords\", filename=\"east-polynesian-beastw.nex\")"
   ]
  },
  {
   "cell_type": "markdown",
   "metadata": {},
   "source": [
    "### 6.2 Distances and Trees"
   ]
  },
  {
   "cell_type": "markdown",
   "metadata": {},
   "source": [
    "You can also calculate distances which would be interesting for packages like SplitsTree (Huson 1998), or also Phylip ([Felsenstein 2005](http://bibliography.lingpy.org?key=Felsenstein2005). For this, you need to be careful, however, since distances can be computed in different ways, and you can choose from a multitude of different distances, and they are not (yet) all documented. The distance calculation as a default counts, how many cognates there are for all concepts between each language pair, so in some way, this tries to mimick Swadesh's original idea of distances or similarities between languages:"
   ]
  },
  {
   "cell_type": "code",
   "execution_count": 38,
   "metadata": {},
   "outputs": [
    {
     "name": "stderr",
     "output_type": "stream",
     "text": [
      "2018-05-14 16:46:33,235 [INFO] Successfully calculated dst.\n"
     ]
    },
    {
     "name": "stdout",
     "output_type": "stream",
     "text": [
      " 10\n",
      "Hawaiian   0.00 0.34 0.40 0.31 0.39 0.46 0.37 0.49 0.44 0.31\n",
      "Mangareva  0.34 0.00 0.35 0.28 0.35 0.44 0.39 0.42 0.43 0.28\n",
      "Maori      0.40 0.35 0.00 0.35 0.40 0.48 0.41 0.45 0.45 0.32\n",
      "North_Marqu 0.31 0.28 0.35 0.00 0.38 0.47 0.42 0.40 0.44 0.29\n",
      "Rapanui    0.39 0.35 0.40 0.38 0.00 0.49 0.45 0.43 0.46 0.33\n",
      "Ra’ivavae  0.46 0.44 0.48 0.47 0.49 0.00 0.25 0.62 0.22 0.45\n",
      "Rurutuan   0.37 0.39 0.41 0.42 0.45 0.25 0.00 0.56 0.14 0.34\n",
      "Sikaiana   0.49 0.42 0.45 0.40 0.43 0.62 0.56 0.00 0.59 0.38\n",
      "Tahitian   0.44 0.43 0.45 0.44 0.46 0.22 0.14 0.59 0.00 0.38\n",
      "Tuamotuan  0.31 0.28 0.32 0.29 0.33 0.45 0.34 0.38 0.38 0.00\n",
      "\n"
     ]
    }
   ],
   "source": [
    "import io\n",
    "from lingpy.convert.strings import matrix2dst\n",
    "\n",
    "dst = matrix2dst(wl.get_distances(ref='infomap', mode='swadesh'), wl.taxa)\n",
    "with io.open('east-polynesian.dst', 'w', encoding='utf8') as fp:\n",
    "    fp.write(dst)\n",
    "print(dst)"
   ]
  },
  {
   "cell_type": "markdown",
   "metadata": {},
   "source": [
    "This format follows strictly the Phylip distance format which also cuts off all language names longer than 10 characters (but there are ways to modify this, I can't show them now).\n",
    "\n",
    "\n",
    "As a final experiment, let us create a tree from the distances, using the simple Neighbor-Joining algorithm, and then print this tree to screen."
   ]
  },
  {
   "cell_type": "code",
   "execution_count": 39,
   "metadata": {
    "scrolled": true
   },
   "outputs": [
    {
     "name": "stderr",
     "output_type": "stream",
     "text": [
      "2018-05-14 16:46:33,246 [INFO] Successfully calculated tree.\n"
     ]
    },
    {
     "name": "stdout",
     "output_type": "stream",
     "text": [
      "                    /-Sikaiana\n",
      "          /edge.5--|\n",
      "         |         |          /-Rapanui\n",
      "         |          \\edge.4--|\n",
      "         |                   |          /-Maori\n",
      "         |                    \\edge.3--|\n",
      "         |                             |          /-Hawaiian\n",
      "         |                              \\edge.2--|\n",
      "-root----|                                       |          /-Tuamotuan\n",
      "         |                                        \\edge.1--|\n",
      "         |                                                 |          /-Mangareva\n",
      "         |                                                  \\edge.0--|\n",
      "         |                                                            \\-North_Marquesan\n",
      "         |\n",
      "         |          /-Ra’ivavae\n",
      "          \\edge.7--|\n",
      "                   |          /-Rurutuan\n",
      "                    \\edge.6--|\n",
      "                              \\-Tahitian\n"
     ]
    }
   ],
   "source": [
    "tree = Tree(wl.get_tree(ref='infomap', tree_calc='upgma', force=True))\n",
    "print(tree.asciiArt())\n",
    "\n"
   ]
  },
  {
   "cell_type": "markdown",
   "metadata": {},
   "source": [
    "It is not up to me to judge how good this tree is, and it may also be wrongly rooted in the display. But you can see that LingPy can also handle classical tree formats. Although we do not plan to make LingPy a concurrence for tree inference packages, we find it useful to offer Neighbor-joining and UPGMA just to make it easier for users to quickly evaluate their analyses.\n",
    "\n",
    "\n",
    "\n",
    "\n"
   ]
  },
  {
   "cell_type": "markdown",
   "metadata": {},
   "source": [
    "### 6.3 CLDF Export\n",
    "\n",
    "The Cross-Linguistic Data Formats initiative ([Forkel et al. 2017](http://bibliography.lingpy.org?key=Forkel2017a)) provides standardized formats for the sharing of data amenable for cross-linguistic comparison. LingPy now also offers the possibility to export to CLDF as well as to read CLDF files. Since CLDF is more explicit and powerful than LingPy's file-formats, you can add additional data, like your sources in form of BibTex files. We have prepared a BibTex file along with this tutorial and pass it to the algorithm, so that it becomes included into the CLDF-package:"
   ]
  },
  {
   "cell_type": "code",
   "execution_count": 40,
   "metadata": {},
   "outputs": [],
   "source": [
    "from lingpy.convert.cldf import to_cldf\n",
    "from lingpy.basic.wordlist import from_cldf\n",
    "to_cldf(wl, path='cldf', source_path='polynesian.bib', source='source', form='form')"
   ]
  },
  {
   "cell_type": "markdown",
   "metadata": {},
   "source": [
    "Once the data has been exported, you can easily import it back, using the ```from_cldf``` function. Just make sure to specify the metadata file in JSON format as the path:"
   ]
  },
  {
   "cell_type": "code",
   "execution_count": 41,
   "metadata": {},
   "outputs": [
    {
     "name": "stdout",
     "output_type": "stream",
     "text": [
      "210 10\n"
     ]
    }
   ],
   "source": [
    "wl = from_cldf(\"cldf/Wordlist-metadata.json\")\n",
    "print(wl.height, wl.width)"
   ]
  },
  {
   "cell_type": "markdown",
   "metadata": {},
   "source": [
    "## References\n",
    "\n",
    "<ul>\n",
    "<li>Amigó, E., J. Gonzalo, J. Artiles, and F. Verdejo (2009): <strong>A comparison of extrinsic clustering evaluation metrics based on formal constraints</strong>. <em>Information Retrieval</em> 12.4. 461-486. </li>\n",
    "<li>Bagga, A. and B. Baldwin (1998): <strong>Entity-based cross-document coreferencing using the vector space model</strong>. In: <strong>Proceedings of the 36th Annual Meeting of the Association for Computational Linguistics and 17th International Conference on Computational Linguistics</strong>. Association of Computational Linguistics 79-85.</li>\n",
    "<li>Bouckaert, R., J. Heled, D. Kühnert, T. Vaughan, C.-H. Wu, D. Xie, M. Suchard, A. Rambaut, and A. Drummond (2014): <strong>BEAST 2: A Software Platform for Bayesian Evolutionary Analysis</strong>. <em>PLoS Computational Biology</em> 10.4. e1003537. </li>\n",
    "<li>Brown, C., E. Holman, and S. Wichmann (2013): <strong>Sound correspondences in the world’s languages</strong>. <em>Language</em> 89.1. 4-29. </li>\n",
    "<li>Cs\\’ardi, G. and T. Nepusz (2006): <strong>The igraph software package for complex network research</strong>. <em>InterJournal. Complex Systems</em> .1695. . </li>\n",
    "<li>Dolgopolsky, A. (1964): <strong>Gipoteza drevnejšego rodstva jazykovych semej Severnoj Evrazii s verojatnostej točky zrenija</strong> [A probabilistic hypothesis concering the oldest relationships among the language families of Northern Eurasia]. <em>Voprosy Jazykoznanija</em> 2. 53-63. </li>\n",
    "<li>Downey, S., B. Hallmark, M. Cox, P. Norquest, and S. Lansing (2008): <strong>Computational feature-sensitive reconstruction of language relationships: developing the ALINE distance for comparative historical linguistic reconstruction</strong>. <em>Journal of Quantitative Linguistics</em> 15.4. 340-369. </li>\n",
    "<li>Felsenstein, J. (2005): <strong>PHYLIP (Phylogeny Inference Package)</strong>. </li>\n",
    "<li>Forkel, R., S. Greenhill, and J.-M. List (2017): <strong>Cross-Linguistic Data Formats (CLDF)</strong>. Max Planck Institute for the Science of Human History: Jena.</li>\n",
    "<li>Greenhill, S., R. Blust, and R. Gray (2008): <strong>The Austronesian Basic Vocabulary Database: From bioinformatics to lexomics</strong>. <em>Evolutionary Bioinformatics</em> 4. 271-283. </li>\n",
    "<li>Hammarström, H., R. Forkel, and M. Haspelmath (2017): <strong>Glottolog</strong>. Max Planck Institute for Evolutionary Anthropology: Leipzig. </li>\n",
    "<li>Hauer, B. and G. Kondrak (2011): <strong>Clustering semantically equivalent words into cognate sets in multilingual lists</strong>. In: <strong>Proceedings of the 5th International Joint Conference on Natural Language Processing</strong>. AFNLP 865-873.</li>\n",
    "<li>Huson, D. (1998): <strong>SplitsTree: analyzing and visualizing evolutionary data</strong>. <em>Bioinformatics</em> 14.1. 68-73. </li>\n",
    "<li>Levenshtein, V. (1965): <strong>Dvoičnye kody s ispravleniem vypadenij, vstavok i zameščenij simvolov</strong> [Binary codes with correction of deletions, insertions and replacements]. <em>Doklady Akademij Nauk SSSR</em> 163.4. 845-848. </li>\n",
    "<li>List, J.-M. (2012): <strong>SCA. Phonetic alignment based on sound classes</strong>. In: Slavkovik, M. and D. Lassiter (eds.): <strong>New directions in logic, language, and computation</strong>. Springer: Berlin and Heidelberg. 32-51.</li>\n",
    "<li>List, J.-M. (2012): <strong>LexStat. Automatic detection of cognates in multilingual wordlists</strong>. In: <strong>Proceedings of the EACL 2012 Joint Workshop of Visualization of Linguistic Patterns and Uncovering Language History from Multilingual Resources</strong>. 117-125.</li>\n",
    "<li>List, J.-M. (2014): <strong>Investigating the impact of sample size on cognate detection</strong>. <em>Journal of Language Relationship</em> 11. 91-101. </li>\n",
    "<li>List, J.-M. (2014): <strong>Sequence comparison in historical linguistics</strong>. Düsseldorf University Press: Düsseldorf.</li>\n",
    "<li>List, J.-M., M. Cysouw, and R. Forkel (2016): <strong>Concepticon. A resource for the linking of concept lists</strong>. In: <strong>Proceedings of the Tenth International Conference on Language Resources and Evaluation</strong>. 2393-2400.</li>\n",
    "<li>List, J.-M., P. Lopez, and E. Bapteste (2016): <strong>Using sequence similarity networks to identify partial cognates in multilingual wordlists</strong>. In: <strong>Proceedings of the Association of Computational Linguistics 2016 (Volume 2: Short Papers)</strong>. Association of Computational Linguistics 599-605.</li>\n",
    "<li>List, J.-M. (2017): <strong>Introduction to computer-assisted language comparison</strong> [Einführung in den computergestützten Sprachvergleich]. Institute of Linguistics: Nankai University (Tianjin, China).</li>\n",
    "<li>List, J.-M., S. Greenhill, and R. Gray (2017): <strong>The potential of automatic word comparison for historical linguistics</strong>. <em>PLOS ONE</em> 12.1. 1-18. </li>\n",
    "<li>List, J.-M. (2017): <strong>A web-based interactive tool for creating, inspecting, editing, and publishing etymological datasets</strong>. In: <strong>Proceedings of the 15th Conference of the European Chapter of the Association for Computational Linguistics. System Demonstrations</strong>. 9-12.</li>\n",
    "<li>List, J.-M. and R. Forkel (2017): <strong>LingPy. A Python library for historical linguistics</strong>. Max Planck Institute for the Science of Human History: Jena. </li>\n",
    "<li>Moran, S. and M. Cysouw (2017): <strong>The Unicode Cookbook for Linguists: Managing\n",
    "writing systems using orthography profiles</strong>. Zenodo: Zürich.</li>\n",
    "<li>Notredame, C., D. Higgins, and J. Heringa (2000): <strong>T-Coffee</strong><strong>. A novel method for fast and accurate multiple sequence alignment</strong>. <em>Journal of Molecular Biology</em> 302. 205-217. </li>\n",
    "<li>Rosvall, M. and C. Bergstrom (2008): <strong>Maps of random walks on complex networks reveal community structure</strong>. <em>Proceedings of the National Academy of Sciences</em> 105.4. 1118-1123. </li>\n",
    "<li>Saitou, N. and M. Nei (1987): <strong>The neighbor-joining method: A new method for reconstructing phylogenetic trees</strong>. <em>Molecular Biology and Evolution</em> 4.4. 406-425. </li>\n",
    "<li>Sokal, R. and C. Michener (1958): <strong>A statistical method for evaluating systematic relationships</strong>. <em>University of Kansas Scientific Bulletin</em> 28. 1409-1438. </li>\n",
    "<li>Turchin, P., I. Peiros, and M. Gell-Mann (2010): <strong>Analyzing genetic connections between languages by matching consonant classes</strong>. <em>Journal of Language Relationship</em> 3. 117-126. </li>\n",
    "</ul>\n"
   ]
  }
 ],
 "metadata": {
  "kernelspec": {
   "display_name": "Python 3",
   "language": "python",
   "name": "python3"
  },
  "language_info": {
   "codemirror_mode": {
    "name": "ipython",
    "version": 3
   },
   "file_extension": ".py",
   "mimetype": "text/x-python",
   "name": "python",
   "nbconvert_exporter": "python",
   "pygments_lexer": "ipython3",
   "version": "3.5.2"
  }
 },
 "nbformat": 4,
 "nbformat_minor": 1
}
